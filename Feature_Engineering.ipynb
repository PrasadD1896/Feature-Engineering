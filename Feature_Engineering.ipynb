{
 "cells": [
  {
   "cell_type": "markdown",
   "metadata": {
    "id": "D60svomEZoiL"
   },
   "source": [
    "# Feature Engineering: Unlocking the Power of Data Transformation"
   ]
  },
  {
   "cell_type": "markdown",
   "metadata": {
    "id": "haYKAxksZpk7"
   },
   "source": [
    "Feature engineering is a critical component of the machine learning workflow that involves transforming raw data into meaningful features that can improve the performance of predictive models. It plays a crucial role in extracting relevant information and reducing noise, ultimately enabling the models to capture underlying patterns and make accurate predictions. This article aims to provide an in-depth exploration of feature engineering techniques, ranging from the basic to the advanced, with practical examples and insights into their applications."
   ]
  },
  {
   "cell_type": "markdown",
   "metadata": {
    "id": "w2IifDX9ZpuC"
   },
   "source": [
    "## Table of Contents:\n",
    "\n",
    "1. The Importance of Feature Engineering\n",
    "\n",
    "\n",
    "2. Basic Feature Engineering Techniques\n",
    "\n",
    "   2.1  Handling Missing Data\n",
    "\n",
    "   2.2 Dealing with Categorical Variables\n",
    "\n",
    "   2.3 Feature Scaling and Normalization\n",
    "\n",
    "   2.4 Binning and Discretization\n",
    "\n",
    "   2.5 Date and Time Features\n",
    "\n",
    "\n",
    "3. Feature Extraction Techniques\n",
    "\n",
    "   3.1 Textual Data\n",
    "\n",
    "   3.2 Image Data\n",
    "\n",
    "   3.3 Audio Data\n",
    "   \n",
    "   3.4 Time Series Data\n",
    "   \n",
    "\n",
    "4. Feature Selection Methods\n",
    "\n",
    "   4.1 Filter Methods\n",
    "\n",
    "   4.2 Wrapper Methods\n",
    "\n",
    "   4.3 Embedded Methods\n",
    "   \n",
    "\n",
    "5. Feature Construction Techniques\n",
    "   \n",
    "   5.1 Polynomial Features\n",
    "   \n",
    "   5.2 Interaction Terms\n",
    "   \n",
    "   5.3 Domain-Specific Feature Engineering\n",
    "   \n",
    "   5.4 Feature Scaling Revisited\n",
    "   \n",
    "   \n",
    "6. Feature Encoding Methods\n",
    "\n",
    "   6.1 One-Hot Encoding\n",
    "\n",
    "   6.2 Label Encoding\n",
    "\n",
    "   6.3 Target Encoding\n",
    "\n",
    "   6.4 Frequency Encoding\n",
    "   \n",
    "   \n",
    "7. Handling Imbalanced Data\n",
    "   \n",
    "   7.1 Undersampling\n",
    "   \n",
    "   7.2 Oversampling\n",
    "   \n",
    "   7.3 Synthetic Minority Over-sampling Technique (SMOTE)\n",
    "   \n",
    "   \n",
    "8. Feature Engineering for Time Series Data\n",
    "   \n",
    "   8.1 Lagged Features\n",
    "   \n",
    "   8.2 Rolling and Expanding Window Statistics\n",
    "   \n",
    "   8.3 Time-based Features\n",
    "   \n",
    "   \n",
    "9. Advanced Feature Engineering Techniques\n",
    "   \n",
    "   9.1 Feature Embeddings\n",
    "   \n",
    "   9.2 Dimensionality Reduction Techniques\n",
    "   \n",
    "   9.3 Feature Importance and Selection with Tree-Based Models\n",
    "   \n",
    "   9.4 Automated Feature Engineering with AutoML\n",
    "   \n",
    "   \n",
    "10. Evaluating the Impact of Feature Engineering\n",
    "\n",
    "\n",
    "11. Challenges and Best Practices in Feature Engineering\n"
   ]
  },
  {
   "cell_type": "markdown",
   "metadata": {
    "id": "aIQ7krcPZpyT"
   },
   "source": [
    "## 1. The Importance of Feature Engineering:"
   ]
  },
  {
   "cell_type": "markdown",
   "metadata": {
    "id": "BqSQEPbUZp2K"
   },
   "source": [
    "Feature engineering plays a crucial role in the success of machine learning models. It involves transforming raw data into meaningful and informative features that capture the underlying patterns and relationships within the data. While advancements in algorithms and computing power have garnered significant attention, feature engineering remains a fundamental and essential step in the machine learning pipeline. This article will explore the importance of feature engineering and its impact on model performance and predictive accuracy.\n",
    "\n",
    "1. Enhanced Representation of Data:\n",
    "Raw data often contains noise, irrelevant information, or missing values. By carefully engineering features, we can extract the most relevant information from the data, reducing noise and capturing the essential characteristics that drive the target variable. This process allows us to create a more focused and informative representation of the data, enabling machine learning models to learn meaningful patterns and make accurate predictions.\n",
    "\n",
    "\n",
    "2. Improved Model Performance:\n",
    "Feature engineering has a direct impact on model performance. Well-engineered features can lead to better discrimination between classes, improved separability of data points, and reduced model bias. By selecting or creating features that are highly correlated with the target variable, we can enhance the model's ability to capture the underlying patterns and relationships in the data, resulting in higher predictive accuracy.\n",
    "\n",
    "\n",
    "3. Handling of Missing Data and Outliers:\n",
    "Missing data and outliers are common challenges in real-world datasets. Feature engineering techniques provide mechanisms to handle these issues effectively. Through imputation methods, missing values can be estimated based on other features, ensuring the preservation of valuable information. Additionally, feature engineering can include outlier detection and treatment, allowing for the identification and handling of outliers that may otherwise disrupt the learning process and adversely impact model performance.\n",
    "\n",
    "\n",
    "4. Encoding Categorical Variables:\n",
    "Categorical variables pose unique challenges in machine learning, as algorithms typically operate on numerical data. Feature engineering techniques, such as one-hot encoding, label encoding, or target encoding, enable the transformation of categorical variables into numerical representations that can be effectively utilized by machine learning algorithms. By appropriately encoding categorical variables, we can unlock the predictive power of these features and harness their contribution to model performance.\n",
    "\n",
    "\n",
    "5. Extraction of Domain-Specific Knowledge:\n",
    "Feature engineering allows the incorporation of domain-specific knowledge into the modeling process. Domain experts can leverage their understanding of the problem and the underlying data to engineer features that capture relevant aspects of the domain. This not only improves the interpretability of the model but also enhances its performance by leveraging insights and patterns specific to the problem domain.\n",
    "\n",
    "\n",
    "6. Handling of Complex Relationships:\n",
    "Feature engineering enables the creation of new features by combining or transforming existing ones. This allows the capture of complex relationships that may not be apparent in the raw data. By incorporating interactions, ratios, or transformations of features, we can model non-linear relationships, capture higher-order interactions, and represent complex dependencies between variables, leading to improved model performance.\n",
    "\n",
    "\n",
    "7. Reducing Dimensionality and Overfitting:\n",
    "Feature engineering plays a crucial role in reducing dimensionality and combating overfitting, particularly when dealing with high-dimensional datasets. Dimensionality reduction techniques, such as PCA or feature selection methods, can be applied to identify the most informative features and discard redundant or irrelevant ones. By reducing the feature space, we mitigate the risk of overfitting, improve computational efficiency, and enhance the generalization capability of the model."
   ]
  },
  {
   "cell_type": "markdown",
   "metadata": {
    "id": "5Lhl3fGEbRyI"
   },
   "source": [
    "## 2. Basic Feature Engineering Techniques:"
   ]
  },
  {
   "cell_type": "markdown",
   "metadata": {
    "id": "GUCK_hl6bR2f"
   },
   "source": [
    "Feature engineering encompasses a range of techniques that transform raw data into meaningful features for machine learning models. In this section, we will explore several fundamental techniques that form the building blocks of feature engineering. These techniques include handling missing data, dealing with categorical variables, feature scaling and normalization, binning and discretization, and extracting date and time features."
   ]
  },
  {
   "cell_type": "markdown",
   "metadata": {
    "id": "GIzEA53UbR5y"
   },
   "source": [
    "### 2.1 Handling Missing Data:"
   ]
  },
  {
   "cell_type": "markdown",
   "metadata": {
    "id": "wjfmkRNEbSAY"
   },
   "source": [
    "Missing data is a common occurrence in real-world datasets and can significantly impact model performance if not addressed properly. Here are some techniques to handle missing data:\n",
    "\n",
    "### a) Deletion:\n",
    "\n",
    "In cases where the missing values are few and randomly distributed, you can choose to delete the corresponding rows or columns. However, this approach should be used with caution, as it can lead to information loss."
   ]
  },
  {
   "cell_type": "code",
   "execution_count": 16,
   "metadata": {
    "colab": {
     "base_uri": "https://localhost:8080/"
    },
    "id": "gtPuow2gZnkw",
    "outputId": "f70d3169-dd05-4a6a-9f78-42a8ee77a062"
   },
   "outputs": [
    {
     "name": "stdout",
     "output_type": "stream",
     "text": [
      "     A    B     C\n",
      "3  4.0  8.0  12.0\n",
      "Empty DataFrame\n",
      "Columns: []\n",
      "Index: [0, 1, 2, 3]\n"
     ]
    }
   ],
   "source": [
    "# Import Required Libraries\n",
    "import pandas as pd\n",
    "import warnings\n",
    "warnings.filterwarnings('ignore')\n",
    "\n",
    "# Create a DataFrame with missing values\n",
    "data = {'A': [1, 2, None, 4],\n",
    "        'B': [5, None, 7, 8],\n",
    "        'C': [None, 10, 11, 12]}\n",
    "df = pd.DataFrame(data)\n",
    "\n",
    "# Drop rows with missing values\n",
    "df_without_missing = df.dropna()\n",
    "\n",
    "print(df_without_missing)\n",
    "\n",
    "# Drop columns with missing values\n",
    "df_without_missing_columns = df.dropna(axis=1)\n",
    "\n",
    "print(df_without_missing_columns)\n",
    "\n"
   ]
  },
  {
   "cell_type": "markdown",
   "metadata": {
    "id": "hVM4vzhybSDk"
   },
   "source": [
    "### b) Imputation: \n",
    "\n",
    "Missing values can be replaced with estimated values. Simple imputation methods include mean, median, or mode imputation, where missing values are replaced with the mean, median, or mode of the respective feature. Another approach is to use regression imputation, where missing values are predicted based on other features using regression models."
   ]
  },
  {
   "cell_type": "code",
   "execution_count": 3,
   "metadata": {
    "colab": {
     "base_uri": "https://localhost:8080/"
    },
    "id": "z5fxtZqSdTdh",
    "outputId": "3e69ceae-4a2c-4872-cd2c-86c17e4a99fc"
   },
   "outputs": [
    {
     "name": "stdout",
     "output_type": "stream",
     "text": [
      "          A         B     C\n",
      "0  1.000000  5.000000  11.0\n",
      "1  2.000000  6.666667  10.0\n",
      "2  2.333333  7.000000  11.0\n",
      "3  4.000000  8.000000  12.0\n"
     ]
    }
   ],
   "source": [
    "# Import Required Libraries\n",
    "import pandas as pd\n",
    "\n",
    "# Create a DataFrame with missing values\n",
    "data = {'A': [1, 2, None, 4],\n",
    "        'B': [5, None, 7, 8],\n",
    "        'C': [None, 10, 11, 12]}\n",
    "df = pd.DataFrame(data)\n",
    "\n",
    "# Impute missing values with mean\n",
    "df_imputed = df.fillna(df.mean())\n",
    "\n",
    "print(df_imputed)\n",
    "\n",
    "# Impute missing values with median\n",
    "# df_imputed = df.fillna(df.median())\n",
    "\n",
    "# Impute missing values with a constant value\n",
    "# df_imputed = df.fillna(0)"
   ]
  },
  {
   "cell_type": "markdown",
   "metadata": {
    "id": "Zqis_4xbhJAs"
   },
   "source": [
    "### c) Indicator Variables: \n",
    "\n",
    "For categorical features, you can create an additional binary feature indicating whether the value was missing or not. This preserves the information about missingness and allows the model to learn patterns associated with missing values."
   ]
  },
  {
   "cell_type": "code",
   "execution_count": 7,
   "metadata": {
    "colab": {
     "base_uri": "https://localhost:8080/"
    },
    "id": "tflaD4kxhM5n",
    "outputId": "0782697c-cb14-40ab-cb55-1d6cacbbe4e5"
   },
   "outputs": [
    {
     "name": "stdout",
     "output_type": "stream",
     "text": [
      "   Color_Blue  Color_Red  Size_Large  Size_Medium  Size_Small\n",
      "0           0          1           0            0           1\n",
      "1           1          0           0            1           0\n",
      "2           0          0           1            0           0\n",
      "3           0          1           0            0           0\n",
      "4           1          0           0            0           1\n"
     ]
    }
   ],
   "source": [
    "# Import Required Libraries\n",
    "import pandas as pd\n",
    "from sklearn.impute import SimpleImputer\n",
    "\n",
    "# Create a DataFrame with missing values\n",
    "data = {'Color': ['Red', 'Blue', None, 'Red', 'Blue'],\n",
    "        'Size': ['Small', 'Medium', 'Large', None, 'Small']}\n",
    "df = pd.DataFrame(data)\n",
    "\n",
    "# Create indicator variables using get_dummies()\n",
    "indicator_variables = pd.get_dummies(df)\n",
    "\n",
    "# Perform imputation using SimpleImputer\n",
    "imputer = SimpleImputer(strategy='most_frequent')\n",
    "imputed_values = imputer.fit_transform(indicator_variables)\n",
    "\n",
    "# Convert the imputed values back to a DataFrame\n",
    "imputed_df = pd.DataFrame(imputed_values, columns=indicator_variables.columns)\n",
    "\n",
    "print(imputed_df)\n"
   ]
  },
  {
   "cell_type": "markdown",
   "metadata": {
    "id": "xRdYKuO0jzFR"
   },
   "source": [
    "## 2.2 Dealing with Categorical Variables"
   ]
  },
  {
   "cell_type": "markdown",
   "metadata": {
    "id": "54zwvjydjzB5"
   },
   "source": [
    "Categorical variables represent qualitative characteristics and require special treatment during feature engineering. Here are some techniques for handling categorical variables:"
   ]
  },
  {
   "cell_type": "markdown",
   "metadata": {
    "id": "GVrxO3Zuj_OZ"
   },
   "source": [
    "### a) One-Hot Encoding:"
   ]
  },
  {
   "cell_type": "markdown",
   "metadata": {
    "id": "dQY_TFGUkFhx"
   },
   "source": [
    " In this approach, each category of a categorical variable is transformed into a binary feature. For example, if a variable \"color\" has categories \"red,\" \"blue,\" and \"green,\" it would be encoded as three separate binary features: \"color_red,\" \"color_blue,\" and \"color_green.\""
   ]
  },
  {
   "cell_type": "code",
   "execution_count": 8,
   "metadata": {
    "colab": {
     "base_uri": "https://localhost:8080/"
    },
    "id": "j6Sbegl1kH45",
    "outputId": "8e07e811-6c8b-4e6a-ac27-f4f38644e1ec"
   },
   "outputs": [
    {
     "name": "stdout",
     "output_type": "stream",
     "text": [
      "   Color_Blue  Color_Green  Color_Red  Size_Large  Size_Medium  Size_Small\n",
      "0           0            0          1           0            0           1\n",
      "1           1            0          0           0            1           0\n",
      "2           0            1          0           1            0           0\n",
      "3           0            0          1           0            1           0\n",
      "4           1            0          0           0            0           1\n"
     ]
    }
   ],
   "source": [
    "# Import Required Libraries\n",
    "import pandas as pd\n",
    "\n",
    "# Create a DataFrame with categorical variables\n",
    "data = {'Color': ['Red', 'Blue', 'Green', 'Red', 'Blue'],\n",
    "        'Size': ['Small', 'Medium', 'Large', 'Medium', 'Small']}\n",
    "df = pd.DataFrame(data)\n",
    "\n",
    "# Perform one-hot encoding using get_dummies()\n",
    "one_hot_encoded = pd.get_dummies(df)\n",
    "\n",
    "print(one_hot_encoded)"
   ]
  },
  {
   "cell_type": "markdown",
   "metadata": {
    "id": "wLlL4ALUj-6n"
   },
   "source": [
    "### b) Label Encoding:"
   ]
  },
  {
   "cell_type": "markdown",
   "metadata": {
    "id": "2jE8RBHUj--f"
   },
   "source": [
    "Label encoding assigns a unique numerical label to each category of a categorical variable. However, this method introduces an implicit ordering among categories, which may mislead the model. It is typically suitable for ordinal variables where the order matters."
   ]
  },
  {
   "cell_type": "code",
   "execution_count": 9,
   "metadata": {
    "colab": {
     "base_uri": "https://localhost:8080/"
    },
    "id": "BD4-vItQl_dG",
    "outputId": "3de6cef1-8fe5-44b8-9984-d9e3303940ec"
   },
   "outputs": [
    {
     "name": "stdout",
     "output_type": "stream",
     "text": [
      "[2 0 1 2 0]\n"
     ]
    }
   ],
   "source": [
    "# Import Required Libraries\n",
    "from sklearn.preprocessing import LabelEncoder\n",
    "\n",
    "# Create a list with categorical variables\n",
    "colors = ['Red', 'Blue', 'Green', 'Red', 'Blue']\n",
    "\n",
    "# Initialize the LabelEncoder\n",
    "label_encoder = LabelEncoder()\n",
    "\n",
    "# Perform label encoding\n",
    "encoded_colors = label_encoder.fit_transform(colors)\n",
    "\n",
    "print(encoded_colors)"
   ]
  },
  {
   "cell_type": "markdown",
   "metadata": {
    "id": "8zQqJzUmmVcw"
   },
   "source": [
    "### c) Target Encoding: "
   ]
  },
  {
   "cell_type": "markdown",
   "metadata": {
    "id": "zBaBZwL5nTP7"
   },
   "source": [
    "Target encoding replaces each category with the mean target value of the corresponding category. This technique can be useful when there is a correlation between the categorical variable and the target variable."
   ]
  },
  {
   "cell_type": "code",
   "execution_count": 17,
   "metadata": {
    "colab": {
     "base_uri": "https://localhost:8080/"
    },
    "id": "lUZq2_9nmMym",
    "outputId": "e7ae4ae0-3898-47d4-933f-5e2aeddb19eb"
   },
   "outputs": [
    {
     "name": "stdout",
     "output_type": "stream",
     "text": [
      "  category  target  category_target_encoded\n",
      "0        A       1                        1\n",
      "1        B       0                        1\n",
      "2        A       1                        1\n",
      "3        C       0                        0\n",
      "4        B       1                        0\n",
      "5        C       0                        0\n"
     ]
    }
   ],
   "source": [
    "# Import Required Libraries\n",
    "import pandas as pd\n",
    "from sklearn.model_selection import KFold\n",
    "\n",
    "# Sample dataset with a categorical feature 'category' and a target variable 'target'\n",
    "data = pd.DataFrame({\n",
    "    'category': ['A', 'B', 'A', 'C', 'B', 'C'],\n",
    "    'target': [1, 0, 1, 0, 1, 0]\n",
    "})\n",
    "\n",
    "# Create a new column to store the target-encoded values\n",
    "data['category_target_encoded'] = 0\n",
    "\n",
    "# Perform target encoding using K-fold cross-validation\n",
    "kf = KFold(n_splits=5, shuffle=True, random_state=42)\n",
    "for train_index, val_index in kf.split(data):\n",
    "    train_data = data.iloc[train_index]\n",
    "    val_data = data.iloc[val_index]\n",
    "    \n",
    "    # Calculate the mean target value for each category in the training set\n",
    "    category_mean = train_data.groupby('category')['target'].mean()\n",
    "    \n",
    "    # Map the mean target values to the corresponding categories in the validation set\n",
    "    val_data['category_target_encoded'] = val_data['category'].map(category_mean)\n",
    "    \n",
    "    # Update the target-encoded values in the main dataset\n",
    "    data.iloc[val_index] = val_data\n",
    "\n",
    "print(data)"
   ]
  },
  {
   "cell_type": "markdown",
   "metadata": {
    "id": "NWvUKhkHmVgW"
   },
   "source": [
    "### d) Frequency Encoding: "
   ]
  },
  {
   "cell_type": "markdown",
   "metadata": {
    "id": "FcHMy73JmV7w"
   },
   "source": [
    "Frequency encoding replaces each category with its frequency in the dataset. It can capture the information about the distribution of categories, especially when certain categories occur more frequently than others."
   ]
  },
  {
   "cell_type": "code",
   "execution_count": 11,
   "metadata": {
    "colab": {
     "base_uri": "https://localhost:8080/"
    },
    "id": "QIY9i9MlnR2w",
    "outputId": "e9e9fb80-4ee8-4fc4-83c1-b98d4c65e557"
   },
   "outputs": [
    {
     "name": "stdout",
     "output_type": "stream",
     "text": [
      "  category  category_frequency_encoded\n",
      "0        A                    0.333333\n",
      "1        B                    0.333333\n",
      "2        A                    0.333333\n",
      "3        C                    0.333333\n",
      "4        B                    0.333333\n",
      "5        C                    0.333333\n"
     ]
    }
   ],
   "source": [
    "# Import Required Libraries\n",
    "import pandas as pd\n",
    "\n",
    "# Sample dataset with a categorical feature 'category'\n",
    "data = pd.DataFrame({\n",
    "    'category': ['A', 'B', 'A', 'C', 'B', 'C']\n",
    "})\n",
    "\n",
    "# Calculate the frequency of each category in the dataset\n",
    "category_counts = data['category'].value_counts()\n",
    "\n",
    "# Create a new column to store the frequency-encoded values\n",
    "data['category_frequency_encoded'] = data['category'].map(category_counts) / len(data)\n",
    "\n",
    "print(data)"
   ]
  },
  {
   "cell_type": "markdown",
   "metadata": {
    "id": "4ZrJ0TFjnhWO"
   },
   "source": [
    "## 2.3 Feature Scaling and Normalization:"
   ]
  },
  {
   "cell_type": "markdown",
   "metadata": {
    "id": "uTfdHRS3nhZS"
   },
   "source": [
    "Feature scaling ensures that all features are on a similar scale, preventing some features from dominating others during model training. Common techniques for feature scaling include:"
   ]
  },
  {
   "cell_type": "markdown",
   "metadata": {
    "id": "5rArF_QPnhc0"
   },
   "source": [
    "### a) Standardization:"
   ]
  },
  {
   "cell_type": "markdown",
   "metadata": {
    "id": "P1qUT-bknn8d"
   },
   "source": [
    "Standardization scales the features to have zero mean and unit variance. It subtracts the mean and divides by the standard deviation of each feature. This technique is suitable when the features are normally distributed or have outliers."
   ]
  },
  {
   "cell_type": "code",
   "execution_count": 13,
   "metadata": {
    "colab": {
     "base_uri": "https://localhost:8080/"
    },
    "id": "4vm102WRpUfX",
    "outputId": "7f1cb374-cf64-4518-95fc-04e28221cdf2"
   },
   "outputs": [
    {
     "name": "stdout",
     "output_type": "stream",
     "text": [
      "[[-1.41421356 -0.85361006]\n",
      " [-0.70710678 -0.74757154]\n",
      " [ 0.         -0.6150234 ]\n",
      " [ 0.70710678  0.44536177]\n",
      " [ 1.41421356  1.77084323]]\n",
      "[[2.12132034 3.0963247 ]\n",
      " [2.82842712 4.42180616]\n",
      " [3.53553391 5.74728762]]\n"
     ]
    }
   ],
   "source": [
    "# Import Required Libraries\n",
    "from sklearn.preprocessing import StandardScaler\n",
    "import pandas as pd\n",
    "\n",
    "# Create a DataFrame with numerical features\n",
    "data = {'Feature1': [10, 20, 30, 40, 50],\n",
    "        'Feature2': [0.001, 0.005, 0.01, 0.05, 0.1]}\n",
    "df = pd.DataFrame(data)\n",
    "\n",
    "# Initialize the StandardScaler\n",
    "scaler = StandardScaler()\n",
    "\n",
    "# Perform standardization\n",
    "standardized_features = scaler.fit_transform(df)\n",
    "\n",
    "print(standardized_features)\n",
    "\n",
    "new_data = {'Feature1': [60, 70, 80],\n",
    "            'Feature2': [0.15, 0.2, 0.25]}\n",
    "new_df = pd.DataFrame(new_data)\n",
    "\n",
    "# Apply the same standardization to new data\n",
    "standardized_new_features = scaler.transform(new_df)\n",
    "\n",
    "print(standardized_new_features)"
   ]
  },
  {
   "cell_type": "markdown",
   "metadata": {
    "id": "MjwnuL9spxI7"
   },
   "source": [
    "The new data is transformed using the mean and standard deviation computed from the original data. Remember to fit the scaler on the training data and then use the same scaler to transform both the training and testing data to ensure consistency."
   ]
  },
  {
   "cell_type": "markdown",
   "metadata": {
    "id": "53P3dd96noAd"
   },
   "source": [
    "### b) Min-Max Scaling:"
   ]
  },
  {
   "cell_type": "markdown",
   "metadata": {
    "id": "6RUYXIKuns0q"
   },
   "source": [
    "Min-max scaling scales the features to a specific range, typically between 0 and 1. It subtracts the minimum value and divides by the difference between the maximum and minimum values. Min-max scaling preserves the original distribution and is suitable when the features have a bounded range."
   ]
  },
  {
   "cell_type": "code",
   "execution_count": 14,
   "metadata": {
    "colab": {
     "base_uri": "https://localhost:8080/"
    },
    "id": "oy_NGKhSnv3i",
    "outputId": "fbc576b6-289e-4d82-9632-8948571db166"
   },
   "outputs": [
    {
     "name": "stdout",
     "output_type": "stream",
     "text": [
      "[[0.         0.        ]\n",
      " [0.25       0.04040404]\n",
      " [0.5        0.09090909]\n",
      " [0.75       0.49494949]\n",
      " [1.         1.        ]]\n",
      "[[1.25       1.50505051]\n",
      " [1.5        2.01010101]\n",
      " [1.75       2.51515152]]\n"
     ]
    }
   ],
   "source": [
    "# Import Required Libraries\n",
    "from sklearn.preprocessing import MinMaxScaler\n",
    "import pandas as pd\n",
    "\n",
    "# Create a DataFrame with numerical features\n",
    "data = {'Feature1': [10, 20, 30, 40, 50],\n",
    "        'Feature2': [0.001, 0.005, 0.01, 0.05, 0.1]}\n",
    "df = pd.DataFrame(data)\n",
    "\n",
    "# Initialize the MinMaxScaler\n",
    "scaler = MinMaxScaler()\n",
    "\n",
    "# Perform Min-Max scaling\n",
    "scaled_features = scaler.fit_transform(df)\n",
    "\n",
    "print(scaled_features)\n",
    "\n",
    "new_data = {'Feature1': [60, 70, 80],\n",
    "            'Feature2': [0.15, 0.2, 0.25]}\n",
    "new_df = pd.DataFrame(new_data)\n",
    "\n",
    "# Apply the same Min-Max scaling to new data\n",
    "scaled_new_features = scaler.transform(new_df)\n",
    "\n",
    "print(scaled_new_features)"
   ]
  },
  {
   "cell_type": "markdown",
   "metadata": {
    "id": "w3rcK8USqC8m"
   },
   "source": [
    "The new data is transformed using the minimum and maximum values computed from the original data. Remember to fit the scaler on the training data and then use the same scaler to transform both the training and testing data to ensure consistency."
   ]
  },
  {
   "cell_type": "markdown",
   "metadata": {
    "id": "J1tzjxeXqQLQ"
   },
   "source": [
    "### c) Normalization by Vector Norms:"
   ]
  },
  {
   "cell_type": "markdown",
   "metadata": {
    "id": "Tx6NN_QQqQPK"
   },
   "source": [
    "Normalization by Vector Norms scales each sample (row) in a dataset to have a unit norm. The norm can be calculated using various techniques such as L1 norm (Manhattan norm) or L2 norm (Euclidean norm). "
   ]
  },
  {
   "cell_type": "code",
   "execution_count": 18,
   "metadata": {
    "colab": {
     "base_uri": "https://localhost:8080/"
    },
    "id": "GZM80Kr7qAVc",
    "outputId": "149f3ccf-97eb-4d13-caba-cb7d6fa9df83"
   },
   "outputs": [
    {
     "name": "stdout",
     "output_type": "stream",
     "text": [
      "[[0.9486833  0.31622777]\n",
      " [0.89442719 0.4472136 ]]\n",
      "[[0.85749293 0.51449576]\n",
      " [0.83205029 0.5547002 ]]\n"
     ]
    }
   ],
   "source": [
    "# Import Required Libraries\n",
    "from sklearn.preprocessing import Normalizer\n",
    "import pandas as pd\n",
    "\n",
    "# Create a DataFrame with numerical features\n",
    "data = {'Feature1': [3, 4],\n",
    "        'Feature2': [1, 2]}\n",
    "df = pd.DataFrame(data)\n",
    "\n",
    "# Initialize the Normalizer\n",
    "normalizer = Normalizer(norm='l2')\n",
    "\n",
    "# Perform normalization by vector norms\n",
    "normalized_features = normalizer.transform(df)\n",
    "\n",
    "print(normalized_features)\n",
    "\n",
    "new_data = {'Feature1': [5, 6],\n",
    "            'Feature2': [3, 4]}\n",
    "new_df = pd.DataFrame(new_data)\n",
    "\n",
    "# Apply the same normalization to new data\n",
    "normalized_new_features = normalizer.transform(new_df)\n",
    "\n",
    "print(normalized_new_features)"
   ]
  },
  {
   "cell_type": "markdown",
   "metadata": {
    "id": "J7lohGiNqQTT"
   },
   "source": [
    "The new data is normalized using the same norm computed from the original data.\n",
    "Remember to fit the Normalizer on the training data and then use the same Normalizer to transform both the training and testing data to ensure consistency."
   ]
  },
  {
   "cell_type": "markdown",
   "metadata": {
    "id": "7CCRIoBYrOKn"
   },
   "source": [
    "## 2.4 Binning and Discretization:"
   ]
  },
  {
   "cell_type": "markdown",
   "metadata": {
    "id": "--Ai_laKr83m"
   },
   "source": [
    "Binning and discretization are techniques used to transform continuous numerical data into categorical or discrete bins. This can be helpful in cases where the exact numerical values are less important than the ranges or categories they fall into."
   ]
  },
  {
   "cell_type": "markdown",
   "metadata": {
    "id": "X3Shnza8rN5Q"
   },
   "source": [
    "### a) Equal-Width Binning: "
   ]
  },
  {
   "cell_type": "markdown",
   "metadata": {
    "id": "9yNaRtoDsEW6"
   },
   "source": [
    "This method divides the range of values into equal-width intervals. For example, if a feature ranges from 0 to 100 and you want 5 bins, each bin would cover a range of 20 units (0-20, 20-40, etc.)."
   ]
  },
  {
   "cell_type": "code",
   "execution_count": 19,
   "metadata": {
    "colab": {
     "base_uri": "https://localhost:8080/"
    },
    "id": "FgETqpFZsDO5",
    "outputId": "e3d7eb1c-7d09-4c06-f7f3-260181507e0f"
   },
   "outputs": [
    {
     "name": "stdout",
     "output_type": "stream",
     "text": [
      "   Feature1  Bin\n",
      "0         2  NaN\n",
      "1         5  0.0\n",
      "2         7  0.0\n",
      "3        10  1.0\n",
      "4        12  1.0\n",
      "5        15  2.0\n",
      "6        18  2.0\n",
      "7        20  2.0\n"
     ]
    }
   ],
   "source": [
    "# Import Required Libraries\n",
    "import pandas as pd\n",
    "\n",
    "# Create a DataFrame with a continuous numerical feature\n",
    "data = {'Feature1': [2, 5, 7, 10, 12, 15, 18, 20]}\n",
    "df = pd.DataFrame(data)\n",
    "\n",
    "# Define the number of bins and calculate the bin width\n",
    "num_bins = 3\n",
    "bin_width = (df['Feature1'].max() - df['Feature1'].min()) / num_bins\n",
    "\n",
    "# Create the bins\n",
    "bins = [df['Feature1'].min() + i * bin_width for i in range(num_bins + 1)]\n",
    "\n",
    "# Assign values to the bins\n",
    "df['Bin'] = pd.cut(df['Feature1'], bins=bins, labels=False)\n",
    "\n",
    "print(df)"
   ]
  },
  {
   "cell_type": "markdown",
   "metadata": {
    "id": "RZLlsLxcspHu"
   },
   "source": [
    "The values are assigned to the bins based on the width of each bin. The bin numbers start from 0 and go up to the number of bins minus one.\n",
    "\n",
    "You can adjust the num_bins variable to change the number of bins according to your requirements."
   ]
  },
  {
   "cell_type": "markdown",
   "metadata": {
    "id": "rSElxw7BrypS"
   },
   "source": [
    "### b) Equal-Frequency Binning: "
   ]
  },
  {
   "cell_type": "markdown",
   "metadata": {
    "id": "N-F74TCFsHvx"
   },
   "source": [
    "Equal-frequency binning divides the datainto bins such that each bin contains an equal number of data points. This approach ensures that each bin captures a similar amount of information."
   ]
  },
  {
   "cell_type": "code",
   "execution_count": 20,
   "metadata": {
    "colab": {
     "base_uri": "https://localhost:8080/"
    },
    "id": "09aECV3osPxH",
    "outputId": "7d8259a1-fddc-469c-ee98-10c6d2af6f21"
   },
   "outputs": [
    {
     "name": "stdout",
     "output_type": "stream",
     "text": [
      "   Feature1  Bin\n",
      "0         2  NaN\n",
      "1         5  0.0\n",
      "2         7  0.0\n",
      "3        10  1.0\n",
      "4        12  1.0\n",
      "5        15  2.0\n",
      "6        18  2.0\n",
      "7        20  2.0\n"
     ]
    }
   ],
   "source": [
    "import pandas as pd\n",
    "\n",
    "# Create a DataFrame with a continuous numerical feature\n",
    "data = {'Feature1': [2, 5, 7, 10, 12, 15, 18, 20]}\n",
    "df = pd.DataFrame(data)\n",
    "\n",
    "# Define the number of bins\n",
    "num_bins = 3\n",
    "\n",
    "# Calculate the number of values in each bin\n",
    "bin_size = len(df) // num_bins\n",
    "\n",
    "# Sort the values in ascending order\n",
    "df_sorted = df.sort_values('Feature1')\n",
    "\n",
    "# Create the bins\n",
    "bins = [df_sorted['Feature1'].iloc[i * bin_size:(i + 1) * bin_size] for i in range(num_bins)]\n",
    "\n",
    "# Assign values to the bins\n",
    "df['Bin'] = pd.cut(df['Feature1'], bins=[bin.min() for bin in bins] + [df_sorted['Feature1'].max()], labels=False)\n",
    "\n",
    "print(df)"
   ]
  },
  {
   "cell_type": "markdown",
   "metadata": {
    "id": "NA4-EhbIs45Z"
   },
   "source": [
    "The values are assigned to the bins based on the frequency of values in each bin. The bin numbers start from 0 and go up to the number of bins minus one.\n",
    "\n",
    "Note that due to rounding during the calculation of the bin size, the actual number of values in each bin may slightly differ, resulting in uneven bin sizes."
   ]
  },
  {
   "cell_type": "markdown",
   "metadata": {
    "id": "LJo1BYe9ryhs"
   },
   "source": [
    "### c) Custom Binning: "
   ]
  },
  {
   "cell_type": "markdown",
   "metadata": {
    "id": "JEF55YzCrylX"
   },
   "source": [
    "Custom binning allows you to define specific bin boundaries based on domain knowledge or data characteristics. It enables you to create bins that align with meaningful thresholds or breakpoints."
   ]
  },
  {
   "cell_type": "code",
   "execution_count": 21,
   "metadata": {
    "colab": {
     "base_uri": "https://localhost:8080/"
    },
    "id": "tT61lCi1sQS8",
    "outputId": "a3b01f09-5a1d-4829-ea48-4d7ba2c8552f"
   },
   "outputs": [
    {
     "name": "stdout",
     "output_type": "stream",
     "text": [
      "   Feature1  Bin\n",
      "0         2  0.0\n",
      "1         5  1.0\n",
      "2         7  1.0\n",
      "3        10  2.0\n",
      "4        12  2.0\n",
      "5        15  3.0\n",
      "6        18  3.0\n",
      "7        20  NaN\n"
     ]
    }
   ],
   "source": [
    "# Import Required Libraries\n",
    "import pandas as pd\n",
    "\n",
    "# Create a DataFrame with a continuous numerical feature\n",
    "data = {'Feature1': [2, 5, 7, 10, 12, 15, 18, 20]}\n",
    "df = pd.DataFrame(data)\n",
    "\n",
    "# Define custom bin boundaries\n",
    "bin_boundaries = [0, 5, 10, 15, 20]\n",
    "\n",
    "# Assign values to the bins\n",
    "df['Bin'] = pd.cut(df['Feature1'], bins=bin_boundaries, labels=False, right=False)\n",
    "\n",
    "print(df)"
   ]
  },
  {
   "cell_type": "markdown",
   "metadata": {
    "id": "lUCWv5e_rOB6"
   },
   "source": [
    "The values are assigned to the bins based on the specified custom bin boundaries. The bin numbers start from 0 and go up to the number of bins minus one.\n",
    "\n",
    "You can define your own custom bin boundaries in the bin_boundaries list according to your specific requirements."
   ]
  },
  {
   "cell_type": "markdown",
   "metadata": {
    "id": "jaZvOAgBtdyy"
   },
   "source": [
    "## 2.5 Date and Time Features:"
   ]
  },
  {
   "cell_type": "markdown",
   "metadata": {
    "id": "ktkXLnR8td7M"
   },
   "source": [
    "When working with datasets that include date and time information, extracting relevant features can be beneficial. Here are some common techniques for feature engineering with date and time data:"
   ]
  },
  {
   "cell_type": "markdown",
   "metadata": {
    "id": "oHtvMh1ZteE6"
   },
   "source": [
    "### a) Extracting Date Components: "
   ]
  },
  {
   "cell_type": "markdown",
   "metadata": {
    "id": "K2VCJ2OYuSKG"
   },
   "source": [
    "You can extract various components from date and time, such as year, month, day, day of the week, hour, minute, and second. These components can capture seasonality, temporal patterns, and trends."
   ]
  },
  {
   "cell_type": "code",
   "execution_count": 22,
   "metadata": {
    "colab": {
     "base_uri": "https://localhost:8080/"
    },
    "id": "IYciMHrjuSUh",
    "outputId": "fa268e51-09d6-44b8-dc2b-048c765e829a"
   },
   "outputs": [
    {
     "name": "stdout",
     "output_type": "stream",
     "text": [
      "        Date  Year  Month  Day  Weekday  Quarter\n",
      "0 2023-05-08  2023      5    8        0        2\n",
      "1 2023-06-15  2023      6   15        3        2\n",
      "2 2023-07-22  2023      7   22        5        3\n"
     ]
    }
   ],
   "source": [
    "# Import Required Libraries\n",
    "import pandas as pd\n",
    "\n",
    "# Create a DataFrame with a date or timestamp column\n",
    "data = {'Date': ['2023-05-08', '2023-06-15', '2023-07-22']}\n",
    "df = pd.DataFrame(data)\n",
    "\n",
    "# Convert the column to datetime type\n",
    "df['Date'] = pd.to_datetime(df['Date'])\n",
    "\n",
    "# Extract year, month, day, weekday, and quarter\n",
    "df['Year'] = df['Date'].dt.year\n",
    "df['Month'] = df['Date'].dt.month\n",
    "df['Day'] = df['Date'].dt.day\n",
    "df['Weekday'] = df['Date'].dt.weekday\n",
    "df['Quarter'] = df['Date'].dt.quarter\n",
    "\n",
    "print(df)"
   ]
  },
  {
   "cell_type": "markdown",
   "metadata": {
    "id": "BNe6GgoUumPB"
   },
   "source": [
    "Each date component is extracted and added as a separate column in the DataFrame.\n",
    "\n",
    "You can also extract other date components such as hour, minute, second, and more using the dt accessor and the corresponding attributes (e.g., dt.hour, dt.minute, dt.second).\n",
    "\n",
    "Make sure to convert the date column to the datetime type before using the dt accessor to access date components."
   ]
  },
  {
   "cell_type": "markdown",
   "metadata": {
    "id": "YhL80zf6tsPZ"
   },
   "source": [
    "### b) Time Since a Reference Point: \n"
   ]
  },
  {
   "cell_type": "markdown",
   "metadata": {
    "id": "kcbgFQgVus7X"
   },
   "source": [
    "Calculating the time difference between a specific date/time and a reference point can be useful. For example, you can calculate the number of days between a transaction date and the current date.\n"
   ]
  },
  {
   "cell_type": "code",
   "execution_count": 23,
   "metadata": {
    "colab": {
     "base_uri": "https://localhost:8080/"
    },
    "id": "3v78mm-AutN0",
    "outputId": "47049b7a-f7a4-4ebe-8bc5-8f59883736da"
   },
   "outputs": [
    {
     "name": "stdout",
     "output_type": "stream",
     "text": [
      "        Date TimeElapsed\n",
      "0 2023-05-08    127 days\n",
      "1 2023-06-15    165 days\n",
      "2 2023-07-22    202 days\n"
     ]
    }
   ],
   "source": [
    "# Import Required Libraries\n",
    "import pandas as pd\n",
    "\n",
    "# Create a DataFrame with a date or timestamp column\n",
    "data = {'Date': ['2023-05-08', '2023-06-15', '2023-07-22']}\n",
    "df = pd.DataFrame(data)\n",
    "\n",
    "# Convert the column to datetime type\n",
    "df['Date'] = pd.to_datetime(df['Date'])\n",
    "\n",
    "# Specify the reference point\n",
    "reference_point = pd.to_datetime('2023-01-01')\n",
    "\n",
    "# Calculate the time difference\n",
    "df['TimeElapsed'] = df['Date'] - reference_point\n",
    "\n",
    "print(df)"
   ]
  },
  {
   "cell_type": "markdown",
   "metadata": {
    "id": "8Ml8udBzutaA"
   },
   "source": [
    "You can access different components of the timedelta object, such as days, seconds, minutes, and more, using attributes like df['TimeElapsed'].dt.days, df['TimeElapsed'].dt.seconds, df['TimeElapsed'].dt.minutes, etc.\n",
    "\n",
    "Remember to convert the date column to the datetime type before performing the time difference calculation."
   ]
  },
  {
   "cell_type": "markdown",
   "metadata": {
    "id": "Pxg4LrQqtsUO"
   },
   "source": [
    "### c) Periodicity and Cyclical Encoding:"
   ]
  },
  {
   "cell_type": "markdown",
   "metadata": {
    "id": "2NVbvPS5vRvz"
   },
   "source": [
    "For cyclic features like month or day of the week, encoding them as cyclical variables can preserve their periodic nature. This can be done using techniques such as sine-cosine encoding, where the feature is transformed into two new features representing the cyclic pattern."
   ]
  },
  {
   "cell_type": "code",
   "execution_count": 24,
   "metadata": {
    "colab": {
     "base_uri": "https://localhost:8080/"
    },
    "id": "y6VHSVoXvR59",
    "outputId": "de190027-c499-4381-ab0e-ff9b40b4affe"
   },
   "outputs": [
    {
     "name": "stdout",
     "output_type": "stream",
     "text": [
      "   Hour      Hour_sin      Hour_cos\n",
      "0     1  2.588190e-01  9.659258e-01\n",
      "1     6  1.000000e+00  6.123234e-17\n",
      "2    12  1.224647e-16 -1.000000e+00\n",
      "3    18 -1.000000e+00 -1.836970e-16\n",
      "4    23 -2.588190e-01  9.659258e-01\n"
     ]
    }
   ],
   "source": [
    "# Import Required Libraries\n",
    "import pandas as pd\n",
    "import numpy as np\n",
    "\n",
    "# Create a DataFrame with a cyclical feature (e.g., hour of the day)\n",
    "data = {'Hour': [1, 6, 12, 18, 23]}\n",
    "df = pd.DataFrame(data)\n",
    "\n",
    "# Perform cyclical encoding\n",
    "df['Hour_sin'] = np.sin(2 * np.pi * df['Hour'] / 24)\n",
    "df['Hour_cos'] = np.cos(2 * np.pi * df['Hour'] / 24)\n",
    "\n",
    "print(df)"
   ]
  },
  {
   "cell_type": "markdown",
   "metadata": {
    "id": "hfFBGFAnvSCx"
   },
   "source": [
    "The 'Hour_sin' column captures the cyclic pattern of the hour of the day as a sine function, while the 'Hour_cos' column captures it as a cosine function.\n",
    "\n",
    "Cyclical encoding preserves the cyclic nature of the feature and ensures that values on opposite ends of the cycle are close in the encoded space (e.g., 23 and 1 in the example).\n",
    "\n",
    "You can apply cyclical encoding to other cyclical features, such as day of the week, month of the year, or any other periodic feature, by adjusting the formula accordingly."
   ]
  },
  {
   "cell_type": "markdown",
   "metadata": {
    "id": "XsVFaaUutsX7"
   },
   "source": [
    "### d) Time-based Aggregations: "
   ]
  },
  {
   "cell_type": "markdown",
   "metadata": {
    "id": "MYS0xlS4vSql"
   },
   "source": [
    "Aggregating data based on time intervals (e.g., hourly, daily, weekly) and computing statistics such as mean, median, or count can capture temporal patterns and summarize the data at different granularities."
   ]
  },
  {
   "cell_type": "code",
   "execution_count": 25,
   "metadata": {
    "colab": {
     "base_uri": "https://localhost:8080/"
    },
    "id": "UBGJmdhfvSy_",
    "outputId": "1391e7e1-a468-4b1d-d9fe-555ee633e2aa"
   },
   "outputs": [
    {
     "name": "stdout",
     "output_type": "stream",
     "text": [
      "                     Value\n",
      "Timestamp                 \n",
      "2023-05-08 10:00:00   17.5\n",
      "2023-05-08 11:00:00   32.5\n"
     ]
    }
   ],
   "source": [
    "# Import Required Libraries\n",
    "import pandas as pd\n",
    "\n",
    "# Create a DataFrame with a datetime column and a numerical column\n",
    "data = {'Timestamp': ['2023-05-08 10:00:00', '2023-05-08 10:15:00', '2023-05-08 10:30:00',\n",
    "                      '2023-05-08 10:45:00', '2023-05-08 11:00:00', '2023-05-08 11:15:00'],\n",
    "        'Value': [10, 15, 20, 25, 30, 35]}\n",
    "df = pd.DataFrame(data)\n",
    "\n",
    "# Convert the 'Timestamp' column to datetime type\n",
    "df['Timestamp'] = pd.to_datetime(df['Timestamp'])\n",
    "\n",
    "# Set the 'Timestamp' column as the index\n",
    "df.set_index('Timestamp', inplace=True)\n",
    "\n",
    "# Resample the DataFrame to hourly frequency and calculate the mean value\n",
    "df_hourly = df.resample('H').mean()\n",
    "\n",
    "print(df_hourly)"
   ]
  },
  {
   "cell_type": "markdown",
   "metadata": {
    "id": "W_taeSK5vS8R"
   },
   "source": [
    "The values in the 'Value' column are the mean values calculated for each hour.\n",
    "\n",
    "You can perform various aggregations, such as sum, count, minimum, maximum, etc., by applying the corresponding aggregation functions after resampling, like df.resample('H').sum(), df.resample('H').count(), df.resample('H').min(), df.resample('H').max(), etc.\n",
    "\n",
    "Make sure to set the datetime column as the index before using the resample() function for time-based aggregations."
   ]
  },
  {
   "cell_type": "markdown",
   "metadata": {
    "id": "pqX_5SsrtsbZ"
   },
   "source": [
    "## 3. Feature Extraction Techniques:"
   ]
  },
  {
   "cell_type": "markdown",
   "metadata": {
    "id": "zUxqP-5jw1gS"
   },
   "source": [
    "Feature extraction is a process in which meaningful and representative features are derived from raw data. It involves transforming the data into a more compact and informative representation that captures the underlying patterns and structures. This article explores various feature extraction techniques commonly used in machine learning and data analysis."
   ]
  },
  {
   "cell_type": "markdown",
   "metadata": {
    "id": "SSEMo-JAw1jY"
   },
   "source": [
    "## a) Textual Data:"
   ]
  },
  {
   "cell_type": "markdown",
   "metadata": {
    "id": "zAtjTg5tw1nA"
   },
   "source": [
    "Textual data is abundant in various domains, such as natural language processing, sentiment analysis, information retrieval, and text classification. Extracting meaningful features from text is crucial for effectively representing and analyzing textual data. This article explores several techniques for feature extraction from textual data to enable accurate and efficient analysis."
   ]
  },
  {
   "cell_type": "markdown",
   "metadata": {
    "id": "jWl9s_DDxyl5"
   },
   "source": [
    "### I) Bag-of-Words (BoW):"
   ]
  },
  {
   "cell_type": "markdown",
   "metadata": {
    "id": "jY3Fa0erxyt1"
   },
   "source": [
    "The bag-of-words model represents text as a collection of unique words and their frequencies. Each document is transformed into a vector, where each element corresponds to the count or presence of a particular word in the document. The BoW model ignores word order and considers only the occurrence of words. It is a simple yet effective feature extraction technique widely used in text classification, information retrieval, and sentiment analysis."
   ]
  },
  {
   "cell_type": "code",
   "execution_count": 27,
   "metadata": {
    "colab": {
     "base_uri": "https://localhost:8080/"
    },
    "id": "4jRzu2_Ex6rs",
    "outputId": "ea8679d0-95b7-462c-f141-984b19d9dc60"
   },
   "outputs": [
    {
     "name": "stdout",
     "output_type": "stream",
     "text": [
      "{'this': 8, 'is': 3, 'the': 6, 'first': 2, 'document': 1, 'second': 5, 'and': 0, 'third': 7, 'one': 4}\n",
      "[[0 1 1 1 0 0 1 0 1]\n",
      " [0 2 0 1 0 1 1 0 1]\n",
      " [1 0 0 1 1 0 1 1 1]\n",
      " [0 1 1 1 0 0 1 0 1]]\n"
     ]
    }
   ],
   "source": [
    "# Importing Required Libraries\n",
    "from sklearn.feature_extraction.text import CountVectorizer\n",
    "\n",
    "# Create a corpus of documents\n",
    "corpus = ['This is the first document.',\n",
    "          'This document is the second document.',\n",
    "          'And this is the third one.',\n",
    "          'Is this the first document?']\n",
    "\n",
    "# Initialize the CountVectorizer\n",
    "vectorizer = CountVectorizer()\n",
    "\n",
    "# Fit the vectorizer on the corpus\n",
    "vectorizer.fit(corpus)\n",
    "\n",
    "# Transform the corpus into a matrix of token counts\n",
    "X = vectorizer.transform(corpus)\n",
    "\n",
    "# Print the vocabulary of the vectorizer\n",
    "print(vectorizer.vocabulary_)\n",
    "\n",
    "# Print the matrix of token counts\n",
    "print(X.toarray())"
   ]
  },
  {
   "cell_type": "markdown",
   "metadata": {
    "id": "6bmSZHKcy7Uw"
   },
   "source": [
    "In this example, we have a list of documents stored in the documents variable. We create an instance of CountVectorizer, which is a scikit-learn class that helps us convert text documents into a BoW representation."
   ]
  },
  {
   "cell_type": "markdown",
   "metadata": {
    "id": "NtnSmLcryjCd"
   },
   "source": [
    "Note that before using the BoW representation for further analysis or modeling, it may be necessary to preprocess the text data by removing punctuation, converting to lowercase, handling stop words, and applying stemming or lemmatization, depending on the specific requirements of your task."
   ]
  },
  {
   "cell_type": "markdown",
   "metadata": {
    "id": "LKQYYrmP22J6"
   },
   "source": [
    "### II) Term Frequency-Inverse Document Frequency (TF-IDF):"
   ]
  },
  {
   "cell_type": "markdown",
   "metadata": {
    "id": "Chu6kPte22eh"
   },
   "source": [
    "TF-IDF measures the importance of a word in a document relative to its frequency across a corpus. It assigns higher weights to words that are more specific to a particular document but occur less frequently in the corpus. TF-IDF takes into account both the term frequency (TF) and the inverse document frequency (IDF) to create a vector representation of each document. It helps in capturing the discriminative power of words and is commonly used in text classification, information retrieval, and keyword extraction."
   ]
  },
  {
   "cell_type": "code",
   "execution_count": 30,
   "metadata": {
    "colab": {
     "base_uri": "https://localhost:8080/"
    },
    "id": "YsH9WRcgyOp0",
    "outputId": "2cf9cd42-f094-4111-e120-a76e4c076349"
   },
   "outputs": [
    {
     "name": "stdout",
     "output_type": "stream",
     "text": [
      "TF-IDF representation:\n",
      "[[0.         0.         0.32274454 0.         0.         0.54645401\n",
      "  0.         0.54645401 0.         0.         0.54645401 0.        ]\n",
      " [0.         0.47952794 0.28321692 0.         0.47952794 0.\n",
      "  0.47952794 0.         0.         0.47952794 0.         0.        ]\n",
      " [0.47952794 0.         0.28321692 0.47952794 0.         0.\n",
      "  0.         0.         0.47952794 0.         0.         0.47952794]]\n",
      "\n",
      "Feature names:\n",
      "['enjoy' 'favorite' 'football' 'friends' 'is' 'love' 'my' 'play' 'playing'\n",
      " 'sport' 'to' 'with']\n"
     ]
    }
   ],
   "source": [
    "# Import Required Libraries\n",
    "from sklearn.feature_extraction.text import TfidfVectorizer\n",
    "\n",
    "# Sample documents\n",
    "documents = [\n",
    "    \"I love to play football\",\n",
    "    \"Football is my favorite sport\",\n",
    "    \"I enjoy playing football with friends\"\n",
    "]\n",
    "\n",
    "# Create an instance of TfidfVectorizer\n",
    "vectorizer = TfidfVectorizer()\n",
    "\n",
    "# Fit the vectorizer on the documents and transform the documents into a TF-IDF representation\n",
    "tfidf_representation = vectorizer.fit_transform(documents)\n",
    "\n",
    "# Get the feature names (words) from the vectorizer\n",
    "feature_names = vectorizer.get_feature_names_out() \n",
    "\n",
    "# Print the TF-IDF representation and feature names\n",
    "print(\"TF-IDF representation:\")\n",
    "print(tfidf_representation.toarray())\n",
    "print(\"\\nFeature names:\")\n",
    "print(feature_names)\n"
   ]
  },
  {
   "cell_type": "markdown",
   "metadata": {
    "id": "5w508a044fWn"
   },
   "source": [
    "In this example, we have a list of documents stored in the documents variable. We create an instance of TfidfVectorizer, which is a scikit-learn class that helps us convert text documents into a TF-IDF representation.\n",
    "\n",
    "The output will display the TF-IDF representation as a matrix, where each row corresponds to a document and each column corresponds to a word. The values in the matrix represent the TF-IDF scores. The feature names will display the vocabulary of words used in the documents."
   ]
  },
  {
   "cell_type": "markdown",
   "metadata": {
    "id": "qmUI8GLQ4gNn"
   },
   "source": [
    "### III) Word Embeddings:"
   ]
  },
  {
   "cell_type": "markdown",
   "metadata": {
    "id": "XwfgRtZ84gQ_"
   },
   "source": [
    "Word embeddings represent words as dense vectors in a continuous space, capturing semantic and syntactic relationships between words. Popular word embedding techniques include Word2Vec, GloVe, and FastText. Word embeddings encode semantic meaning and contextual information, enabling more nuanced and meaningful feature representations. They have revolutionized various natural language processing tasks such as text classification, sentiment analysis, and language translation."
   ]
  },
  {
   "cell_type": "code",
   "execution_count": 32,
   "metadata": {
    "colab": {
     "base_uri": "https://localhost:8080/"
    },
    "id": "nh8wDW2k3f2o",
    "outputId": "2fb99936-783e-46f3-e54b-0ad39b95720a"
   },
   "outputs": [
    {
     "name": "stdout",
     "output_type": "stream",
     "text": [
      "Dimensionality of word embedding: 100\n",
      "Word embedding for football: [-5.3622725e-04  2.3643136e-04  5.1033497e-03  9.0092728e-03\n",
      " -9.3029495e-03 -7.1168090e-03  6.4588725e-03  8.9729885e-03\n",
      " -5.0154282e-03 -3.7633716e-03  7.3805046e-03 -1.5334714e-03\n",
      " -4.5366134e-03  6.5540518e-03 -4.8601604e-03 -1.8160177e-03\n",
      "  2.8765798e-03  9.9187379e-04 -8.2852151e-03 -9.4488179e-03\n",
      "  7.3117660e-03  5.0702621e-03  6.7576934e-03  7.6286553e-04\n",
      "  6.3508903e-03 -3.4053659e-03 -9.4640139e-04  5.7685734e-03\n",
      " -7.5216377e-03 -3.9361035e-03 -7.5115822e-03 -9.3004224e-04\n",
      "  9.5381187e-03 -7.3191668e-03 -2.3337686e-03 -1.9377411e-03\n",
      "  8.0774371e-03 -5.9308959e-03  4.5162440e-05 -4.7537340e-03\n",
      " -9.6035507e-03  5.0072931e-03 -8.7595852e-03 -4.3918253e-03\n",
      " -3.5099984e-05 -2.9618145e-04 -7.6612402e-03  9.6147433e-03\n",
      "  4.9820580e-03  9.2331432e-03 -8.1579173e-03  4.4957981e-03\n",
      " -4.1370760e-03  8.2453608e-04  8.4986202e-03 -4.4621765e-03\n",
      "  4.5175003e-03 -6.7869602e-03 -3.5484887e-03  9.3985079e-03\n",
      " -1.5776526e-03  3.2137157e-04 -4.1406299e-03 -7.6826881e-03\n",
      " -1.5080082e-03  2.4697948e-03 -8.8802696e-04  5.5336617e-03\n",
      " -2.7429771e-03  2.2600652e-03  5.4557943e-03  8.3459532e-03\n",
      " -1.4537406e-03 -9.2081428e-03  4.3705525e-03  5.7178497e-04\n",
      "  7.4419081e-03 -8.1328274e-04 -2.6384138e-03 -8.7530091e-03\n",
      " -8.5655687e-04  2.8265631e-03  5.4014288e-03  7.0526563e-03\n",
      " -5.7031214e-03  1.8588197e-03  6.0888636e-03 -4.7980510e-03\n",
      " -3.1072604e-03  6.7976294e-03  1.6314756e-03  1.8991709e-04\n",
      "  3.4736372e-03  2.1777749e-04  9.6188262e-03  5.0606038e-03\n",
      " -8.9173904e-03 -7.0415605e-03  9.0145587e-04  6.3925339e-03]\n"
     ]
    }
   ],
   "source": [
    "# Import Required Libraries\n",
    "import gensim\n",
    "\n",
    "# Prepare your training data (a list of sentences or a text file)\n",
    "sentences = [[\"I\", \"love\", \"playing\", \"football\"],\n",
    "             [\"Football\", \"is\", \"my\", \"favorite\", \"sport\"],\n",
    "             [\"I\", \"enjoy\", \"playing\", \"football\", \"with\", \"friends\"]]\n",
    "\n",
    "# Train the Word2Vec model\n",
    "model = gensim.models.Word2Vec(sentences, min_count=1)\n",
    "\n",
    "\n",
    "# Get the word embedding for a specific word\n",
    "word = \"football\"\n",
    "if word in model.wv:\n",
    "    embedding = model.wv[word]\n",
    "else:\n",
    "    embedding = None  # Handle out-of-vocabulary words\n",
    "\n",
    "# Print the dimensionality of the word embedding\n",
    "print(\"Dimensionality of word embedding:\", model.vector_size)\n",
    "\n",
    "# Print the word embedding vector\n",
    "if embedding is not None:\n",
    "    print(\"Word embedding for\", word + \":\", embedding)"
   ]
  },
  {
   "cell_type": "markdown",
   "metadata": {
    "id": "AK6CZx5o6usT"
   },
   "source": [
    "### IV) N-grams:"
   ]
  },
  {
   "cell_type": "markdown",
   "metadata": {
    "id": "em9eEzOV6vwh"
   },
   "source": [
    "N-grams are contiguous sequences of N words in a text. By considering word sequences, N-grams capture local contextual information and improve feature representation. Commonly used N-gram models include unigrams (single words), bigrams (two consecutive words), and trigrams (three consecutive words). N-grams are useful for capturing phrase-level information, language modeling, and text classification tasks."
   ]
  },
  {
   "cell_type": "code",
   "execution_count": 34,
   "metadata": {
    "colab": {
     "base_uri": "https://localhost:8080/"
    },
    "id": "Zm5cRSLU7oH2",
    "outputId": "ef66c3b7-9b8b-49cb-ad65-1e153b8577e2"
   },
   "outputs": [
    {
     "name": "stdout",
     "output_type": "stream",
     "text": [
      "Generated 2 -grams:\n",
      "('I', 'love')\n",
      "('love', 'to')\n",
      "('to', 'play')\n",
      "('play', 'football')\n"
     ]
    }
   ],
   "source": [
    "# Import Required Libraries\n",
    "from nltk import ngrams\n",
    "\n",
    "# Sample sentence\n",
    "sentence = \"I love to play football\"\n",
    "\n",
    "# Set the value of N for N-grams\n",
    "N = 2\n",
    "\n",
    "# Generate N-grams\n",
    "ngrams_list = list(ngrams(sentence.split(), N))\n",
    "\n",
    "# Print the generated N-grams\n",
    "print(\"Generated\", N, \"-grams:\")\n",
    "for gram in ngrams_list:\n",
    "    print(gram)"
   ]
  },
  {
   "cell_type": "markdown",
   "metadata": {
    "id": "-xPsQSbN8PpL"
   },
   "source": [
    "In this example, we have a sample sentence stored in the sentence variable. We set the value of N to indicate the desired number of words in each N-gram.\n",
    "\n",
    "The output will display the generated N-grams based on the given sentence and the specified value of N. For example, if N is set to 2, the code will generate and print all the bigrams (2-grams) from the sentence.\n",
    "\n",
    "Note that you need to have the nltk library installed in your Python environment to use the ngrams function. You can install it using pip install nltk if you haven't already. Additionally, you may need to download certain resources such as tokenizers or stopwords from the NLTK data package using nltk.download()."
   ]
  },
  {
   "cell_type": "markdown",
   "metadata": {
    "id": "8TgwxTbV6v2w"
   },
   "source": [
    "### V) Text Hashing:"
   ]
  },
  {
   "cell_type": "markdown",
   "metadata": {
    "id": "wMCrgCBq7Vln"
   },
   "source": [
    "Text hashing techniques, such as the Hashing Trick or Feature Hashing, convert text into fixed-length feature vectors. These techniques use hash functions to map words or word n-grams into a predefined feature space. Text hashing is memory-efficient and allows for fast feature extraction, making it suitable for large-scale text analysis, topic modeling, and text classification tasks."
   ]
  },
  {
   "cell_type": "code",
   "execution_count": 33,
   "metadata": {
    "colab": {
     "base_uri": "https://localhost:8080/"
    },
    "id": "CExlx1ZI7okK",
    "outputId": "5e1f17df-ff5c-4b41-9c00-801a1df9e169"
   },
   "outputs": [
    {
     "name": "stdout",
     "output_type": "stream",
     "text": [
      "Hashed representation:\n",
      "[[ 0.        -0.5        0.         0.         0.         0.\n",
      "   0.         0.         0.         0.         0.         0.\n",
      "   0.         0.         0.         0.         0.         0.\n",
      "   0.         0.         0.         0.         0.5        0.\n",
      "   0.         0.         0.         0.         0.         0.\n",
      "   0.         0.         0.         0.         0.         0.\n",
      "   0.         0.         0.         0.         0.         0.\n",
      "   0.         0.         0.         0.         0.         0.\n",
      "   0.         0.         0.         0.         0.         0.\n",
      "   0.         0.         0.         0.         0.         0.\n",
      "   0.         0.         0.         0.         0.         0.\n",
      "   0.         0.         0.         0.         0.         0.\n",
      "   0.         0.         0.         0.         0.         0.\n",
      "   0.         0.         0.         0.        -0.5        0.\n",
      "   0.         0.         0.         0.         0.         0.\n",
      "   0.         0.5        0.         0.         0.         0.\n",
      "   0.         0.         0.         0.       ]\n",
      " [ 0.         0.         0.         0.         0.         0.\n",
      "   0.         0.         0.         0.         0.         0.\n",
      "   0.         0.         0.         0.         0.         0.\n",
      "   0.         0.         0.         0.         0.4472136  0.\n",
      "   0.         0.         0.         0.         0.         0.\n",
      "   0.         0.         0.         0.         0.         0.\n",
      "   0.4472136  0.         0.         0.         0.         0.\n",
      "   0.         0.         0.         0.         0.        -0.4472136\n",
      "   0.         0.         0.         0.         0.         0.\n",
      "   0.         0.         0.         0.         0.         0.\n",
      "   0.         0.         0.         0.         0.         0.\n",
      "   0.         0.         0.         0.         0.         0.\n",
      "   0.         0.         0.         0.         0.         0.4472136\n",
      "   0.         0.         0.         0.         0.         0.\n",
      "   0.         0.         0.         0.         0.         0.\n",
      "   0.4472136  0.         0.         0.         0.         0.\n",
      "   0.         0.         0.         0.       ]\n",
      " [ 0.         0.         0.         0.         0.         0.\n",
      "   0.         0.         0.         0.         0.         0.\n",
      "   0.         0.         0.         0.         0.        -0.4472136\n",
      "   0.         0.         0.         0.         0.4472136  0.\n",
      "   0.         0.         0.         0.         0.         0.\n",
      "   0.         0.         0.         0.         0.         0.\n",
      "   0.         0.         0.         0.        -0.4472136  0.\n",
      "   0.         0.         0.         0.         0.         0.\n",
      "   0.         0.         0.         0.         0.         0.\n",
      "   0.         0.         0.         0.         0.         0.\n",
      "   0.         0.         0.         0.         0.         0.\n",
      "   0.         0.         0.         0.         0.         0.\n",
      "   0.         0.         0.         0.         0.         0.4472136\n",
      "   0.         0.         0.         0.         0.         0.\n",
      "   0.         0.         0.         0.         0.         0.\n",
      "   0.         0.         0.         0.         0.         0.\n",
      "   0.         0.         0.4472136  0.       ]]\n"
     ]
    }
   ],
   "source": [
    "# Import Required Libraries\n",
    "from sklearn.feature_extraction.text import HashingVectorizer\n",
    "\n",
    "# Sample documents\n",
    "documents = [\n",
    "    \"I love to play football\",\n",
    "    \"Football is my favorite sport\",\n",
    "    \"I enjoy playing football with friends\"\n",
    "]\n",
    "\n",
    "# Create an instance of HashingVectorizer\n",
    "vectorizer = HashingVectorizer(n_features=100)\n",
    "\n",
    "# Transform the documents into a hashed representation\n",
    "hashed_representation = vectorizer.transform(documents)\n",
    "\n",
    "# Print the hashed representation\n",
    "print(\"Hashed representation:\")\n",
    "print(hashed_representation.toarray())"
   ]
  },
  {
   "cell_type": "markdown",
   "metadata": {
    "id": "VAILSjUf74Xd"
   },
   "source": [
    "In this example, we have a list of documents stored in the documents variable. We create an instance of HashingVectorizer from sklearn.feature_extraction.text, which is a scikit-learn class for text hashing.\n",
    "\n",
    "The output will display the hashed representation as a matrix, where each row corresponds to a document, and each column corresponds to a feature in the hashed representation. The values in the matrix represent the hashed numerical representations of the words in the documents.\n",
    "\n",
    "Note that unlike other feature extraction techniques like BoW or TF-IDF, text hashing does not preserve the original words or their frequencies. It creates a fixed-length numerical representation based on the hash function and the specified number of features."
   ]
  },
  {
   "cell_type": "markdown",
   "metadata": {
    "id": "CyNFoaKf7XXP"
   },
   "source": [
    "### VI) Named Entity Recognition (NER):"
   ]
  },
  {
   "cell_type": "markdown",
   "metadata": {
    "id": "nHFZPd6e7atC"
   },
   "source": [
    "Named Entity Recognition is a technique that identifies and classifies named entities in text, such as names of people, organizations, locations, and other specific entities. NER extracts features related to the presence or type of named entities, providing valuable information for tasks such as information extraction, question answering, and document understanding."
   ]
  },
  {
   "cell_type": "code",
   "execution_count": 37,
   "metadata": {
    "colab": {
     "base_uri": "https://localhost:8080/"
    },
    "id": "SfhdLJ71879J",
    "outputId": "ae026c5f-ac1f-45bf-d754-4e46b2d7083e"
   },
   "outputs": [
    {
     "name": "stdout",
     "output_type": "stream",
     "text": [
      "Named entities:\n",
      "('Apple Inc.', 'ORG')\n",
      "('Europe', 'LOC')\n",
      "('Asia', 'LOC')\n"
     ]
    }
   ],
   "source": [
    "# Import Required Libraries\n",
    "import spacy\n",
    "\n",
    "# Load the spaCy English model\n",
    "nlp = spacy.load(\"en_core_web_sm\")\n",
    "\n",
    "# Sample text\n",
    "text = \"Apple Inc. is looking to expand its business into new markets, including Europe and Asia.\"\n",
    "\n",
    "# Process the text with spaCy\n",
    "doc = nlp(text)\n",
    "\n",
    "# Extract named entities\n",
    "entities = [(entity.text, entity.label_) for entity in doc.ents]\n",
    "\n",
    "# Print the named entities\n",
    "print(\"Named entities:\")\n",
    "for entity in entities:\n",
    "    print(entity)"
   ]
  },
  {
   "cell_type": "markdown",
   "metadata": {
    "id": "HPc7Czj69ztU"
   },
   "source": [
    "The output will display the named entities found in the text along with their corresponding labels.\n",
    "\n",
    "Note that different models or languages may yield different results, and you can customize the behavior of spaCy by adding additional rules, training your own models, or using other NER libraries."
   ]
  },
  {
   "cell_type": "markdown",
   "metadata": {
    "id": "TzOapZEs7eNU"
   },
   "source": [
    "### VII) Topic Modeling:"
   ]
  },
  {
   "cell_type": "markdown",
   "metadata": {
    "id": "j1tfOYNn7hxg"
   },
   "source": [
    "Topic modeling techniques, such as Latent Dirichlet Allocation (LDA) and Non-negative Matrix Factorization (NMF), uncover latent topics in a collection of documents. Topic models represent documents as mixtures of topics, where each topic is a distribution over words. Extracted topics can serve as features, allowing documents to be represented by their topical composition. Topic modeling is beneficial for document clustering, content recommendation, and exploratory analysis of text corpora."
   ]
  },
  {
   "cell_type": "code",
   "execution_count": 38,
   "metadata": {
    "colab": {
     "base_uri": "https://localhost:8080/"
    },
    "id": "0hjFhB4F7po4",
    "outputId": "a6666458-ab39-43e5-a575-5a89357c1f3a"
   },
   "outputs": [
    {
     "name": "stdout",
     "output_type": "stream",
     "text": [
      "(0, '0.086*\"i\" + 0.083*\"movies\" + 0.051*\"to\" + 0.050*\"my\" + 0.050*\"favorite\"')\n",
      "(1, '0.090*\"football\" + 0.089*\"sport\" + 0.089*\"is\" + 0.054*\"favorite\" + 0.054*\"my\"')\n"
     ]
    }
   ],
   "source": [
    "# Import Required Libraries\n",
    "import gensim\n",
    "from gensim import corpora\n",
    "\n",
    "# Sample documents\n",
    "documents = [\n",
    "    \"I love to play football\",\n",
    "    \"Football is my favorite sport\",\n",
    "    \"I enjoy playing football with friends\",\n",
    "    \"Basketball is also a great sport\",\n",
    "    \"I like to watch movies\",\n",
    "    \"Movies are my favorite form of entertainment\"\n",
    "]\n",
    "\n",
    "# Preprocess the documents\n",
    "preprocessed_documents = [doc.lower().split() for doc in documents]\n",
    "\n",
    "# Create a dictionary from the preprocessed documents\n",
    "dictionary = corpora.Dictionary(preprocessed_documents)\n",
    "\n",
    "# Create a corpus from the preprocessed documents\n",
    "corpus = [dictionary.doc2bow(doc) for doc in preprocessed_documents]\n",
    "\n",
    "# Train the LDA model\n",
    "lda_model = gensim.models.LdaModel(corpus, num_topics=2, id2word=dictionary, passes=10)\n",
    "\n",
    "# Print the topics\n",
    "topics = lda_model.print_topics(num_words=5)\n",
    "for topic in topics:\n",
    "    print(topic)"
   ]
  },
  {
   "cell_type": "markdown",
   "metadata": {
    "id": "7RLActFM-jKo"
   },
   "source": [
    "The output will display the topics along with their associated words and their probabilities.\n",
    "\n",
    "Note that the quality and coherence of the topics may depend on the size and quality of the training corpus, the number of topics chosen, and other tuning parameters. Experimentation and fine-tuning may be required to obtain meaningful and coherent topics."
   ]
  },
  {
   "cell_type": "markdown",
   "metadata": {
    "id": "lM8SB3MmAf3P"
   },
   "source": [
    "## 3.2 Image Data:"
   ]
  },
  {
   "cell_type": "markdown",
   "metadata": {
    "id": "bbhto7cRAf5z"
   },
   "source": [
    "Image data is a type of data that represents visual information in the form of digital images. Images are composed of pixels, with each pixel representing a specific color or intensity value. Analyzing and processing image data is a common task in various fields, including computer vision, machine learning, and image processing. \n",
    "\n",
    "When working with image data, there are several techniques for extracting meaningful information or features from images. Here are some common image data extraction techniques:"
   ]
  },
  {
   "cell_type": "markdown",
   "metadata": {
    "id": "9qCj2cQbAf8H"
   },
   "source": [
    "### I) Pixel-based Features:"
   ]
  },
  {
   "cell_type": "markdown",
   "metadata": {
    "id": "ReAPA2ddAf-q"
   },
   "source": [
    "1. Color Information: Extracting color features such as RGB values, color histograms, or color moments to capture the color distribution in an image.\n",
    "\n",
    "\n",
    "2. Texture Analysis: Calculating texture features like local binary patterns (LBP), gray-level co-occurrence matrices (GLCM), or Gabor filters to describe the patterns and textures present in an image.\n",
    "\n",
    "\n",
    "3. Intensity and Gradient: Analyzing pixel intensities or gradients using techniques like edge detection or gradient-based feature extraction methods (e.g., Sobel, Canny) to identify image edges or boundaries."
   ]
  },
  {
   "cell_type": "code",
   "execution_count": null,
   "metadata": {
    "id": "2Rc5g788O-uq"
   },
   "outputs": [],
   "source": [
    "# Import Required Libraries\n",
    "import cv2\n",
    "import numpy as np\n",
    "\n",
    "# Load the image\n",
    "image = cv2.imread('image.jpg')\n",
    "\n",
    "# Extract color features\n",
    "rgb_values = image.reshape(-1, 3)  # Reshape the image to a 2D array of RGB values\n",
    "mean_rgb = np.mean(rgb_values, axis=0)  # Compute the mean RGB values\n",
    "std_rgb = np.std(rgb_values, axis=0)  # Compute the standard deviation of RGB values\n",
    "\n",
    "# Extract texture features (LBP)\n",
    "gray = cv2.cvtColor(image, cv2.COLOR_BGR2GRAY)  # Convert the image to grayscale\n",
    "lbp = cv2.ORB_create()\n",
    "keypoints, descriptors = lbp.detectAndCompute(gray, None)  # Extract keypoints and descriptors\n",
    "num_keypoints = len(keypoints)  # Get the number of keypoints\n",
    "\n",
    "# Extract intensity and gradient features (Edges)\n",
    "gray = cv2.cvtColor(image, cv2.COLOR_BGR2GRAY)  # Convert the image to grayscale\n",
    "edges = cv2.Canny(gray, 100, 200)  # Apply Canny edge detection\n",
    "num_edges = np.sum(edges)  # Count the number of edge pixels\n",
    "\n",
    "# Print the extracted features\n",
    "print(\"Color Features:\")\n",
    "print(\"Mean RGB:\", mean_rgb)\n",
    "print(\"Standard Deviation RGB:\", std_rgb)\n",
    "\n",
    "print(\"Texture Features:\")\n",
    "print(\"Number of Keypoints:\", num_keypoints)\n",
    "\n",
    "print(\"Intensity and Gradient Features:\")\n",
    "print(\"Number of Edges:\", num_edges)"
   ]
  },
  {
   "cell_type": "markdown",
   "metadata": {
    "id": "5HWVv7x0AgEy"
   },
   "source": [
    "In this code example, I assume that there is an image file named \"image.jpg\" in the current directory.\n",
    "\n",
    "Note that this code snippet provides a basic demonstration of pixel-based feature extraction. Depending on your specific use case, you may need to explore different feature extraction techniques and parameters to achieve the desired results."
   ]
  },
  {
   "cell_type": "markdown",
   "metadata": {
    "id": "dskR7uCCPReN"
   },
   "source": [
    "### II) Local Features:"
   ]
  },
  {
   "cell_type": "markdown",
   "metadata": {
    "id": "Otsg_IxLPRhv"
   },
   "source": [
    "1. Keypoint Detection: Identifying distinctive keypoints in an image using methods like Scale-Invariant Feature Transform (SIFT), Speeded-Up Robust Features (SURF), or Oriented FAST and Rotated BRIEF (ORB).\n",
    "\n",
    "\n",
    "2. Feature Descriptors: Extracting feature descriptors around keypoints, such as local binary patterns (LBP), histogram of oriented gradients (HOG), or scale-invariant feature descriptors (SIFT descriptors)."
   ]
  },
  {
   "cell_type": "code",
   "execution_count": null,
   "metadata": {
    "id": "_kwcrV9RPLe2"
   },
   "outputs": [],
   "source": [
    "# Import Required Libraries\n",
    "import cv2\n",
    "import numpy as np\n",
    "\n",
    "# Load the image\n",
    "image = cv2.imread('image.jpg')\n",
    "\n",
    "# Convert the image to grayscale\n",
    "image_gray = cv2.cvtColor(image, cv2.COLOR_BGR2GRAY)\n",
    "\n",
    "# Initialize the feature detector (e.g., SIFT, SURF, ORB)\n",
    "feature_detector = cv2.SIFT_create()\n",
    "\n",
    "# Detect keypoints and compute descriptors\n",
    "keypoints, descriptors = feature_detector.detectAndCompute(image_gray, None)\n",
    "\n",
    "# Draw keypoints on the image\n",
    "image_keypoints = cv2.drawKeypoints(image, keypoints, None, flags=cv2.DRAW_MATCHES_FLAGS_DRAW_RICH_KEYPOINTS)\n",
    "\n",
    "# Display the image with keypoints\n",
    "cv2.imshow('Image with Keypoints', image_keypoints)\n",
    "cv2.waitKey(0)\n",
    "cv2.destroyAllWindows()\n",
    "\n",
    "# Print the number of detected keypoints and the size of the descriptor vector\n",
    "print(\"Number of Keypoints:\", len(keypoints))\n",
    "print(\"Descriptor Size:\", descriptors.shape[1])"
   ]
  },
  {
   "cell_type": "markdown",
   "metadata": {
    "id": "t0ubU1j3P7_k"
   },
   "source": [
    "In this code snippet, I assume that there is an image file named \"image.jpg\" in the current directory."
   ]
  },
  {
   "cell_type": "markdown",
   "metadata": {
    "id": "V9ybpTjnP8Co"
   },
   "source": [
    "### III) Convolutional Neural Networks (CNN) Features:\n",
    "\n"
   ]
  },
  {
   "cell_type": "markdown",
   "metadata": {
    "id": "mAFmddbtP8GY"
   },
   "source": [
    "1. Transfer Learning: Using pre-trained CNN models like VGG, ResNet, or Inception to extract high-level features from images. These models are trained on large-scale datasets and capture complex image representations.\n",
    " \n",
    " \n",
    "2. Intermediate Layer Features: Extracting features from intermediate layers of a CNN to capture both low-level and high-level image information."
   ]
  },
  {
   "cell_type": "code",
   "execution_count": null,
   "metadata": {
    "id": "NoKYG2FeQnaq"
   },
   "outputs": [],
   "source": [
    "# Import Required Libraries\n",
    "from tensorflow.keras.applications import VGG16\n",
    "from tensorflow.keras.preprocessing import image\n",
    "from tensorflow.keras.applications.vgg16 import preprocess_input\n",
    "import numpy as np\n",
    "\n",
    "# Load the pre-trained VGG16 model\n",
    "model = VGG16(weights='imagenet', include_top=False)\n",
    "\n",
    "# Load and preprocess the image\n",
    "img_path = 'image.jpg'  # Update with the path to your image\n",
    "img = image.load_img(img_path, target_size=(224, 224))\n",
    "x = image.img_to_array(img)\n",
    "x = np.expand_dims(x, axis=0)\n",
    "x = preprocess_input(x)\n",
    "\n",
    "# Extract features using the VGG16 model\n",
    "features = model.predict(x)\n",
    "\n",
    "# Flatten the features\n",
    "flatten_features = features.flatten()\n",
    "\n",
    "# Print the shape of the extracted features\n",
    "print(\"Shape of features:\", flatten_features.shape)"
   ]
  },
  {
   "cell_type": "markdown",
   "metadata": {
    "id": "bNYUck2ZQt8T"
   },
   "source": [
    "In this code snippet, I assume that there is an image file named \"image.jpg\" in the current directory."
   ]
  },
  {
   "cell_type": "markdown",
   "metadata": {
    "id": "LxlbEsy5Qt_Q"
   },
   "source": [
    "### IV) Shape Analysis:\n",
    "\n"
   ]
  },
  {
   "cell_type": "markdown",
   "metadata": {
    "id": "XW7Kq1a6QuEW"
   },
   "source": [
    "1. Contour Detection: Detecting and representing the contours or outlines of objects within an image using techniques like Canny edge detection or contour tracing algorithms.\n",
    "\n",
    "\n",
    "2. Shape Descriptors: Calculating shape descriptors like Hu moments, Fourier descriptors, or Zernike moments to describe the shape characteristics of objects in an image."
   ]
  },
  {
   "cell_type": "code",
   "execution_count": null,
   "metadata": {
    "id": "oS24B7Q1RC_w"
   },
   "outputs": [],
   "source": [
    "# Import Required Libraries\n",
    "from skimage import io, measure\n",
    "\n",
    "# Load the binary image\n",
    "image = io.imread('binary_image.png', as_gray=True)\n",
    "\n",
    "# Perform connected component analysis to extract objects\n",
    "labels = measure.label(image, connectivity=2)\n",
    "regions = measure.regionprops(labels)\n",
    "\n",
    "# Print the number of detected objects\n",
    "print(\"Number of objects:\", len(regions))\n",
    "\n",
    "# Iterate over each object and extract shape features\n",
    "for region in regions:\n",
    "    # Extract basic shape properties\n",
    "    centroid = region.centroid\n",
    "    area = region.area\n",
    "    perimeter = region.perimeter\n",
    "    bbox = region.bbox\n",
    "\n",
    "    # Extract more complex shape properties\n",
    "    eccentricity = region.eccentricity\n",
    "    solidity = region.solidity\n",
    "\n",
    "    # Print the shape features\n",
    "    print(\"Centroid:\", centroid)\n",
    "    print(\"Area:\", area)\n",
    "    print(\"Perimeter:\", perimeter)\n",
    "    print(\"Bounding Box:\", bbox)\n",
    "    print(\"Eccentricity:\", eccentricity)\n",
    "    print(\"Solidity:\", solidity)"
   ]
  },
  {
   "cell_type": "markdown",
   "metadata": {
    "id": "Q9lZ6TSbQ-Wh"
   },
   "source": [
    "In this code snippet, I assume that you have a binary image file named binary_image.png in the current directory."
   ]
  },
  {
   "cell_type": "markdown",
   "metadata": {
    "id": "VIEKEv00RgIs"
   },
   "source": [
    "### V) Image Segmentation:\n"
   ]
  },
  {
   "cell_type": "markdown",
   "metadata": {
    "id": "3WxJLQJ2RgLj"
   },
   "source": [
    "1. Region-based Segmentation: Dividing an image into distinct regions based on color, texture, or intensity properties using techniques like k-means clustering, mean-shift clustering, or graph-based segmentation.\n",
    "\n",
    "\n",
    "2. Semantic Segmentation: Assigning semantic labels to each pixel in an image to distinguish different object classes or regions of interest using deep learning-based segmentation models like U-Net or Fully Convolutional Networks (FCN)."
   ]
  },
  {
   "cell_type": "code",
   "execution_count": null,
   "metadata": {
    "id": "7y-P8FaQR8Zj"
   },
   "outputs": [],
   "source": [
    "# Import Required Libraries\n",
    "import numpy as np\n",
    "from skimage import io, segmentation\n",
    "from skimage.color import rgb2gray\n",
    "import matplotlib.pyplot as plt\n",
    "\n",
    "# Load the image\n",
    "image = io.imread('image.jpg')\n",
    "\n",
    "# Convert the image to grayscale\n",
    "image_gray = rgb2gray(image)\n",
    "\n",
    "# Initialize the mask\n",
    "mask = np.zeros(image.shape[:2], dtype=np.uint8)\n",
    "\n",
    "# Set the foreground and background regions\n",
    "foreground = (image_gray > 0.5).astype(np.uint8)\n",
    "background = 1 - foreground\n",
    "\n",
    "# Set the initial markers for GrabCut algorithm\n",
    "markers = np.zeros(image.shape[:2], dtype=np.int32)\n",
    "markers[foreground == 1] = 1  # Foreground markers\n",
    "markers[background == 1] = 2  # Background markers\n",
    "\n",
    "# Apply the GrabCut algorithm\n",
    "result = segmentation.grabcut(image, markers, mask)\n",
    "\n",
    "# Extract the segmented foreground mask\n",
    "foreground_mask = np.where((result == 1) + (result == 3), 1, 0)\n",
    "\n",
    "# Display the original image and segmented mask\n",
    "fig, axes = plt.subplots(1, 2, figsize=(10, 5))\n",
    "axes[0].imshow(image)\n",
    "axes[0].set_title('Original Image')\n",
    "\n",
    "axes[1].imshow(foreground_mask, cmap='gray')\n",
    "axes[1].set_title('Segmented Mask')\n",
    "\n",
    "plt.tight_layout()\n",
    "plt.show()"
   ]
  },
  {
   "cell_type": "markdown",
   "metadata": {
    "id": "u_5ZAZS4R9AC"
   },
   "source": [
    "In this code snippet, I assume that you have a binary image file named binary_image.png in the current directory."
   ]
  },
  {
   "cell_type": "markdown",
   "metadata": {
    "id": "ACpVi-I1RgPK"
   },
   "source": [
    "### VI) Feature Fusion and Dimensionality Reduction:\n"
   ]
  },
  {
   "cell_type": "markdown",
   "metadata": {
    "id": "cNxKkD5aRx4D"
   },
   "source": [
    "1.  Feature Concatenation: Combining multiple features extracted from different techniques into a single feature vector for further analysis or modeling.\n",
    " \n",
    " \n",
    "2. Principal Component Analysis (PCA): Reducing the dimensionality of feature vectors by projecting them onto a lower-dimensional space while preserving the most important information.\n",
    "\n",
    "\n",
    "3. t-Distributed Stochastic Neighbor Embedding (t-SNE): Visualizing and reducing high-dimensional feature vectors into a lower-dimensional space for exploratory analysis or clustering."
   ]
  },
  {
   "cell_type": "code",
   "execution_count": 50,
   "metadata": {
    "colab": {
     "base_uri": "https://localhost:8080/"
    },
    "id": "6LYRLln6R98_",
    "outputId": "b1d4c859-a03a-4817-decd-7ad10b00adb7"
   },
   "outputs": [
    {
     "name": "stdout",
     "output_type": "stream",
     "text": [
      "Shape of fused features: (100, 30)\n",
      "Shape of reduced features: (100, 5)\n"
     ]
    }
   ],
   "source": [
    "# PCA\n",
    "\n",
    "# Import Required Libraries\n",
    "import numpy as np\n",
    "from sklearn.decomposition import PCA\n",
    "\n",
    "# Generate dummy feature matrices\n",
    "features1 = np.random.rand(100, 10)  # Features from source 1\n",
    "features2 = np.random.rand(100, 20)  # Features from source 2\n",
    "\n",
    "# Feature fusion using concatenation\n",
    "fusion_features = np.concatenate((features1, features2), axis=1)\n",
    "\n",
    "# Dimensionality reduction using PCA\n",
    "pca = PCA(n_components=5)  # Set the desired number of components\n",
    "reduced_features = pca.fit_transform(fusion_features)\n",
    "\n",
    "# Print the shape of the fused and reduced feature matrices\n",
    "print(\"Shape of fused features:\", fusion_features.shape)\n",
    "print(\"Shape of reduced features:\", reduced_features.shape)"
   ]
  },
  {
   "cell_type": "markdown",
   "metadata": {
    "id": "YvEiv8ZpRx7N"
   },
   "source": [
    "In this code snippet, we generate dummy feature matrices features1 and features2 as placeholders for features from different sources. features1 has shape (100, 10) and features2 has shape (100, 20)."
   ]
  },
  {
   "cell_type": "markdown",
   "metadata": {
    "id": "w1MkSmMeTLoV"
   },
   "source": [
    "## 3.3 Audio Data:"
   ]
  },
  {
   "cell_type": "markdown",
   "metadata": {
    "id": "3eWdprS8TLrV"
   },
   "source": [
    "Audio data holds valuable information that can be harnessed for diverse applications, ranging from speech recognition to music classification. However, raw audio signals are complex and challenging to process directly. Feature extraction plays a vital role in transforming raw audio into a more compact and representative format, enabling efficient analysis and machine learning tasks."
   ]
  },
  {
   "cell_type": "markdown",
   "metadata": {
    "id": "EY5TPzYTUr5t"
   },
   "source": [
    "### I) Preprocessing Audio Signals:"
   ]
  },
  {
   "cell_type": "markdown",
   "metadata": {
    "id": "JTjSrZ95TLvy"
   },
   "source": [
    "Before feature extraction, preprocessing steps such as resampling, normalization, and noise reduction are essential. These steps ensure that the audio signals are in a suitable format for subsequent analysis."
   ]
  },
  {
   "cell_type": "code",
   "execution_count": null,
   "metadata": {
    "id": "-GSoUbCATLD_"
   },
   "outputs": [],
   "source": [
    "# Import Required Libraries\n",
    "import librosa\n",
    "import numpy as np\n",
    "\n",
    "# Load the audio file\n",
    "audio_path = 'audio.wav'  # Update with the path to your audio file\n",
    "audio, sr = librosa.load(audio_path)\n",
    "\n",
    "# Resample the audio\n",
    "target_sr = 16000  # Set the desired sampling rate\n",
    "audio_resampled = librosa.resample(audio, sr, target_sr)\n",
    "\n",
    "# Normalize the audio\n",
    "audio_normalized = librosa.util.normalize(audio_resampled)\n",
    "\n",
    "# Apply noise reduction\n",
    "noise_clip = audio_normalized[:5000]  # Select a portion of audio for noise estimation\n",
    "noisy_part = audio_normalized[5000:10000]  # Select a noisy portion of audio for noise reduction\n",
    "noise_mean = np.mean(np.abs(noise_clip))\n",
    "denoised_part = noisy_part * (noise_mean / np.mean(np.abs(noisy_part)))\n",
    "\n",
    "# Combine the denoised part with the rest of the audio\n",
    "audio_denoised = np.concatenate((audio_normalized[:5000], denoised_part, audio_normalized[10000:]))\n",
    "\n",
    "# Save the preprocessed audio\n",
    "output_path = 'preprocessed_audio.wav'  # Update with the desired output path\n",
    "librosa.output.write_wav(output_path, audio_denoised, target_sr)"
   ]
  },
  {
   "cell_type": "markdown",
   "metadata": {
    "id": "ZupZkRsyVWfk"
   },
   "source": [
    "In this code snippet, I assume that there is an audio file named audio.wav in the current directory. Adjust the audio_path variable to the correct file path if needed.\n",
    "\n",
    "The code uses the librosa.load function to load the audio file and obtain the audio signal (audio) and the sampling rate (sr).\n",
    "\n",
    "To resample the audio, we specify the desired target sampling rate (target_sr) and use the librosa.resample function to perform the resampling. The resulting resampled audio is stored in the audio_resampled variable.\n",
    "\n",
    "Next, we normalize the audio using the librosa.util.normalize function, which scales the audio signal to have a maximum absolute value of 1. The normalized audio is stored in the audio_normalized variable.\n",
    "\n",
    "To apply noise reduction, we first estimate the noise by selecting a portion of the audio signal (noise_clip) that contains only background noise. Then, we select a noisy portion of the audio (noisy_part) where we want to reduce the noise. We calculate the mean absolute value of the noise clip (noise_mean) and scale the noisy part by the ratio of the noise mean to the mean absolute value of the noisy part. The denoised part is stored in the denoised_part variable.\n",
    "\n",
    "At the end, we combine the denoised part with the rest of the audio by concatenating the three audio segments: the beginning of the original audio, the denoised part, and the remaining portion of the original audio. The resulting preprocessed audio is stored in the audio_denoised variable."
   ]
  },
  {
   "cell_type": "markdown",
   "metadata": {
    "id": "TsUMnwl5V08U"
   },
   "source": [
    "### II) Time-Domain Features:\n"
   ]
  },
  {
   "cell_type": "markdown",
   "metadata": {
    "id": "4xlrEVzqWWGp"
   },
   "source": [
    "Time-domain features capture characteristics in the amplitude, energy, and temporal aspects of audio signals. Features like amplitude, zero-crossing rate, and energy provide valuable insights into the signal's properties and can be used for tasks like audio segmentation and speech recognition."
   ]
  },
  {
   "cell_type": "code",
   "execution_count": null,
   "metadata": {
    "id": "cLbMjY_rWfr7"
   },
   "outputs": [],
   "source": [
    "# Import Required Libraries\n",
    "import librosa\n",
    "\n",
    "# Load the audio file\n",
    "audio_path = 'audio.wav'  # Update with the path to your audio file\n",
    "audio, sr = librosa.load(audio_path)\n",
    "\n",
    "# Amplitude\n",
    "amplitude = librosa.amplitude_to_db(librosa.stft(audio), ref=np.max)\n",
    "\n",
    "# Zero-crossing rate\n",
    "zero_crossing_rate = librosa.feature.zero_crossing_rate(audio)\n",
    "\n",
    "# Energy\n",
    "energy = librosa.feature.rms(audio)\n",
    "\n",
    "# Print the shape of each feature\n",
    "print(\"Amplitude shape:\", amplitude.shape)\n",
    "print(\"Zero-crossing rate shape:\", zero_crossing_rate.shape)\n",
    "print(\"Energy shape:\", energy.shape)"
   ]
  },
  {
   "cell_type": "markdown",
   "metadata": {
    "id": "51cGH2iTWf1-"
   },
   "source": [
    "In this code snippet, I assume that there is an audio file named audio.wav in the current directory. Adjust the audio_path variable to the correct file path if needed.\n",
    "\n",
    "The code uses the librosa.load function to load the audio file and obtain the audio signal (audio) and the sampling rate (sr).\n",
    "\n",
    "To extract the amplitude, we first compute the Short-Time Fourier Transform (STFT) of the audio signal using the librosa.stft function. Then, we convert the magnitude spectrogram to decibels using the librosa.amplitude_to_db function. This process helps in capturing the amplitude information in a more perceptually meaningful scale. The resulting amplitude feature is stored in the amplitude variable.\n",
    "\n",
    "To calculate the zero-crossing rate, we use the librosa.feature.zero_crossing_rate function, which calculates the rate of sign-changes in the audio signal. The resulting zero-crossing rate feature is stored in the zero_crossing_rate variable.\n",
    "\n",
    "For the energy feature, we use the librosa.feature.rms function, which computes the root mean square (RMS) energy of the audio signal over short windows. The resulting energy feature is stored in the energy variable.\n",
    "\n",
    "At the end, we print the shape of each feature to verify their dimensions."
   ]
  },
  {
   "cell_type": "markdown",
   "metadata": {
    "id": "dLLmgA0nV1FH"
   },
   "source": [
    "### III) Frequency-Domain Features:\n"
   ]
  },
  {
   "cell_type": "markdown",
   "metadata": {
    "id": "q3nA5YmRV8DA"
   },
   "source": [
    "Frequency-domain features provide information about the spectral content of audio signals. Techniques like the Fast Fourier Transform (FFT) enable the analysis of signal components at different frequencies. Features such as spectral centroid and spectral flux reveal important spectral characteristics and can aid in tasks like music genre classification and audio event detection."
   ]
  },
  {
   "cell_type": "code",
   "execution_count": null,
   "metadata": {
    "id": "tDSodLivWgt8"
   },
   "outputs": [],
   "source": [
    "# Import Required Libraries\n",
    "import librosa\n",
    "\n",
    "# Load the audio file\n",
    "audio_path = 'audio.wav'  # Update with the path to your audio file\n",
    "audio, sr = librosa.load(audio_path)\n",
    "\n",
    "# Compute the Short-Time Fourier Transform (STFT)\n",
    "stft = librosa.stft(audio)\n",
    "\n",
    "# Spectral centroid\n",
    "spectral_centroid = librosa.feature.spectral_centroid(S=stft, sr=sr)\n",
    "\n",
    "# Spectral flux\n",
    "spectral_flux = librosa.onset.onset_strength(S=stft)\n",
    "\n",
    "# Print the shape of each feature\n",
    "print(\"Spectral centroid shape:\", spectral_centroid.shape)\n",
    "print(\"Spectral flux shape:\", spectral_flux.shape)"
   ]
  },
  {
   "cell_type": "markdown",
   "metadata": {
    "id": "Muz7uctVWg1G"
   },
   "source": [
    "In this code snippet, I assume that there is an audio file named audio.wav in the current directory. Adjust the audio_path variable to the correct file path if needed.\n",
    "\n",
    "The code uses the librosa.load function to load the audio file and obtain the audio signal (audio) and the sampling rate (sr).\n",
    "\n",
    "To extract frequency-domain features, we first compute the Short-Time Fourier Transform (STFT) of the audio signal using the librosa.stft function. This transforms the audio signal from the time domain to the frequency domain, providing information about the spectral content over time.\n",
    "\n",
    "To calculate the spectral centroid, we use the librosa.feature.spectral_centroid function. This feature represents the center of mass of the power spectrum and provides an estimate of the \"brightness\" of the sound. The S parameter in the function is the magnitude spectrogram obtained from the STFT, and sr is the sampling rate of the audio signal. The resulting spectral centroid feature is stored in the spectral_centroid variable.\n",
    "\n",
    "For the spectral flux feature, we use the librosa.onset.onset_strength function, which calculates the spectral flux or the rate of change of the spectrum. This feature measures how much the spectrum of the audio signal changes over time and can be useful for detecting onsets or abrupt changes in the audio. The S parameter in the function is again the magnitude spectrogram obtained from the STFT. The resulting spectral flux feature is stored in the spectral_flux variable and we print the shape of each feature to verify their dimensions."
   ]
  },
  {
   "cell_type": "markdown",
   "metadata": {
    "id": "XjuQVD9kV8GQ"
   },
   "source": [
    "### IV) Mel-Frequency Cepstral Coefficients (MFCC):\n"
   ]
  },
  {
   "cell_type": "markdown",
   "metadata": {
    "id": "AFzs7ZyhV8KQ"
   },
   "source": [
    "MFCCs are widely used in audio feature extraction. They capture both spectral and temporal aspects of audio signals by utilizing the Mel scale and the Discrete Cosine Transform (DCT). MFCCs are highly effective in speech and speaker recognition, music genre classification, and acoustic scene analysis."
   ]
  },
  {
   "cell_type": "code",
   "execution_count": null,
   "metadata": {
    "id": "sEZP4XFLWhiQ"
   },
   "outputs": [],
   "source": [
    "# Import Required Libraries\n",
    "import librosa\n",
    "\n",
    "# Load the audio file\n",
    "audio_path = 'audio.wav'  # Update with the path to your audio file\n",
    "audio, sr = librosa.load(audio_path)\n",
    "\n",
    "# Compute the MFCCs\n",
    "mfccs = librosa.feature.mfcc(audio, sr=sr, n_mfcc=13)\n",
    "\n",
    "# Print the shape of the MFCCs\n",
    "print(\"MFCCs shape:\", mfccs.shape)"
   ]
  },
  {
   "cell_type": "markdown",
   "metadata": {
    "id": "jFAW85qIWhpk"
   },
   "source": [
    "In this code snippet, I assume that there is an audio file named audio.wav in the current directory. Adjust the audio_path variable to the correct file path if needed.\n",
    "\n",
    "The code uses the librosa.load function to load the audio file and obtain the audio signal (audio) and the sampling rate (sr).\n",
    "\n",
    "To compute the MFCCs, we use the librosa.feature.mfcc function. This function takes the audio signal as input, along with the sampling rate (sr) and the number of MFCCs to be computed (n_mfcc). By default, it calculates 20 MFCCs, but you can adjust the n_mfcc parameter to a different value. The resulting MFCCs are stored in the mfccs variable.\n",
    "\n",
    "At the end, we print the shape of the MFCCs to verify their dimensions.\n",
    "\n",
    "You can further customize the code by modifying the parameters of the librosa.feature.mfcc function, such as the number of MFCCs, the window size, and the hop length, to suit your specific requirements."
   ]
  },
  {
   "cell_type": "markdown",
   "metadata": {
    "id": "DTbErM-nV8R_"
   },
   "source": [
    "### V) Chroma Features:\n"
   ]
  },
  {
   "cell_type": "markdown",
   "metadata": {
    "id": "hd4q4TioWEIg"
   },
   "source": [
    "Chroma features focus on the pitch and tonal information of audio signals. They represent the distribution of musical notes across time and are useful in tasks such as music transcription, chord recognition, and melody extraction. Chroma features provide a concise representation of the harmonic content of audio."
   ]
  },
  {
   "cell_type": "code",
   "execution_count": null,
   "metadata": {
    "id": "cM1f4rFAWiKP"
   },
   "outputs": [],
   "source": [
    "# Import Required Libraries\n",
    "import librosa\n",
    "\n",
    "# Load the audio file\n",
    "audio_path = 'audio.wav'  # Update with the path to your audio file\n",
    "audio, sr = librosa.load(audio_path)\n",
    "\n",
    "# Compute the chroma features\n",
    "chroma = librosa.feature.chroma_stft(audio, sr=sr)\n",
    "\n",
    "# Print the shape of the chroma features\n",
    "print(\"Chroma features shape:\", chroma.shape)"
   ]
  },
  {
   "cell_type": "markdown",
   "metadata": {
    "id": "aKqsxbF9WiQ5"
   },
   "source": [
    "In this code snippet, I assume that there is an audio file named audio.wav in the current directory. Adjust the audio_path variable to the correct file path if needed.\n",
    "\n",
    "The code uses the librosa.load function to load the audio file and obtain the audio signal (audio) and the sampling rate (sr).\n",
    "\n",
    "To compute the chroma features, we use the librosa.feature.chroma_stft function. This function calculates the chromagram, which represents the distribution of pitch classes in the audio signal. It uses the Short-Time Fourier Transform (STFT) to obtain the magnitude spectrogram and then maps the frequencies onto the 12 pitch classes. The resulting chroma features are stored in the chroma variable.\n",
    "\n",
    "At last, we print the shape of the chroma features to verify their dimensions.\n",
    "\n",
    "You can further customize the code by modifying the parameters of the librosa.feature.chroma_stft function, such as the window size, hop length, and the number of chroma bins, to suit your specific requirements."
   ]
  },
  {
   "cell_type": "markdown",
   "metadata": {
    "id": "xBWguK73WELP"
   },
   "source": [
    "### VI) Rhythm and Tempo Features:\n"
   ]
  },
  {
   "cell_type": "markdown",
   "metadata": {
    "id": "J1ZnNe0BWKio"
   },
   "source": [
    "Rhythm and tempo analysis are vital in music-related applications. Beat tracking algorithms detect the temporal structure of music, allowing tasks like tempo estimation, music synchronization, and rhythmic pattern recognition. Tempo features provide insights into the rhythmic characteristics of audio signals."
   ]
  },
  {
   "cell_type": "code",
   "execution_count": null,
   "metadata": {
    "id": "aXdNnmj7Wi9j"
   },
   "outputs": [],
   "source": [
    "# Import Required Libraries\n",
    "import librosa\n",
    "\n",
    "# Load the audio file\n",
    "audio_path = 'audio.wav'  # Update with the path to your audio file\n",
    "audio, sr = librosa.load(audio_path)\n",
    "\n",
    "# Compute the tempo and beat frames\n",
    "tempo, beat_frames = librosa.beat.beat_track(audio, sr=sr)\n",
    "\n",
    "# Compute the rhythm features\n",
    "rhythm = librosa.feature.tempogram(audio, sr=sr)\n",
    "\n",
    "# Print the tempo and shape of the rhythm features\n",
    "print(\"Tempo:\", tempo)\n",
    "print(\"Rhythm features shape:\", rhythm.shape)"
   ]
  },
  {
   "cell_type": "markdown",
   "metadata": {
    "id": "05OP7b6JWKmi"
   },
   "source": [
    "In this code snippet, I assume that there is an audio file named audio.wav in the current directory. Adjust the audio_path variable to the correct file path if needed.\n",
    "\n",
    "The code uses the librosa.load function to load the audio file and obtain the audio signal (audio) and the sampling rate (sr).\n",
    "\n",
    "To compute the tempo, we use the librosa.beat.beat_track function. This function estimates the tempo of the audio signal and returns the tempo in beats per minute (BPM) and the beat frames. The resulting tempo is stored in the tempo variable.\n",
    "\n",
    "To compute the rhythm features, we use the librosa.feature.tempogram function. This function computes the tempogram, which represents the local autocorrelation of the onset strength envelope. It provides information about the rhythmic patterns in the audio signal. The resulting rhythm features are stored in the rhythm variable.\n",
    "\n",
    "At last, we print the tempo and shape of the rhythm features to verify their values and dimensions."
   ]
  },
  {
   "cell_type": "markdown",
   "metadata": {
    "id": "rMXuu5avo7SZ"
   },
   "source": [
    "## 3.4 Time Series Data:"
   ]
  },
  {
   "cell_type": "markdown",
   "metadata": {
    "id": "nYeIwlXko7ZS"
   },
   "source": [
    "Feature extraction for time series data involves transforming raw time series data into a set of meaningful features that can be used for machine learning tasks. Here are some common feature extraction techniques for time series data:"
   ]
  },
  {
   "cell_type": "markdown",
   "metadata": {
    "id": "D_g4nVvEo7Vr"
   },
   "source": [
    "### I) Statistical Features: "
   ]
  },
  {
   "cell_type": "markdown",
   "metadata": {
    "id": "JJzrrzYcp2gm"
   },
   "source": [
    "Statistical features capture the distributional characteristics of the time series. Examples include mean, median, variance, standard deviation, skewness, and kurtosis. These features provide information about the central tendency, variability, and shape of the time series."
   ]
  },
  {
   "cell_type": "code",
   "execution_count": 72,
   "metadata": {
    "colab": {
     "base_uri": "https://localhost:8080/"
    },
    "id": "SNEWm-1yp2WW",
    "outputId": "b53fa92e-ffaf-409c-b509-a2105206b33d"
   },
   "outputs": [
    {
     "name": "stdout",
     "output_type": "stream",
     "text": [
      "Mean: 16.3\n",
      "Median: 16.5\n",
      "Variance: 13.566666666666668\n",
      "Standard Deviation: 3.683295625749672\n",
      "Skewness: -0.23113847973527116\n",
      "Kurtosis: -0.48210372534696866\n"
     ]
    }
   ],
   "source": [
    "# Import Required Libraries\n",
    "import pandas as pd\n",
    "\n",
    "# Create a time series dataset\n",
    "data = pd.Series([10, 15, 12, 18, 20, 14, 16, 22, 19, 17])\n",
    "\n",
    "# Calculate statistical features\n",
    "mean = data.mean()\n",
    "median = data.median()\n",
    "variance = data.var()\n",
    "std_deviation = data.std()\n",
    "skewness = data.skew()\n",
    "kurtosis = data.kurtosis()\n",
    "\n",
    "# Print the calculated features\n",
    "print(\"Mean:\", mean)\n",
    "print(\"Median:\", median)\n",
    "print(\"Variance:\", variance)\n",
    "print(\"Standard Deviation:\", std_deviation)\n",
    "print(\"Skewness:\", skewness)\n",
    "print(\"Kurtosis:\", kurtosis)"
   ]
  },
  {
   "cell_type": "markdown",
   "metadata": {
    "id": "Aof4MNkWp2BH"
   },
   "source": [
    "By running this code, you will obtain the statistical features of the given time series. You can apply similar calculations to your own time series data to extract statistical features that provide insights into the central tendency, variability, skewness, and kurtosis of the data."
   ]
  },
  {
   "cell_type": "markdown",
   "metadata": {
    "id": "BxwBCbgXo7cU"
   },
   "source": [
    "## II) Temporal Features: \n",
    "\n"
   ]
  },
  {
   "cell_type": "markdown",
   "metadata": {
    "id": "V7D8HoLbpzZF"
   },
   "source": [
    "Temporal features capture patterns and trends over time. Examples include autocorrelation, lagged values, moving averages, and exponential smoothing. These features help capture dependencies and relationships within the time series."
   ]
  },
  {
   "cell_type": "code",
   "execution_count": 73,
   "metadata": {
    "colab": {
     "base_uri": "https://localhost:8080/"
    },
    "id": "MKp4nZH0qW7J",
    "outputId": "98ce2993-ceb8-4bda-ea24-b72f7b76b181"
   },
   "outputs": [
    {
     "name": "stdout",
     "output_type": "stream",
     "text": [
      "Lagged Values:\n",
      "0     NaN\n",
      "1    10.0\n",
      "2    15.0\n",
      "3    12.0\n",
      "4    18.0\n",
      "5    20.0\n",
      "6    14.0\n",
      "7    16.0\n",
      "8    22.0\n",
      "9    19.0\n",
      "dtype: float64\n",
      "0     NaN\n",
      "1     NaN\n",
      "2    10.0\n",
      "3    15.0\n",
      "4    12.0\n",
      "5    18.0\n",
      "6    20.0\n",
      "7    14.0\n",
      "8    16.0\n",
      "9    22.0\n",
      "dtype: float64\n",
      "\n",
      "Moving Average:\n",
      "0          NaN\n",
      "1          NaN\n",
      "2    12.333333\n",
      "3    15.000000\n",
      "4    16.666667\n",
      "5    17.333333\n",
      "6    16.666667\n",
      "7    17.333333\n",
      "8    19.000000\n",
      "9    19.333333\n",
      "dtype: float64\n",
      "\n",
      "Moving Standard Deviation:\n",
      "0         NaN\n",
      "1         NaN\n",
      "2    2.516611\n",
      "3    3.000000\n",
      "4    4.163332\n",
      "5    3.055050\n",
      "6    3.055050\n",
      "7    4.163332\n",
      "8    3.000000\n",
      "9    2.516611\n",
      "dtype: float64\n",
      "\n",
      "Exponential Smoothing:\n",
      "0    10.000000\n",
      "1    13.333333\n",
      "2    12.571429\n",
      "3    15.466667\n",
      "4    17.806452\n",
      "5    15.873016\n",
      "6    15.937008\n",
      "7    18.980392\n",
      "8    18.990215\n",
      "9    17.994135\n",
      "dtype: float64\n"
     ]
    }
   ],
   "source": [
    "# Import Required Libraries\n",
    "import pandas as pd\n",
    "\n",
    "# Create a time series dataset\n",
    "data = pd.Series([10, 15, 12, 18, 20, 14, 16, 22, 19, 17])\n",
    "\n",
    "# Calculate temporal features\n",
    "lag_1 = data.shift(1)  # Lagged values\n",
    "lag_2 = data.shift(2)\n",
    "rolling_mean = data.rolling(window=3).mean()  # Moving average\n",
    "rolling_std = data.rolling(window=3).std()  # Moving standard deviation\n",
    "exponential_smoothing = data.ewm(alpha=0.5).mean()  # Exponential smoothing\n",
    "\n",
    "# Print the calculated features\n",
    "print(\"Lagged Values:\")\n",
    "print(lag_1)\n",
    "print(lag_2)\n",
    "print(\"\\nMoving Average:\")\n",
    "print(rolling_mean)\n",
    "print(\"\\nMoving Standard Deviation:\")\n",
    "print(rolling_std)\n",
    "print(\"\\nExponential Smoothing:\")\n",
    "print(exponential_smoothing)"
   ]
  },
  {
   "cell_type": "markdown",
   "metadata": {
    "id": "V6z7jjcrqdL6"
   },
   "source": [
    "By running this code, you will obtain the temporal features of the given time series. You can apply similar calculations to your own time series data to extract temporal features that capture patterns, trends, and dependencies over time."
   ]
  },
  {
   "cell_type": "markdown",
   "metadata": {
    "id": "JjtmZcrkpzcc"
   },
   "source": [
    "### III) Frequency Domain Features: \n"
   ]
  },
  {
   "cell_type": "markdown",
   "metadata": {
    "id": "IpMm9fDRqf-P"
   },
   "source": [
    "Frequency domain features capture the spectral characteristics of the time series by transforming it into the frequency domain. Common techniques include Fourier transform, wavelet transform, and power spectral density estimation. These features provide information about the dominant frequencies and periodicity in the time series.\n"
   ]
  },
  {
   "cell_type": "code",
   "execution_count": 74,
   "metadata": {
    "colab": {
     "base_uri": "https://localhost:8080/",
     "height": 472
    },
    "id": "S4kuNJ-nqtkP",
    "outputId": "124f95b3-f805-4d8d-9863-93a869d18d14"
   },
   "outputs": [
    {
     "data": {
      "image/png": "[encoded data removed]",
      "text/plain": [
       "<Figure size 640x480 with 1 Axes>"
      ]
     },
     "metadata": {},
     "output_type": "display_data"
    }
   ],
   "source": [
    "# Import Required Libraries\n",
    "import numpy as np\n",
    "from scipy.fft import fft, fftfreq\n",
    "import matplotlib.pyplot as plt\n",
    "\n",
    "# Create a time series dataset\n",
    "data = np.array([10, 15, 12, 18, 20, 14, 16, 22, 19, 17])\n",
    "time = np.arange(len(data))\n",
    "\n",
    "# Perform Fourier Transform\n",
    "fft_vals = fft(data)\n",
    "freqs = fftfreq(len(data))\n",
    "\n",
    "# Plot the power spectrum\n",
    "plt.plot(freqs, np.abs(fft_vals))\n",
    "plt.xlabel('Frequency')\n",
    "plt.ylabel('Amplitude')\n",
    "plt.title('Power Spectrum')\n",
    "plt.show()"
   ]
  },
  {
   "cell_type": "markdown",
   "metadata": {
    "id": "AgGQ6CGyrUZG"
   },
   "source": [
    "By running this code, you will obtain a power spectrum plot that represents the frequency domain characteristics of the given time series. The plot shows the distribution of amplitudes across different frequency components. You can further analyze the power spectrum to extract relevant frequency domain features, such as dominant frequencies, peak amplitudes, or spectral energy distribution."
   ]
  },
  {
   "cell_type": "markdown",
   "metadata": {
    "id": "bDUT3QWJqgIn"
   },
   "source": [
    "### IV) Waveform Shape Features: \n",
    "\n"
   ]
  },
  {
   "cell_type": "markdown",
   "metadata": {
    "id": "AVw66-OQpzf9"
   },
   "source": [
    "Waveform shape features capture the geometric properties of the time series. Examples include slope, curvature, and area under the curve. These features provide insights into the overall shape and dynamics of the time series."
   ]
  },
  {
   "cell_type": "code",
   "execution_count": 75,
   "metadata": {
    "colab": {
     "base_uri": "https://localhost:8080/"
    },
    "id": "VmHz_J2Oq-vg",
    "outputId": "4f1503e0-7551-4687-b0c3-37949df3450f"
   },
   "outputs": [
    {
     "name": "stdout",
     "output_type": "stream",
     "text": [
      "Slope: [ 5.   1.   1.5  4.  -2.  -2.   4.   1.5 -2.5 -2. ]\n",
      "Curvature: [-4.   -1.75  1.5  -1.75 -3.    3.    1.75 -3.25 -1.75  0.5 ]\n",
      "Area: 149.5\n"
     ]
    }
   ],
   "source": [
    "# Import Required Libraries\n",
    "import numpy as np\n",
    "\n",
    "# Create a time series dataset\n",
    "data = np.array([10, 15, 12, 18, 20, 14, 16, 22, 19, 17])\n",
    "\n",
    "# Calculate waveform shape features\n",
    "slope = np.gradient(data)  # Slope of the waveform\n",
    "curvature = np.gradient(np.gradient(data))  # Curvature of the waveform\n",
    "area = np.trapz(data)  # Area under the curve\n",
    "\n",
    "# Print the calculated features\n",
    "print(\"Slope:\", slope)\n",
    "print(\"Curvature:\", curvature)\n",
    "print(\"Area:\", area)"
   ]
  },
  {
   "cell_type": "markdown",
   "metadata": {
    "id": "Ci7uMgSqr-46"
   },
   "source": [
    "By running this code, you will obtain the waveform shape features of the given time series. You can apply similar calculations to your own time series data to extract waveform shape features that capture the slope, curvature, and overall shape characteristics of the waveform."
   ]
  },
  {
   "cell_type": "markdown",
   "metadata": {
    "id": "Q1-PiZpFpzjw"
   },
   "source": [
    "### V) Statistical Models: \n",
    "\n"
   ]
  },
  {
   "cell_type": "markdown",
   "metadata": {
    "id": "ahDVtekVqntl"
   },
   "source": [
    "Statistical models such as ARIMA (AutoRegressive Integrated Moving Average) or SARIMA (Seasonal ARIMA) can be used to extract features such as model parameters, residuals, and model diagnostics. These features capture the underlying patterns and relationships in the time series."
   ]
  },
  {
   "cell_type": "code",
   "execution_count": 78,
   "metadata": {
    "colab": {
     "base_uri": "https://localhost:8080/"
    },
    "id": "iSTN-q_srxgz",
    "outputId": "e5ea8a6b-0718-42c0-dcde-8edc11ea9875"
   },
   "outputs": [
    {
     "name": "stdout",
     "output_type": "stream",
     "text": [
      "Predicted values:\n",
      "0     -0.045295\n",
      "1     -0.092556\n",
      "2     -0.056931\n",
      "3     -0.072043\n",
      "4     -0.105011\n",
      "         ...   \n",
      "995   -0.054030\n",
      "996   -0.057263\n",
      "997   -0.041296\n",
      "998   -0.048939\n",
      "999   -0.016502\n",
      "Name: predicted_mean, Length: 1000, dtype: float64\n"
     ]
    }
   ],
   "source": [
    "# Import Required Libraries\n",
    "import numpy as np\n",
    "import pandas as pd\n",
    "from statsmodels.tsa.arima.model import ARIMA\n",
    "\n",
    "# Generate a synthetic time series dataset\n",
    "np.random.seed(0)\n",
    "n = 1000\n",
    "data = pd.DataFrame({'value': np.random.randn(n)})\n",
    "\n",
    "# Extract features using ARIMA\n",
    "model = ARIMA(data['value'], order=(1, 0, 0))\n",
    "model_fit = model.fit()\n",
    "\n",
    "# Get the predicted values\n",
    "predictions = model_fit.predict(start=0, end=n-1)\n",
    "\n",
    "# Print the extracted features\n",
    "print(\"Predicted values:\")\n",
    "print(predictions)"
   ]
  },
  {
   "cell_type": "markdown",
   "metadata": {
    "id": "U3xYwUrzryOM"
   },
   "source": [
    "Keep in mind that this is a simple example using synthetic data. In real-world scenarios, you may have more complex time series data and would need to adjust the model parameters and perform additional preprocessing steps as necessary."
   ]
  },
  {
   "cell_type": "markdown",
   "metadata": {
    "id": "9M-oDThHqnxk"
   },
   "source": [
    "### VI) Entropy-Based Features:\n",
    "\n"
   ]
  },
  {
   "cell_type": "markdown",
   "metadata": {
    "id": "S_SVOiuiqn5H"
   },
   "source": [
    "Entropy-based features measure the complexity and unpredictability of the time series. Examples include approximate entropy, sample entropy, and permutation entropy. These features provide insights into the irregularity and randomness of the time series."
   ]
  },
  {
   "cell_type": "code",
   "execution_count": 81,
   "metadata": {
    "colab": {
     "base_uri": "https://localhost:8080/"
    },
    "id": "F5l4DrBort1g",
    "outputId": "7b95acd2-63da-4d6f-d2a6-70a9e2afe4d2"
   },
   "outputs": [
    {
     "name": "stdout",
     "output_type": "stream",
     "text": [
      "Sample Entropy: inf\n"
     ]
    }
   ],
   "source": [
    "# Import Required Libraries\n",
    "import numpy as np\n",
    "from nolds import sampen\n",
    "\n",
    "# Create a time series dataset\n",
    "data = np.array([1, 2, 3, 4, 5, 4, 3, 2, 1])\n",
    "\n",
    "# Calculate sample entropy\n",
    "sample_entropy = sampen(data)\n",
    "\n",
    "# Print the calculated sample entropy\n",
    "print(\"Sample Entropy:\", sample_entropy)"
   ]
  },
  {
   "cell_type": "markdown",
   "metadata": {
    "id": "uqA0u1BMruJ-"
   },
   "source": [
    "By running this code, you will obtain the sample entropy of the given time series. Sample entropy quantifies the amount of regularity or irregularity in the data. Higher values of sample entropy indicate greater complexity or randomness in the time series.\n",
    "\n",
    "Please note that nolds is just one library that provides implementations of entropy-based features. There are other libraries and methods available to calculate entropy-based features, and the choice of library may depend on the specific requirements of your analysis."
   ]
  },
  {
   "cell_type": "markdown",
   "metadata": {
    "id": "997wFx84qn8z"
   },
   "source": [
    "### VII) Symbolic Aggregate Approximation (SAX): \n",
    "\n"
   ]
  },
  {
   "cell_type": "markdown",
   "metadata": {
    "id": "8K18pFN7qoA5"
   },
   "source": [
    "SAX is a technique that converts the time series into a symbolic representation. It divides the time series into segments and assigns symbols to represent the segments based on their statistical properties. This enables the use of discrete and categorical features for time series analysis."
   ]
  },
  {
   "cell_type": "code",
   "execution_count": 84,
   "metadata": {
    "colab": {
     "base_uri": "https://localhost:8080/"
    },
    "id": "9i0NLZICrqSw",
    "outputId": "ff862128-5e1e-42ee-ed59-a13e10330461"
   },
   "outputs": [
    {
     "name": "stdout",
     "output_type": "stream",
     "text": [
      "SAX Encoded Representation:\n",
      "[['a' 'a' 'b' 'c' 'c' 'c' 'b' 'a' 'a']]\n"
     ]
    }
   ],
   "source": [
    "# Import Required Libraries\n",
    "import numpy as np\n",
    "from pyts.approximation import SymbolicAggregateApproximation\n",
    "\n",
    "# Create a time series dataset\n",
    "data = np.array([1, 2, 3, 4, 5, 4, 3, 2, 1])\n",
    "\n",
    "# Set the number of bins for SAX\n",
    "n_bins = 3\n",
    "\n",
    "# Perform SAX encoding\n",
    "sax = SymbolicAggregateApproximation(n_bins=n_bins)\n",
    "sax_encoded = sax.transform(data.reshape(1, -1))\n",
    "\n",
    "# Print the SAX encoded representation\n",
    "print(\"SAX Encoded Representation:\")\n",
    "print(sax_encoded)"
   ]
  },
  {
   "cell_type": "markdown",
   "metadata": {
    "id": "eSkdjpOcrqd7"
   },
   "source": [
    "By running this code, you will obtain the SAX encoded representation of the given time series. SAX represents the time series using a set of symbols, each symbol corresponding to a specific range of values. The length of the SAX representation is typically shorter than the original time series, providing a more compact representation for further analysis."
   ]
  },
  {
   "cell_type": "markdown",
   "metadata": {
    "id": "x_9GBP8RqoEb"
   },
   "source": [
    "### VIII) Deep Learning-based Features: "
   ]
  },
  {
   "cell_type": "markdown",
   "metadata": {
    "id": "UDitf0Parj_e"
   },
   "source": [
    "Deep learning techniques such as recurrent neural networks (RNNs) and convolutional neural networks (CNNs) can automatically learn meaningful representations from raw time series data. Features can be extracted from intermediate layers or learned directly from the input time series using techniques like transfer learning or autoencoders."
   ]
  },
  {
   "cell_type": "code",
   "execution_count": null,
   "metadata": {
    "id": "6AzMIfecrkLO"
   },
   "outputs": [],
   "source": [
    "# Import Required Libraries\n",
    "import numpy as np\n",
    "from keras.applications import VGG16\n",
    "from keras.applications.vgg16 import preprocess_input\n",
    "from keras.preprocessing import image\n",
    "\n",
    "# Load the pre-trained CNN model\n",
    "model = VGG16(weights='imagenet', include_top=False)\n",
    "\n",
    "# Load and preprocess the image\n",
    "img_path = 'image.jpg'  # Path to your image\n",
    "img = image.load_img(img_path, target_size=(224, 224))\n",
    "x = image.img_to_array(img)\n",
    "x = np.expand_dims(x, axis=0)\n",
    "x = preprocess_input(x)\n",
    "\n",
    "# Extract deep learning-based features\n",
    "features = model.predict(x)\n",
    "\n",
    "# Flatten the features\n",
    "features = features.flatten()\n",
    "\n",
    "# Print the extracted features\n",
    "print(\"Deep Learning-based Features:\")\n",
    "print(features)"
   ]
  },
  {
   "cell_type": "markdown",
   "metadata": {
    "id": "erHuC2z2rkVG"
   },
   "source": [
    "Note that this example demonstrates feature extraction from an image using a pre-trained CNN model. The process may vary depending on the type of data (e.g., images, text, audio) and the specific deep learning model being used."
   ]
  },
  {
   "cell_type": "markdown",
   "metadata": {
    "id": "G0Elp-CNv6XU"
   },
   "source": [
    "These are just a few examples of feature extraction techniques for time series data. The choice of techniques depends on the specific characteristics and objectives of the time series data analysis task. It's important to explore and experiment with different feature extraction methods to identify the most relevant and informative features for the specific problem at hand."
   ]
  },
  {
   "cell_type": "markdown",
   "metadata": {
    "id": "jK7hXsN-WKrk"
   },
   "source": [
    "## 4. Feature Selection Methods:"
   ]
  },
  {
   "cell_type": "markdown",
   "metadata": {
    "id": "UDRme-eEan5N"
   },
   "source": [
    "Feature selection is an important step in machine learning and data analysis that aims to identify and select the most relevant features from a given set of features. The goal of feature selection is to improve model performance, reduce overfitting, enhance interpretability, and reduce computational complexity.\n",
    "\n",
    "Feature selection not only improves model performance but also offers benefits such as reducing training time, enhancing model interpretability, and handling high-dimensional data. It helps to focus on the most informative features, eliminating noise and irrelevant information, leading to more efficient and effective machine learning models."
   ]
  },
  {
   "cell_type": "markdown",
   "metadata": {
    "id": "q338uyjKbAYi"
   },
   "source": [
    "### 4.1 Filter Methods:"
   ]
  },
  {
   "cell_type": "markdown",
   "metadata": {
    "id": "H7yiVKx3an-_"
   },
   "source": [
    "Filter methods evaluate the relevance of features based on their statistical properties, such as correlation, variance, or mutual information. These methods rank or score features independently of the machine learning algorithm used. Common filter methods include correlation coefficient, chi-square test, information gain, and variance threshold."
   ]
  },
  {
   "cell_type": "code",
   "execution_count": 55,
   "metadata": {
    "colab": {
     "base_uri": "https://localhost:8080/"
    },
    "id": "y9r63_nZbGXH",
    "outputId": "9db1f3d2-15a6-4a7c-92f2-7def60e9f25f"
   },
   "outputs": [
    {
     "name": "stdout",
     "output_type": "stream",
     "text": [
      "Mutual information scores: [0.01072823 0.         0.05089959 0.0034255  0.12904149 0.01035763\n",
      " 0.00115023 0.06558639 0.09090014 0.        ]\n",
      "Selected features using mutual information gain: [4 8 7 2 0]\n"
     ]
    }
   ],
   "source": [
    "# Import Required Libraries\n",
    "from sklearn.datasets import make_classification\n",
    "from sklearn.feature_selection import SelectKBest, mutual_info_classif\n",
    "import numpy as np\n",
    "\n",
    "# Create a random dataset\n",
    "X, y = make_classification(n_samples=1000, n_features=10, n_informative=5, n_redundant=0, random_state=42)\n",
    "\n",
    "# Apply mutual information gain to select features\n",
    "mi_selector = SelectKBest(mutual_info_classif, k=5)\n",
    "mi_selector.fit(X, y)\n",
    "\n",
    "# Get the scores for each feature\n",
    "mi_scores = mi_selector.scores_\n",
    "\n",
    "# Print the scores\n",
    "print(\"Mutual information scores:\", mi_scores)\n",
    "\n",
    "# Print the selected features based on scores\n",
    "selected_mi_indices = np.argsort(mi_scores)[::-1][:5]\n",
    "print(\"Selected features using mutual information gain:\", selected_mi_indices)"
   ]
  },
  {
   "cell_type": "markdown",
   "metadata": {
    "id": "v5oraYmdeOMM"
   },
   "source": [
    "### 4.2 Wrapper Methods:"
   ]
  },
  {
   "cell_type": "markdown",
   "metadata": {
    "id": "gCqhqzZeeSY2"
   },
   "source": [
    "Wrapper methods evaluate the performance of a machine learning algorithm by considering different subsets of features. They use a specific machine learning algorithm as a black box to assess the quality of the feature subset. Examples of wrapper methods include forward selection, backward elimination, and recursive feature elimination (RFE)."
   ]
  },
  {
   "cell_type": "code",
   "execution_count": 56,
   "metadata": {
    "colab": {
     "base_uri": "https://localhost:8080/"
    },
    "id": "q5_mEzQlblCU",
    "outputId": "2be056f3-2554-4849-9402-85fda60731b8"
   },
   "outputs": [
    {
     "name": "stdout",
     "output_type": "stream",
     "text": [
      "Selected features:\n",
      "Feature 3\n",
      "Feature 4\n",
      "Feature 6\n",
      "Feature 7\n",
      "Feature 8\n",
      "Feature 11\n",
      "Feature 13\n",
      "Feature 14\n",
      "Feature 15\n",
      "Feature 16\n",
      "Feature 17\n",
      "Feature 19\n",
      "Feature 20\n"
     ]
    }
   ],
   "source": [
    "# Import Required Libraries\n",
    "from sklearn.datasets import make_classification\n",
    "from sklearn.feature_selection import RFECV\n",
    "from sklearn.linear_model import LogisticRegression\n",
    "\n",
    "# Create a random dataset\n",
    "X, y = make_classification(n_samples=1000, n_features=20, n_informative=10, random_state=42)\n",
    "\n",
    "# Create a base classifier\n",
    "clf = LogisticRegression()\n",
    "\n",
    "# Create a recursive feature elimination object with cross-validation\n",
    "rfecv = RFECV(estimator=clf, cv=5)\n",
    "\n",
    "# Fit the recursive feature elimination model\n",
    "rfecv.fit(X, y)\n",
    "\n",
    "# Get the selected feature indices\n",
    "selected_indices = rfecv.support_\n",
    "\n",
    "# Get the selected feature names\n",
    "selected_features = [f\"Feature {i}\" for i, selected in enumerate(selected_indices, start=1) if selected]\n",
    "\n",
    "# Print the selected feature names\n",
    "print(\"Selected features:\")\n",
    "for feature in selected_features:\n",
    "    print(feature)"
   ]
  },
  {
   "cell_type": "markdown",
   "metadata": {
    "id": "mgQqnc8yeqcA"
   },
   "source": [
    "Note that you may need to adjust the code based on the specific dataset and classifier you are using. Additionally, you can modify the parameters of RFECV, such as scoring metrics or step size, to suit your requirements."
   ]
  },
  {
   "cell_type": "markdown",
   "metadata": {
    "id": "sDOMKMhpetqY"
   },
   "source": [
    "### 4.3 Embedded Methods:"
   ]
  },
  {
   "cell_type": "markdown",
   "metadata": {
    "id": "ITOFM959etuW"
   },
   "source": [
    "Embedded methods perform feature selection as an integral part of the machine learning algorithm. They select features during the model training process, taking into account their importance in relation to the model's performance. Embedded methods include techniques such as L1 regularization (Lasso), decision tree-based feature importance, and gradient boosting feature importance."
   ]
  },
  {
   "cell_type": "code",
   "execution_count": 57,
   "metadata": {
    "colab": {
     "base_uri": "https://localhost:8080/"
    },
    "id": "jL2AdUdpejr2",
    "outputId": "78c76b95-c19b-4ea1-aa13-57a2dab498ae"
   },
   "outputs": [
    {
     "name": "stdout",
     "output_type": "stream",
     "text": [
      "Selected features:\n",
      "Feature 1\n",
      "Feature 2\n",
      "Feature 4\n",
      "Feature 5\n",
      "Feature 6\n",
      "Feature 7\n",
      "Feature 9\n",
      "Feature 10\n",
      "Feature 11\n",
      "Feature 12\n",
      "Feature 13\n",
      "Feature 14\n",
      "Feature 15\n",
      "Feature 16\n",
      "Feature 17\n",
      "Feature 18\n",
      "Feature 19\n"
     ]
    }
   ],
   "source": [
    "# Import Required Libraries\n",
    "from sklearn.datasets import make_classification\n",
    "from sklearn.linear_model import LogisticRegression\n",
    "\n",
    "# Create a random dataset\n",
    "X, y = make_classification(n_samples=1000, n_features=20, n_informative=10, random_state=42)\n",
    "\n",
    "# Create a logistic regression model with L1 regularization\n",
    "model = LogisticRegression(penalty='l1', solver='liblinear')\n",
    "\n",
    "# Fit the model to the data\n",
    "model.fit(X, y)\n",
    "\n",
    "# Get the coefficients of the features\n",
    "coefficients = model.coef_\n",
    "\n",
    "# Get the selected feature indices\n",
    "selected_indices = [i for i, coef in enumerate(coefficients[0]) if coef != 0]\n",
    "\n",
    "# Get the selected feature names\n",
    "selected_features = [f\"Feature {i}\" for i in selected_indices]\n",
    "\n",
    "# Print the selected feature names\n",
    "print(\"Selected features:\")\n",
    "for feature in selected_features:\n",
    "    print(feature)"
   ]
  },
  {
   "cell_type": "markdown",
   "metadata": {
    "id": "qwmisaN8e_ib"
   },
   "source": [
    "Each feature selection method has its strengths and limitations, and the choice of method depends on the specific problem and data characteristics. It is often recommended to try different feature selection techniques and compare their results to find the most suitable one for a particular task."
   ]
  },
  {
   "cell_type": "markdown",
   "metadata": {
    "id": "lK_PjdX_fA4M"
   },
   "source": [
    "## 5. Feature Construction Techniques:"
   ]
  },
  {
   "cell_type": "markdown",
   "metadata": {
    "id": "KEy2v6mifA7r"
   },
   "source": [
    "Feature construction techniques involve creating new features from existing ones to enhance the predictive power of a machine learning model. Here's a brief overview of common feature construction techniques:"
   ]
  },
  {
   "cell_type": "markdown",
   "metadata": {
    "id": "3X_G3yGyfBCL"
   },
   "source": [
    "### 5.1 Polynomial Features: "
   ]
  },
  {
   "cell_type": "markdown",
   "metadata": {
    "id": "Eu_rJcgYfvOQ"
   },
   "source": [
    "This technique involves creating new features by taking the polynomial combinations of the original features. For example, given a feature x, polynomial features can include x^2, x^3, etc. This allows the model to capture non-linear relationships between features and the target variable."
   ]
  },
  {
   "cell_type": "code",
   "execution_count": 58,
   "metadata": {
    "colab": {
     "base_uri": "https://localhost:8080/"
    },
    "id": "NSMa-23If8_I",
    "outputId": "5accce7f-4693-4378-b99a-d3b7b22b9717"
   },
   "outputs": [
    {
     "name": "stdout",
     "output_type": "stream",
     "text": [
      "Original features:\n",
      "[[1 2]\n",
      " [3 4]\n",
      " [5 6]]\n",
      "Polynomial features:\n",
      "[[ 1.  1.  2.  1.  2.  4.]\n",
      " [ 1.  3.  4.  9. 12. 16.]\n",
      " [ 1.  5.  6. 25. 30. 36.]]\n"
     ]
    }
   ],
   "source": [
    "# Import Required Libraries\n",
    "from sklearn.preprocessing import PolynomialFeatures\n",
    "import numpy as np\n",
    "\n",
    "# Create a sample dataset\n",
    "X = np.array([[1, 2], [3, 4], [5, 6]])\n",
    "\n",
    "# Create polynomial features with degree 2\n",
    "poly = PolynomialFeatures(degree=2)\n",
    "X_poly = poly.fit_transform(X)\n",
    "\n",
    "# Print the original features\n",
    "print(\"Original features:\")\n",
    "print(X)\n",
    "\n",
    "# Print the polynomial features\n",
    "print(\"Polynomial features:\")\n",
    "print(X_poly)"
   ]
  },
  {
   "cell_type": "markdown",
   "metadata": {
    "id": "FJaI527If9Lh"
   },
   "source": [
    "The polynomial features include the original features as well as the combinations up to degree 2. In this case, the polynomial features include the constant term (1), the original features ([1, 2], [3, 4], [5, 6]), and the combinations of the original features (11, 12, 22, 33, 34, 44, 55, 56, 6*6).\n",
    "\n",
    "You can adjust the degree parameter to create polynomial features of higher degrees if desired."
   ]
  },
  {
   "cell_type": "markdown",
   "metadata": {
    "id": "XHGEDKGEfvR3"
   },
   "source": [
    "### 5.2 Interactions Term:"
   ]
  },
  {
   "cell_type": "markdown",
   "metadata": {
    "id": "Yzl7J6sPfvVH"
   },
   "source": [
    "Interaction features are created by combining two or more existing features using mathematical operations like multiplication, division, or addition. These features capture interactions between different variables and can provide additional information to the model."
   ]
  },
  {
   "cell_type": "code",
   "execution_count": 59,
   "metadata": {
    "colab": {
     "base_uri": "https://localhost:8080/"
    },
    "id": "ZA6eBoq-gNQh",
    "outputId": "08ba4693-30e5-4a37-f530-89d2b54f49d6"
   },
   "outputs": [
    {
     "name": "stdout",
     "output_type": "stream",
     "text": [
      "Original features:\n",
      "[[1 2]\n",
      " [3 4]\n",
      " [5 6]]\n",
      "Interaction terms:\n",
      "[[ 1.  2.  2.]\n",
      " [ 3.  4. 12.]\n",
      " [ 5.  6. 30.]]\n"
     ]
    }
   ],
   "source": [
    "# Import Required Libraries\n",
    "from sklearn.preprocessing import PolynomialFeatures\n",
    "import numpy as np\n",
    "\n",
    "# Create a sample dataset\n",
    "X = np.array([[1, 2], [3, 4], [5, 6]])\n",
    "\n",
    "# Create interaction terms\n",
    "interaction = PolynomialFeatures(degree=2, interaction_only=True, include_bias=False)\n",
    "X_interaction = interaction.fit_transform(X)\n",
    "\n",
    "# Print the original features\n",
    "print(\"Original features:\")\n",
    "print(X)\n",
    "\n",
    "# Print the interaction terms\n",
    "print(\"Interaction terms:\")\n",
    "print(X_interaction)"
   ]
  },
  {
   "cell_type": "markdown",
   "metadata": {
    "id": "kTMLpes_fvY6"
   },
   "source": [
    "The interaction terms include the original features as well as the products of the features. In this case, the interaction terms are calculated as follows:\n",
    "\n",
    "The first row: 1 * 2, 1 * 2 (the same feature), 2 * 2\n",
    "\n",
    "The second row: 3 * 4, 3 * 4 (the same feature), 4 * 4\n",
    "\n",
    "The third row: 5 * 6, 5 * 6 (the same feature), 6 * 6\n",
    "\n",
    "This way, you obtain interaction terms that capture the combined effects of the original features."
   ]
  },
  {
   "cell_type": "markdown",
   "metadata": {
    "id": "L_eywvolfvcF"
   },
   "source": [
    "### 5.3 Domain-Specific Features: "
   ]
  },
  {
   "cell_type": "markdown",
   "metadata": {
    "id": "rX6V8hbLfvfF"
   },
   "source": [
    "Domain knowledge plays a crucial role in feature construction. Understanding the problem domain allows for the creation of relevant and meaningful features. For example, in natural language processing, features like word counts, sentence length, or part-of-speech tags can be constructed to capture linguistic information."
   ]
  },
  {
   "cell_type": "code",
   "execution_count": 61,
   "metadata": {
    "colab": {
     "base_uri": "https://localhost:8080/"
    },
    "id": "vGdh-iQogKmo",
    "outputId": "cefad998-eec9-452f-f277-aaabbda7ab50"
   },
   "outputs": [
    {
     "name": "stdout",
     "output_type": "stream",
     "text": [
      "                   text category  word_count  avg_word_length  stopword_count  \\\n",
      "0     I love this movie    movie           4             3.50               2   \n",
      "1  This book is amazing     book           4             4.25               2   \n",
      "2  The weather is great  weather           4             4.25               2   \n",
      "\n",
      "                                       tfidf_feature  \n",
      "0  [0.0, 0.0, 0.0, 0.0, 0.6227660078332259, 0.622...  \n",
      "1  [0.5628290964997665, 0.5628290964997665, 0.0, ...  \n",
      "2  [0.0, 0.0, 0.5286346066596935, 0.4020402441612...  \n"
     ]
    },
    {
     "name": "stderr",
     "output_type": "stream",
     "text": [
      "[nltk_data] Downloading package stopwords to /root/nltk_data...\n",
      "[nltk_data]   Unzipping corpora/stopwords.zip.\n"
     ]
    }
   ],
   "source": [
    "# Import Required Libraries\n",
    "import pandas as pd\n",
    "import nltk\n",
    "nltk.download('stopwords')\n",
    "from nltk.corpus import stopwords\n",
    "from sklearn.feature_extraction.text import TfidfVectorizer\n",
    "\n",
    "# Example dataset\n",
    "data = pd.DataFrame({'text': ['I love this movie', 'This book is amazing', 'The weather is great'],\n",
    "                     'category': ['movie', 'book', 'weather']})\n",
    "\n",
    "# Domain-specific feature: Word Count\n",
    "data['word_count'] = data['text'].apply(lambda x: len(str(x).split()))\n",
    "\n",
    "# Domain-specific feature: Average Word Length\n",
    "data['avg_word_length'] = data['text'].apply(lambda x: np.mean([len(word) for word in str(x).split()]))\n",
    "\n",
    "# Domain-specific feature: Stopword Count\n",
    "stop_words = set(stopwords.words('english'))\n",
    "data['stopword_count'] = data['text'].apply(lambda x: len([word for word in str(x).split() if word.lower() in stop_words]))\n",
    "\n",
    "# Domain-specific feature: Term Frequency-Inverse Document Frequency (TF-IDF)\n",
    "tfidf = TfidfVectorizer()\n",
    "tfidf_features = tfidf.fit_transform(data['text'])\n",
    "data['tfidf_feature'] = [tfidf_features[i].toarray().tolist()[0] for i in range(tfidf_features.shape[0])]\n",
    "\n",
    "# Print the modified dataset\n",
    "print(data)"
   ]
  },
  {
   "cell_type": "markdown",
   "metadata": {
    "id": "-a9D34N_iR6b"
   },
   "source": [
    "In this code snippet, we start by importing the necessary libraries, including NLTK for stopword removal, and scikit-learn's TfidfVectorizer for TF-IDF feature extraction.\n",
    "\n",
    "We then create an example dataset consisting of text samples and their corresponding categories.\n",
    "\n",
    "Next, we create domain-specific features:\n",
    "\n",
    "1. Word Count: We count the number of words in each text sample using the split() function and len().\n",
    "\n",
    "2. Average Word Length: We calculate the average length of words in each text sample by iterating over the words and calculating their lengths.\n",
    "\n",
    "3. Stopword Count: We count the number of stopwords in each text sample by checking if each word is in the list of stopwords.\n",
    "\n",
    "4. TF-IDF Feature: We apply TF-IDF feature extraction using the TfidfVectorizer and store the resulting features in a separate column. Each TF-IDF feature is represented as a list of TF-IDF values for each word in the corresponding text sample."
   ]
  },
  {
   "cell_type": "markdown",
   "metadata": {
    "id": "jOCbBhJmgLXq"
   },
   "source": [
    "The output will display the original dataset with the added domain-specific features, such as word count, average word length, stopword count, and TF-IDF features for each text sample."
   ]
  },
  {
   "cell_type": "markdown",
   "metadata": {
    "id": "5ENHXPnlgLhF"
   },
   "source": [
    "### 5.4 Revisiting Feature Scaling:"
   ]
  },
  {
   "cell_type": "markdown",
   "metadata": {
    "id": "DX1sX6wbgUB9"
   },
   "source": [
    "Transforming features through scaling or normalization can sometimes improve the performance of a model. Techniques like min-max scaling or z-score normalization can ensure that features are on similar scales and have comparable importance during model training."
   ]
  },
  {
   "cell_type": "code",
   "execution_count": 62,
   "metadata": {
    "colab": {
     "base_uri": "https://localhost:8080/"
    },
    "id": "6mz8Y-ingTXP",
    "outputId": "a857d78e-caed-4005-adfa-ebd736b5da9a"
   },
   "outputs": [
    {
     "name": "stdout",
     "output_type": "stream",
     "text": [
      "Original features:\n",
      "[[1 2]\n",
      " [3 4]\n",
      " [5 6]]\n",
      "Scaled features:\n",
      "[[-1.22474487 -1.22474487]\n",
      " [ 0.          0.        ]\n",
      " [ 1.22474487  1.22474487]]\n"
     ]
    }
   ],
   "source": [
    "# Import Required Libraries\n",
    "from sklearn.preprocessing import StandardScaler\n",
    "import numpy as np\n",
    "\n",
    "# Create a sample dataset\n",
    "X = np.array([[1, 2], [3, 4], [5, 6]])\n",
    "\n",
    "# Create a StandardScaler object\n",
    "scaler = StandardScaler()\n",
    "\n",
    "# Perform feature scaling\n",
    "X_scaled = scaler.fit_transform(X)\n",
    "\n",
    "# Print the original features\n",
    "print(\"Original features:\")\n",
    "print(X)\n",
    "\n",
    "# Print the scaled features\n",
    "print(\"Scaled features:\")\n",
    "print(X_scaled)"
   ]
  },
  {
   "cell_type": "markdown",
   "metadata": {
    "id": "8wFUSOufijmO"
   },
   "source": [
    "The scaled features have zero mean and unit variance, which means they are centered around zero and have a standard deviation of 1."
   ]
  },
  {
   "cell_type": "markdown",
   "metadata": {
    "id": "ASI3eBetinVh"
   },
   "source": [
    "It's important to note that feature construction should be guided by domain knowledge, intuition, and an understanding of the problem at hand. Experimentation and iterative improvement of features can lead to better model performance. Additionally, feature construction should be performed in conjunction with appropriate feature selection techniques to avoid overfitting and improve model interpretability."
   ]
  },
  {
   "cell_type": "markdown",
   "metadata": {
    "id": "-vEicFbiir2q"
   },
   "source": [
    "## 6. Feature Encoding Methods:"
   ]
  },
  {
   "cell_type": "markdown",
   "metadata": {
    "id": "P-wMG22yi_4f"
   },
   "source": [
    "Feature encoding methods are used to convert categorical or text features into numerical representations that can be effectively used by machine learning algorithms. Here's a short note on some commonly used feature encoding methods:"
   ]
  },
  {
   "cell_type": "markdown",
   "metadata": {
    "id": "MuW8CEM6i_9j"
   },
   "source": [
    "### 6.1 One-Hot Encoding:"
   ]
  },
  {
   "cell_type": "markdown",
   "metadata": {
    "id": "eIcK3Z0MjACC"
   },
   "source": [
    "This method is used for nominal categorical features. It creates binary columns for each category, where each column indicates the presence or absence of a category. This approach increases the dimensionality of the data but ensures that each category is represented independently."
   ]
  },
  {
   "cell_type": "code",
   "execution_count": 63,
   "metadata": {
    "colab": {
     "base_uri": "https://localhost:8080/"
    },
    "id": "Mb2xfkWijkCf",
    "outputId": "01f2f696-646d-4da6-bc09-c082a3688269"
   },
   "outputs": [
    {
     "name": "stdout",
     "output_type": "stream",
     "text": [
      "    Color  Color_Blue  Color_Green  Color_Red  Color_Yellow\n",
      "0     Red         0.0          0.0        1.0           0.0\n",
      "1    Blue         1.0          0.0        0.0           0.0\n",
      "2   Green         0.0          1.0        0.0           0.0\n",
      "3     Red         0.0          0.0        1.0           0.0\n",
      "4  Yellow         0.0          0.0        0.0           1.0\n"
     ]
    }
   ],
   "source": [
    "# Import Required Libraries\n",
    "import pandas as pd\n",
    "from sklearn.preprocessing import OneHotEncoder\n",
    "\n",
    "# Create a sample dataset\n",
    "data = pd.DataFrame({'Color': ['Red', 'Blue', 'Green', 'Red', 'Yellow']})\n",
    "\n",
    "# Create an instance of OneHotEncoder\n",
    "encoder = OneHotEncoder()\n",
    "\n",
    "# Apply one-hot encoding\n",
    "encoded_data = encoder.fit_transform(data[['Color']]).toarray()\n",
    "\n",
    "# Create a new dataframe with the encoded features\n",
    "encoded_df = pd.DataFrame(encoded_data, columns=encoder.get_feature_names_out(['Color']))\n",
    "\n",
    "# Concatenate the original dataframe and the encoded dataframe\n",
    "final_data = pd.concat([data, encoded_df], axis=1)\n",
    "\n",
    "# Print the final dataset\n",
    "print(final_data)"
   ]
  },
  {
   "cell_type": "markdown",
   "metadata": {
    "id": "9HfyymdsjkRJ"
   },
   "source": [
    "The output will display the original dataset followed by the one-hot encoded features. Each category from the original 'Color' feature is represented as a binary column, where a value of 1 indicates the presence of the category and 0 indicates its absence.\n",
    "\n",
    "You can apply one-hot encoding to your own dataset by creating an instance of the OneHotEncoder class and using the fit_transform method on your categorical features."
   ]
  },
  {
   "cell_type": "markdown",
   "metadata": {
    "id": "__cz1FVWjAGJ"
   },
   "source": [
    "### 6.2 Label Encoding:"
   ]
  },
  {
   "cell_type": "markdown",
   "metadata": {
    "id": "TINtWRQQjboB"
   },
   "source": [
    "Label encoding is used for ordinal categorical features. It assigns a unique numerical label to each category, preserving the order of the categories. However, this encoding may introduce unintended ordinal relationships between categories."
   ]
  },
  {
   "cell_type": "code",
   "execution_count": 64,
   "metadata": {
    "colab": {
     "base_uri": "https://localhost:8080/"
    },
    "id": "T8CxFCCskJTL",
    "outputId": "89aeb18a-df73-485d-a36d-dcf5f5c3ca27"
   },
   "outputs": [
    {
     "name": "stdout",
     "output_type": "stream",
     "text": [
      "    Color  Encoded_Color\n",
      "0     Red              2\n",
      "1    Blue              0\n",
      "2   Green              1\n",
      "3     Red              2\n",
      "4  Yellow              3\n"
     ]
    }
   ],
   "source": [
    "# Import Required Libraries\n",
    "import pandas as pd\n",
    "from sklearn.preprocessing import LabelEncoder\n",
    "\n",
    "# Create a sample dataset\n",
    "data = pd.DataFrame({'Color': ['Red', 'Blue', 'Green', 'Red', 'Yellow']})\n",
    "\n",
    "# Create an instance of LabelEncoder\n",
    "encoder = LabelEncoder()\n",
    "\n",
    "# Apply label encoding\n",
    "encoded_data = encoder.fit_transform(data['Color'])\n",
    "\n",
    "# Add the encoded feature to the dataset\n",
    "data['Encoded_Color'] = encoded_data\n",
    "\n",
    "# Print the final dataset\n",
    "print(data)"
   ]
  },
  {
   "cell_type": "markdown",
   "metadata": {
    "id": "hi4apIPekJbP"
   },
   "source": [
    "In the encoded feature, each category from the original 'Color' feature is represented by a numerical label assigned by the LabelEncoder. The labels correspond to the order in which the categories are encountered in the data."
   ]
  },
  {
   "cell_type": "markdown",
   "metadata": {
    "id": "1Hr-CXE5jbsK"
   },
   "source": [
    "### 6.3 Target Encoding:"
   ]
  },
  {
   "cell_type": "markdown",
   "metadata": {
    "id": "2MqH0kcJjbvq"
   },
   "source": [
    "Target encoding replaces each category with the average value of the target variable for that category. It can capture the relationship between a category and the target variable, but it may introduce target leakage if not properly handled."
   ]
  },
  {
   "cell_type": "code",
   "execution_count": 67,
   "metadata": {
    "colab": {
     "base_uri": "https://localhost:8080/"
    },
    "id": "FuxAyELGka-K",
    "outputId": "0e29bb60-6d31-4836-b360-6e8ee89cdeed"
   },
   "outputs": [
    {
     "name": "stdout",
     "output_type": "stream",
     "text": [
      "    Color  Target  Encoded_Color\n",
      "0     Red      10      15.148894\n",
      "1    Blue      20      16.520434\n",
      "2   Green      15      15.869892\n",
      "3     Red      10      15.148894\n",
      "4  Yellow      25      17.170976\n"
     ]
    }
   ],
   "source": [
    "# Import Required Libraries\n",
    "import pandas as pd\n",
    "import category_encoders as ce\n",
    "\n",
    "# Create a sample dataset\n",
    "data = pd.DataFrame({'Color': ['Red', 'Blue', 'Green', 'Red', 'Yellow'],\n",
    "                     'Target': [10, 20, 15, 10, 25]})\n",
    "\n",
    "# Create an instance of TargetEncoder\n",
    "encoder = ce.TargetEncoder(cols=['Color'])\n",
    "\n",
    "# Apply target encoding\n",
    "encoded_data = encoder.fit_transform(data['Color'], data['Target'])\n",
    "\n",
    "# Add the encoded feature to the dataset\n",
    "data['Encoded_Color'] = encoded_data\n",
    "\n",
    "# Print the final dataset\n",
    "print(data)"
   ]
  },
  {
   "cell_type": "markdown",
   "metadata": {
    "id": "jc8ChJdskbK_"
   },
   "source": [
    "In the encoded feature, each category from the original 'Color' feature is replaced with the mean target value for that category."
   ]
  },
  {
   "cell_type": "markdown",
   "metadata": {
    "id": "Z_gd7kj3jAKL"
   },
   "source": [
    "### 6.4 Frequency Encoding:"
   ]
  },
  {
   "cell_type": "markdown",
   "metadata": {
    "id": "LIyr0wKSjgqT"
   },
   "source": [
    "Frequency encoding is a technique used in feature engineering to encode categorical variables by replacing each category with its frequency or occurrence in the dataset. It is a simple yet effective way to capture the distribution and importance of different categories in a categorical feature."
   ]
  },
  {
   "cell_type": "code",
   "execution_count": 68,
   "metadata": {
    "colab": {
     "base_uri": "https://localhost:8080/"
    },
    "id": "bem32QtalVbs",
    "outputId": "fae82e62-54fd-4a7a-cb1b-8a8817e195d9"
   },
   "outputs": [
    {
     "name": "stdout",
     "output_type": "stream",
     "text": [
      "    Color  Encoded_Color\n",
      "0     Red              2\n",
      "1    Blue              1\n",
      "2   Green              1\n",
      "3     Red              2\n",
      "4  Yellow              1\n"
     ]
    }
   ],
   "source": [
    "# Import Required Libraries\n",
    "import pandas as pd\n",
    "\n",
    "# Create a sample dataset\n",
    "data = pd.DataFrame({'Color': ['Red', 'Blue', 'Green', 'Red', 'Yellow']})\n",
    "\n",
    "# Calculate the frequency of each category\n",
    "category_counts = data['Color'].value_counts()\n",
    "\n",
    "# Apply frequency encoding\n",
    "encoded_data = data['Color'].map(category_counts)\n",
    "\n",
    "# Add the encoded feature to the dataset\n",
    "data['Encoded_Color'] = encoded_data\n",
    "\n",
    "# Print the final dataset\n",
    "print(data)"
   ]
  },
  {
   "cell_type": "markdown",
   "metadata": {
    "id": "UcOcUg8qlVjX"
   },
   "source": [
    "In the encoded feature, each category from the original 'Color' feature is replaced with its frequency or occurrence in the dataset."
   ]
  },
  {
   "cell_type": "markdown",
   "metadata": {
    "id": "nOq536DQlV80"
   },
   "source": [
    "These feature encoding methods play a crucial role in preparing categorical or text data for machine learning models. The choice of encoding method depends on the nature of the data, the specific problem, and the requirements of the machine learning algorithm being used. It is important to carefully consider the characteristics of the data and the potential impact of encoding methods on the model's performance."
   ]
  },
  {
   "cell_type": "markdown",
   "metadata": {
    "id": "PgHfQY7SlouQ"
   },
   "source": [
    "## 7. Handling Imbalanced Data:"
   ]
  },
  {
   "cell_type": "markdown",
   "metadata": {
    "id": "4MWNU-3NlozH"
   },
   "source": [
    "Handling imbalanced data is an important aspect of machine learning, especially when the distribution of the target variable is skewed, and one class is significantly more prevalent than the others. Imbalanced data can lead to biased models and poor performance, as the classifier tends to favor the majority class."
   ]
  },
  {
   "cell_type": "markdown",
   "metadata": {
    "id": "J5ilk4_llo3I"
   },
   "source": [
    "### 7.1 Undersampling:"
   ]
  },
  {
   "cell_type": "markdown",
   "metadata": {
    "id": "C_Qvh7hfmCJB"
   },
   "source": [
    "Undersampling is a resampling technique used to address imbalanced data by reducing the number of samples in the majority class to balance it with the minority class. This technique aims to create a more balanced distribution of the target variable, thereby avoiding bias towards the majority class during model training."
   ]
  },
  {
   "cell_type": "code",
   "execution_count": 69,
   "metadata": {
    "colab": {
     "base_uri": "https://localhost:8080/"
    },
    "id": "6YcfPplQmshM",
    "outputId": "656e90e4-99f2-48ab-a734-f70e51a98002"
   },
   "outputs": [
    {
     "name": "stdout",
     "output_type": "stream",
     "text": [
      "Original Class Distribution:\n",
      "0    896\n",
      "1    104\n",
      "Name: target, dtype: int64\n",
      "\n",
      "Undersampled Class Distribution:\n",
      "0    104\n",
      "1    104\n",
      "Name: target, dtype: int64\n"
     ]
    }
   ],
   "source": [
    "# Import Required Libraries\n",
    "import numpy as np\n",
    "import pandas as pd\n",
    "from sklearn.datasets import make_classification\n",
    "from imblearn.under_sampling import RandomUnderSampler\n",
    "\n",
    "# Create an unbalanced dataset\n",
    "X, y = make_classification(n_samples=1000, n_features=10, n_informative=5, weights=[0.9, 0.1], random_state=42)\n",
    "\n",
    "# Convert the data to a DataFrame\n",
    "data = pd.DataFrame(X, columns=[f\"feature_{i}\" for i in range(10)])\n",
    "data['target'] = y\n",
    "\n",
    "# Count the class distribution\n",
    "class_counts = data['target'].value_counts()\n",
    "print(\"Original Class Distribution:\")\n",
    "print(class_counts)\n",
    "\n",
    "# Apply undersampling\n",
    "undersampler = RandomUnderSampler(random_state=42)\n",
    "X_undersampled, y_undersampled = undersampler.fit_resample(X, y)\n",
    "\n",
    "# Convert the undersampled data to a DataFrame\n",
    "undersampled_data = pd.DataFrame(X_undersampled, columns=[f\"feature_{i}\" for i in range(10)])\n",
    "undersampled_data['target'] = y_undersampled\n",
    "\n",
    "# Count the class distribution after undersampling\n",
    "undersampled_class_counts = undersampled_data['target'].value_counts()\n",
    "print(\"\\nUndersampled Class Distribution:\")\n",
    "print(undersampled_class_counts)"
   ]
  },
  {
   "cell_type": "markdown",
   "metadata": {
    "id": "jVS6w2BgmsrD"
   },
   "source": [
    "By running this code, you will create an unbalanced dataset, apply undersampling to balance the classes, and observe the class distributions before and after undersampling."
   ]
  },
  {
   "cell_type": "markdown",
   "metadata": {
    "id": "XqnOmKMPmCMZ"
   },
   "source": [
    "### 7.2 Oversampling:"
   ]
  },
  {
   "cell_type": "markdown",
   "metadata": {
    "id": "ZOkQDKlTmCQI"
   },
   "source": [
    "Oversampling is a resampling technique used to address imbalanced data by increasing the number of samples in the minority class. In imbalanced datasets, the minority class is underrepresented, leading to biased models that may have difficulty correctly predicting the minority class."
   ]
  },
  {
   "cell_type": "code",
   "execution_count": 70,
   "metadata": {
    "colab": {
     "base_uri": "https://localhost:8080/"
    },
    "id": "VYJvhXqgoCbW",
    "outputId": "2905ffad-aac4-4af2-cd81-22856e890ee6"
   },
   "outputs": [
    {
     "name": "stdout",
     "output_type": "stream",
     "text": [
      "Original Class Distribution:\n",
      "0    896\n",
      "1    104\n",
      "Name: target, dtype: int64\n",
      "\n",
      "Oversampled Class Distribution:\n",
      "0    896\n",
      "1    896\n",
      "Name: target, dtype: int64\n"
     ]
    }
   ],
   "source": [
    "# Import Required Libraries\n",
    "import numpy as np\n",
    "import pandas as pd\n",
    "from sklearn.datasets import make_classification\n",
    "from imblearn.over_sampling import RandomOverSampler\n",
    "\n",
    "# Create an imbalanced dataset\n",
    "X, y = make_classification(n_samples=1000, n_features=10, n_informative=5, weights=[0.9, 0.1], random_state=42)\n",
    "\n",
    "# Convert the data to a DataFrame\n",
    "data = pd.DataFrame(X, columns=[f\"feature_{i}\" for i in range(10)])\n",
    "data['target'] = y\n",
    "\n",
    "# Count the class distribution\n",
    "class_counts = data['target'].value_counts()\n",
    "print(\"Original Class Distribution:\")\n",
    "print(class_counts)\n",
    "\n",
    "# Apply oversampling\n",
    "oversampler = RandomOverSampler(random_state=42)\n",
    "X_oversampled, y_oversampled = oversampler.fit_resample(X, y)\n",
    "\n",
    "# Convert the oversampled data to a DataFrame\n",
    "oversampled_data = pd.DataFrame(X_oversampled, columns=[f\"feature_{i}\" for i in range(10)])\n",
    "oversampled_data['target'] = y_oversampled\n",
    "\n",
    "# Count the class distribution after oversampling\n",
    "oversampled_class_counts = oversampled_data['target'].value_counts()\n",
    "print(\"\\nOversampled Class Distribution:\")\n",
    "print(oversampled_class_counts)"
   ]
  },
  {
   "cell_type": "markdown",
   "metadata": {
    "id": "HwFDjnu6mCTZ"
   },
   "source": [
    "### 7.3 Synthetic Minority Over-sampling Technique (SMOTE):"
   ]
  },
  {
   "cell_type": "markdown",
   "metadata": {
    "id": "odxDiUDKlo82"
   },
   "source": [
    "SMOTE generates synthetic samples by interpolating between existing minority class samples. It selects a minority class sample, finds its k nearest neighbors, and creates synthetic samples along the line segments connecting the sample and its neighbors."
   ]
  },
  {
   "cell_type": "code",
   "execution_count": 71,
   "metadata": {
    "colab": {
     "base_uri": "https://localhost:8080/"
    },
    "id": "oFzu_Do1oaco",
    "outputId": "7861d140-75aa-4d67-e8af-8e576fe091d0"
   },
   "outputs": [
    {
     "name": "stdout",
     "output_type": "stream",
     "text": [
      "Original Class Distribution:\n",
      "0    896\n",
      "1    104\n",
      "dtype: int64\n",
      "\n",
      "Class Distribution after SMOTE:\n",
      "0    896\n",
      "1    896\n",
      "dtype: int64\n"
     ]
    }
   ],
   "source": [
    "# Import Required Libraries\n",
    "import numpy as np\n",
    "import pandas as pd\n",
    "from sklearn.datasets import make_classification\n",
    "from imblearn.over_sampling import SMOTE\n",
    "\n",
    "# Create an imbalanced dataset\n",
    "X, y = make_classification(n_samples=1000, n_features=10, n_informative=5, weights=[0.9, 0.1], random_state=42)\n",
    "\n",
    "# Apply SMOTE oversampling\n",
    "smote = SMOTE(random_state=42)\n",
    "X_resampled, y_resampled = smote.fit_resample(X, y)\n",
    "\n",
    "# Print the class distribution before and after SMOTE\n",
    "print(\"Original Class Distribution:\")\n",
    "print(pd.Series(y).value_counts())\n",
    "\n",
    "print(\"\\nClass Distribution after SMOTE:\")\n",
    "print(pd.Series(y_resampled).value_counts())"
   ]
  },
  {
   "cell_type": "markdown",
   "metadata": {
    "id": "-jUsV6FjoalQ"
   },
   "source": [
    "By running this code, you will create an imbalanced dataset, apply SMOTE oversampling, and observe the class distributions before and after applying SMOTE."
   ]
  },
  {
   "cell_type": "markdown",
   "metadata": {
    "id": "nYlbmLq0vrye"
   },
   "source": [
    "It's important to carefully evaluate the impact of each strategy on the model's performance and consider the specific characteristics of the dataset. There is no one-size-fits-all solution, and the choice of approach depends on the specific problem and the available data."
   ]
  },
  {
   "cell_type": "markdown",
   "metadata": {
    "id": "tuppYP-MoucQ"
   },
   "source": [
    "## 8. Feature Engineering for Time Series Data:"
   ]
  },
  {
   "cell_type": "markdown",
   "metadata": {
    "id": "QdsKrmH-vF8H"
   },
   "source": [
    "Feature engineering for time series data involves creating meaningful and informative features from raw time series data. Here are some common techniques for feature engineering in time series data:"
   ]
  },
  {
   "cell_type": "markdown",
   "metadata": {
    "id": "ajtmXZHVoufp"
   },
   "source": [
    "### 8.1 Lagged Features:"
   ]
  },
  {
   "cell_type": "markdown",
   "metadata": {
    "id": "AIvqQz-xvGt5"
   },
   "source": [
    "Lag features involve using previous observations as features. They can capture temporal patterns and dependencies in the data. For example, you can create lag features by including the values of the time series at previous time steps, such as lag-1, lag-2, etc."
   ]
  },
  {
   "cell_type": "code",
   "execution_count": 85,
   "metadata": {
    "colab": {
     "base_uri": "https://localhost:8080/"
    },
    "id": "j2CxfxqWveTe",
    "outputId": "9414cc85-da03-4293-bb0e-7ea1f9ab4c0a"
   },
   "outputs": [
    {
     "name": "stdout",
     "output_type": "stream",
     "text": [
      "Lagged Features:\n",
      "   Lag_1  Lag_2\n",
      "2   20.0   10.0\n",
      "3   30.0   20.0\n",
      "4   40.0   30.0\n",
      "5   50.0   40.0\n",
      "6   60.0   50.0\n",
      "7   70.0   60.0\n",
      "8   80.0   70.0\n"
     ]
    }
   ],
   "source": [
    "# Import Required Libraries\n",
    "import pandas as pd\n",
    "import numpy as np\n",
    "\n",
    "# Create a sample time series data\n",
    "data = pd.Series([10, 20, 30, 40, 50, 60, 70, 80, 90])\n",
    "\n",
    "# Define the number of lag observations\n",
    "num_lags = 2\n",
    "\n",
    "# Create lagged features\n",
    "lagged_features = pd.DataFrame()\n",
    "for i in range(1, num_lags + 1):\n",
    "    lagged_features[f'Lag_{i}'] = data.shift(i)\n",
    "\n",
    "# Remove rows with missing values\n",
    "lagged_features = lagged_features.dropna()\n",
    "\n",
    "# Print the lagged features\n",
    "print(\"Lagged Features:\")\n",
    "print(lagged_features)"
   ]
  },
  {
   "cell_type": "markdown",
   "metadata": {
    "id": "6YfUEGz5ykkX"
   },
   "source": [
    "Note that this code snippet demonstrates creating lagged features for a univariate time series. If you have a multivariate time series, you can extend the code to include lagged features for each variable by shifting the corresponding columns. Additionally, you can experiment with different numbers of lag observations to capture different temporal dependencies in the data."
   ]
  },
  {
   "cell_type": "markdown",
   "metadata": {
    "id": "_Wv-QFX4oujQ"
   },
   "source": [
    "### 8.2 Rolling and Expanding Window Statistics:"
   ]
  },
  {
   "cell_type": "markdown",
   "metadata": {
    "id": "qhogyyj5vHVa"
   },
   "source": [
    "Rolling window statistics involve calculating summary statistics over a fixed window of time. Common examples include the mean, median, standard deviation, minimum, maximum, and percentiles. These statistics provide information about the trends, variability, and distribution of the time series within a specific window."
   ]
  },
  {
   "cell_type": "code",
   "execution_count": 86,
   "metadata": {
    "colab": {
     "base_uri": "https://localhost:8080/"
    },
    "id": "BH090c5CvmLl",
    "outputId": "d09e38f2-1a76-49cf-d71a-14f78beefa0e"
   },
   "outputs": [
    {
     "name": "stdout",
     "output_type": "stream",
     "text": [
      "Rolling Window Statistics:\n",
      "Rolling Mean:\n",
      "0     NaN\n",
      "1     NaN\n",
      "2    20.0\n",
      "3    30.0\n",
      "4    40.0\n",
      "5    50.0\n",
      "6    60.0\n",
      "7    70.0\n",
      "8    80.0\n",
      "dtype: float64\n",
      "Rolling Standard Deviation:\n",
      "0     NaN\n",
      "1     NaN\n",
      "2    10.0\n",
      "3    10.0\n",
      "4    10.0\n",
      "5    10.0\n",
      "6    10.0\n",
      "7    10.0\n",
      "8    10.0\n",
      "dtype: float64\n",
      "\n",
      "Expanding Window Statistics:\n",
      "Expanding Mean:\n",
      "0    10.0\n",
      "1    15.0\n",
      "2    20.0\n",
      "3    25.0\n",
      "4    30.0\n",
      "5    35.0\n",
      "6    40.0\n",
      "7    45.0\n",
      "8    50.0\n",
      "dtype: float64\n",
      "Expanding Standard Deviation:\n",
      "0          NaN\n",
      "1     7.071068\n",
      "2    10.000000\n",
      "3    12.909944\n",
      "4    15.811388\n",
      "5    18.708287\n",
      "6    21.602469\n",
      "7    24.494897\n",
      "8    27.386128\n",
      "dtype: float64\n"
     ]
    }
   ],
   "source": [
    "# Import Required Libraries\n",
    "import pandas as pd\n",
    "import numpy as np\n",
    "\n",
    "# Create a sample time series data\n",
    "data = pd.Series([10, 20, 30, 40, 50, 60, 70, 80, 90])\n",
    "\n",
    "# Define the window size\n",
    "window_size = 3\n",
    "\n",
    "# Calculate rolling window statistics\n",
    "rolling_mean = data.rolling(window_size).mean()\n",
    "rolling_std = data.rolling(window_size).std()\n",
    "\n",
    "# Calculate expanding window statistics\n",
    "expanding_mean = data.expanding().mean()\n",
    "expanding_std = data.expanding().std()\n",
    "\n",
    "# Print the rolling and expanding window statistics\n",
    "print(\"Rolling Window Statistics:\")\n",
    "print(\"Rolling Mean:\")\n",
    "print(rolling_mean)\n",
    "print(\"Rolling Standard Deviation:\")\n",
    "print(rolling_std)\n",
    "\n",
    "print(\"\\nExpanding Window Statistics:\")\n",
    "print(\"Expanding Mean:\")\n",
    "print(expanding_mean)\n",
    "print(\"Expanding Standard Deviation:\")\n",
    "print(expanding_std)"
   ]
  },
  {
   "cell_type": "markdown",
   "metadata": {
    "id": "Xbv2pVqDzXIt"
   },
   "source": [
    "Note that you can experiment with different window sizes to capture different temporal patterns and dependencies in the data. Additionally, pandas provides various other rolling and expanding window functions such as min(), max(), sum(), etc., that can be used to calculate different summary statistics over the windows."
   ]
  },
  {
   "cell_type": "markdown",
   "metadata": {
    "id": "doKE7ZuYvBkD"
   },
   "source": [
    "### 8.3 Time-based Features:"
   ]
  },
  {
   "cell_type": "markdown",
   "metadata": {
    "id": "NUVPsX-TviTY"
   },
   "source": [
    "Time-based features can capture patterns related to specific time components. For example, you can extract features such as the hour of the day, day of the week, month, season, or year from the timestamp of the data."
   ]
  },
  {
   "cell_type": "code",
   "execution_count": 87,
   "metadata": {
    "colab": {
     "base_uri": "https://localhost:8080/"
    },
    "id": "DUwPCyegvlYU",
    "outputId": "631b20f0-6177-4498-d47e-cff1d1be337d"
   },
   "outputs": [
    {
     "name": "stdout",
     "output_type": "stream",
     "text": [
      "            timestamp  hour  day  month  year  weekday\n",
      "0 2023-01-01 09:00:00     9    1      1  2023        6\n",
      "1 2023-01-01 12:30:00    12    1      1  2023        6\n",
      "2 2023-01-02 14:45:00    14    2      1  2023        0\n",
      "3 2023-01-02 18:20:00    18    2      1  2023        0\n"
     ]
    }
   ],
   "source": [
    "# Import Required Libraries\n",
    "import pandas as pd\n",
    "\n",
    "# Create a sample DataFrame with a timestamp column\n",
    "data = pd.DataFrame({\n",
    "    'timestamp': ['2023-01-01 09:00:00', '2023-01-01 12:30:00', '2023-01-02 14:45:00', '2023-01-02 18:20:00']\n",
    "})\n",
    "\n",
    "# Convert the timestamp column to datetime type\n",
    "data['timestamp'] = pd.to_datetime(data['timestamp'])\n",
    "\n",
    "# Extract time-based features\n",
    "data['hour'] = data['timestamp'].dt.hour\n",
    "data['day'] = data['timestamp'].dt.day\n",
    "data['month'] = data['timestamp'].dt.month\n",
    "data['year'] = data['timestamp'].dt.year\n",
    "data['weekday'] = data['timestamp'].dt.weekday\n",
    "\n",
    "# Print the extracted time-based features\n",
    "print(data)"
   ]
  },
  {
   "cell_type": "markdown",
   "metadata": {
    "id": "IVTOqVV4zZVZ"
   },
   "source": [
    "You can use these time-based features as input for further analysis or modeling tasks. Depending on the specific requirements of your problem, you can extract additional time-based features such as quarter, season, time of day (morning, afternoon, evening), or time since a specific event."
   ]
  },
  {
   "cell_type": "markdown",
   "metadata": {
    "id": "dqjWh8Fpznfu"
   },
   "source": [
    "These techniques are not exhaustive, and the choice of features depends on the specific characteristics of the time series and the problem at hand. It is often beneficial to experiment with different feature engineering techniques and domain knowledge to create a set of informative features for modeling and analysis."
   ]
  },
  {
   "cell_type": "markdown",
   "metadata": {
    "id": "Uvc2JtyFznun"
   },
   "source": [
    "## 9. Advanced Feature Engineering Techniques:"
   ]
  },
  {
   "cell_type": "markdown",
   "metadata": {
    "id": "mvdt5xKtznzN"
   },
   "source": [
    "Advanced feature engineering techniques go beyond basic transformations and extraction methods to create more informative and powerful features. These techniques often involve domain knowledge, creative problem-solving, and a deep understanding of the data. Here are some advanced feature engineering techniques:"
   ]
  },
  {
   "cell_type": "markdown",
   "metadata": {
    "id": "XgpiqkCdzn4L"
   },
   "source": [
    "### 9.1 Feature Embeddings:"
   ]
  },
  {
   "cell_type": "markdown",
   "metadata": {
    "id": "G45o8BBizyYm"
   },
   "source": [
    " Embeddings are low-dimensional vector representations of categorical variables. They are generated using techniques such as Word2Vec or GloVe, which learn dense numerical representations that capture the semantic meaning of categorical variables. Embeddings are widely used in natural language processing (NLP) tasks but can also be applied to other categorical variables."
   ]
  },
  {
   "cell_type": "code",
   "execution_count": 100,
   "metadata": {
    "colab": {
     "base_uri": "https://localhost:8080/"
    },
    "id": "CQWYy7Xn0hl9",
    "outputId": "e98f3cbc-6099-4fed-9942-726258bdff7c"
   },
   "outputs": [
    {
     "name": "stdout",
     "output_type": "stream",
     "text": [
      "[ 8.1681199e-03 -4.4430327e-03  8.9854337e-03  8.2536647e-03\n",
      " -4.4352221e-03  3.0310510e-04  4.2744912e-03 -3.9263200e-03\n",
      " -5.5599655e-03 -6.5123225e-03 -6.7073823e-04 -2.9592158e-04\n",
      "  4.4630850e-03 -2.4740540e-03 -1.7260908e-04  2.4618758e-03\n",
      "  4.8675989e-03 -3.0808449e-05 -6.3394094e-03 -9.2608072e-03\n",
      "  2.6657581e-05  6.6618943e-03  1.4660227e-03 -8.9665223e-03\n",
      " -7.9386048e-03  6.5519023e-03 -3.7856805e-03  6.2549924e-03\n",
      " -6.6810320e-03  8.4796622e-03 -6.5163244e-03  3.2880199e-03\n",
      " -1.0569858e-03 -6.7875278e-03 -3.2875966e-03 -1.1614120e-03\n",
      " -5.4709399e-03 -1.2113475e-03 -7.5633135e-03  2.6466595e-03\n",
      "  9.0701487e-03 -2.3772502e-03 -9.7651005e-04  3.5135616e-03\n",
      "  8.6650876e-03 -5.9218528e-03 -6.8875779e-03 -2.9329848e-03\n",
      "  9.1476962e-03  8.6626766e-04 -8.6784009e-03 -1.4469790e-03\n",
      "  9.4794659e-03 -7.5494875e-03 -5.3580985e-03  9.3165627e-03\n",
      " -8.9737261e-03  3.8259076e-03  6.6544057e-04  6.6607012e-03\n",
      "  8.3127534e-03 -2.8507852e-03 -3.9923131e-03  8.8979173e-03\n",
      "  2.0896459e-03  6.2489416e-03 -9.4457148e-03  9.5901238e-03\n",
      " -1.3483083e-03 -6.0521150e-03  2.9925345e-03 -4.5661093e-04\n",
      "  4.7064926e-03 -2.2830211e-03 -4.1378425e-03  2.2778988e-03\n",
      "  8.3543835e-03 -4.9956059e-03  2.6686788e-03 -7.9905549e-03\n",
      " -6.7733466e-03 -4.6766878e-04 -8.7677278e-03  2.7894378e-03\n",
      "  1.5985954e-03 -2.3196924e-03  5.0037908e-03  9.7487867e-03\n",
      "  8.4542679e-03 -1.8802249e-03  2.0581519e-03 -4.0036892e-03\n",
      " -8.2414057e-03  6.2779556e-03 -1.9491815e-03 -6.6620467e-04\n",
      " -1.7713320e-03 -4.5356657e-03  4.0617096e-03 -4.2701806e-03]\n",
      "[-2.5486641e-03  2.3561592e-04  1.4452442e-03  2.6856011e-03\n",
      " -1.1227793e-03 -3.5235325e-03  5.4872531e-04  1.9029006e-03\n",
      " -4.4953353e-03 -2.6140616e-03  4.5874007e-03 -4.0626354e-03\n",
      "  5.5763652e-03 -2.4598555e-03  3.4966853e-03  4.7586751e-03\n",
      " -1.1637497e-05 -4.9182614e-03  5.7722320e-04 -5.9966710e-03\n",
      " -3.1813656e-04  3.7652545e-03  3.8338264e-03 -4.0566497e-03\n",
      "  1.6569756e-03  7.9073501e-04 -3.5333664e-03 -1.1896053e-03\n",
      "  1.9180338e-03 -3.0042753e-03  3.6635958e-03 -2.4828440e-04\n",
      "  6.3345931e-03  8.9576310e-03 -7.5040292e-04  4.8170383e-03\n",
      "  8.7148038e-04  3.2358051e-03 -2.4443198e-04 -1.6160002e-03\n",
      "  1.7413264e-04  3.0536682e-03 -3.1881789e-03  5.5234949e-04\n",
      " -2.6911490e-03 -2.1257151e-03 -1.8051201e-03  2.9024708e-03\n",
      " -2.5781260e-03  1.5430705e-03 -9.3655195e-04  2.3701650e-03\n",
      " -2.9737090e-03  1.7509965e-03  3.7678722e-03 -3.4141277e-03\n",
      " -2.4261442e-03 -1.1771471e-03  5.9825461e-03 -1.3260938e-03\n",
      " -6.1758892e-03 -1.8700337e-05  7.0376103e-03 -3.5626371e-04\n",
      " -8.0174999e-03 -2.2521148e-04 -5.9839902e-03 -3.6632717e-03\n",
      " -1.5761844e-03 -1.6122911e-03 -1.0538842e-03  5.2527916e-03\n",
      " -5.4700999e-04  2.3737303e-03 -1.4545758e-03 -9.6845720e-04\n",
      "  4.5392537e-04 -6.9494857e-03 -1.9161301e-03  1.6816328e-03\n",
      "  2.7759287e-03 -4.2993994e-04  4.0008640e-03  5.6037665e-03\n",
      " -8.6215447e-04 -2.6252315e-05 -4.0250691e-03 -8.7435218e-04\n",
      "  3.4448868e-03  4.7565200e-03 -2.1833351e-03  3.7402231e-03\n",
      "  1.8884666e-03  3.9005482e-03  4.6796873e-03  3.6621545e-04\n",
      "  9.4409700e-04  2.4909987e-03  6.3656433e-03 -3.3955711e-03]\n"
     ]
    }
   ],
   "source": [
    "# Import Required Libraries\n",
    "from gensim.models import Word2Vec\n",
    "import numpy as np\n",
    "\n",
    "# Example dataset\n",
    "sentences = [['I', 'love', 'to', 'code'],\n",
    "             ['Machine', 'learning', 'is', 'exciting'],\n",
    "             ['Data', 'science', 'is', 'fun']]\n",
    "\n",
    "# Train the Word2Vec model\n",
    "model = Word2Vec(sentences, min_count=1)\n",
    "\n",
    "# Get the word embeddings\n",
    "word_embeddings = model.wv\n",
    "\n",
    "# Get the embedding for a specific word\n",
    "embedding = word_embeddings['code']\n",
    "\n",
    "# Print the embedding\n",
    "print(embedding)\n",
    "\n",
    "# Get the average embedding for a list of words\n",
    "word_list = ['I', 'love', 'to']\n",
    "embeddings = [word_embeddings[word] for word in word_list]\n",
    "avg_embedding = np.mean(embeddings, axis=0)\n",
    "\n",
    "# Print the average embedding\n",
    "print(avg_embedding)"
   ]
  },
  {
   "cell_type": "markdown",
   "metadata": {
    "id": "YP3jgexY0hyg"
   },
   "source": [
    "Note that this is just a basic example, and you can further customize the training process and explore different parameters to optimize the embeddings for your specific use case."
   ]
  },
  {
   "cell_type": "markdown",
   "metadata": {
    "id": "S69CKEtizyeQ"
   },
   "source": [
    "### 9.2 Dimensionality Reduction Techniques:"
   ]
  },
  {
   "cell_type": "markdown",
   "metadata": {
    "id": "dEZWo4dgzyjj"
   },
   "source": [
    "Dimensionality reduction techniques, such as Principal Component Analysis (PCA) or t-SNE, can be used to reduce the dimensionality of high-dimensional data while preserving its important characteristics. These techniques are useful when dealing with large feature spaces or when trying to visualize and understand the underlying structure of the data."
   ]
  },
  {
   "cell_type": "code",
   "execution_count": 101,
   "metadata": {
    "colab": {
     "base_uri": "https://localhost:8080/",
     "height": 407
    },
    "id": "NRc2flwa0o1x",
    "outputId": "bfe55e5f-3123-41a4-9ae7-7917e835e8b0"
   },
   "outputs": [
    {
     "data": {
      "image/png": "[encoded data removed]",
      "text/plain": [
       "<Figure size 1000x400 with 2 Axes>"
      ]
     },
     "metadata": {},
     "output_type": "display_data"
    }
   ],
   "source": [
    "# Import Required Libraries\n",
    "import numpy as np\n",
    "import matplotlib.pyplot as plt\n",
    "from sklearn.decomposition import PCA\n",
    "from sklearn.manifold import TSNE\n",
    "from sklearn.datasets import load_iris\n",
    "\n",
    "# Load the Iris dataset\n",
    "iris = load_iris()\n",
    "X = iris.data\n",
    "y = iris.target\n",
    "\n",
    "# Apply PCA for dimensionality reduction\n",
    "pca = PCA(n_components=2)\n",
    "X_pca = pca.fit_transform(X)\n",
    "\n",
    "# Apply t-SNE for dimensionality reduction\n",
    "tsne = TSNE(n_components=2, random_state=42)\n",
    "X_tsne = tsne.fit_transform(X)\n",
    "\n",
    "# Plot the results\n",
    "plt.figure(figsize=(10, 4))\n",
    "\n",
    "# Plot PCA results\n",
    "plt.subplot(1, 2, 1)\n",
    "plt.scatter(X_pca[:, 0], X_pca[:, 1], c=y)\n",
    "plt.title(\"PCA\")\n",
    "\n",
    "# Plot t-SNE results\n",
    "plt.subplot(1, 2, 2)\n",
    "plt.scatter(X_tsne[:, 0], X_tsne[:, 1], c=y)\n",
    "plt.title(\"t-SNE\")\n",
    "\n",
    "plt.tight_layout()\n",
    "plt.show()"
   ]
  },
  {
   "cell_type": "markdown",
   "metadata": {
    "id": "aY8Pzrdq0o_B"
   },
   "source": [
    "Note that the choice of the number of components and other parameters may vary depending on the dataset and the specific use case. You can experiment with different parameter values and explore other dimensionality reduction techniques available in scikit-learn to find the most suitable approach for your data."
   ]
  },
  {
   "cell_type": "markdown",
   "metadata": {
    "id": "BRfj6mjXzyso"
   },
   "source": [
    "### 9.3 Feature Importance and Selection with Tree-Based Models:"
   ]
  },
  {
   "cell_type": "markdown",
   "metadata": {
    "id": "nKTaj8xpz3vw"
   },
   "source": [
    "Feature importance and selection with tree-based models is a process of evaluating the relevance and contribution of different features in a dataset when using tree-based algorithms. Tree-based models, such as decision trees, random forests, and gradient boosting machines, provide a natural way to assess feature importance based on how much they contribute to the model's predictive performance."
   ]
  },
  {
   "cell_type": "code",
   "execution_count": 88,
   "metadata": {
    "colab": {
     "base_uri": "https://localhost:8080/"
    },
    "id": "x6Yng5bM0-fr",
    "outputId": "0280a2a1-5b82-4e97-f71d-63f9ab15e026"
   },
   "outputs": [
    {
     "name": "stdout",
     "output_type": "stream",
     "text": [
      "sepal length (cm): 0.10809762464246378\n",
      "sepal width (cm): 0.030386812473242528\n",
      "petal length (cm): 0.43999397414456937\n",
      "petal width (cm): 0.4215215887397244\n",
      "Selected features:\n",
      "sepal length (cm)\n",
      "petal length (cm)\n",
      "petal width (cm)\n"
     ]
    }
   ],
   "source": [
    "# Import Required Libraries\n",
    "from sklearn.ensemble import RandomForestClassifier\n",
    "from sklearn.datasets import load_iris\n",
    "from sklearn.model_selection import train_test_split\n",
    "\n",
    "# Load the iris dataset\n",
    "iris = load_iris()\n",
    "X = iris.data\n",
    "y = iris.target\n",
    "\n",
    "# Split the data into training and test sets\n",
    "X_train, X_test, y_train, y_test = train_test_split(X, y, test_size=0.2, random_state=42)\n",
    "\n",
    "# Train a Random Forest classifier\n",
    "rf = RandomForestClassifier(n_estimators=100, random_state=42)\n",
    "rf.fit(X_train, y_train)\n",
    "\n",
    "# Retrieve feature importance scores\n",
    "importance_scores = rf.feature_importances_\n",
    "\n",
    "# Print the feature importance scores\n",
    "for feature, importance in zip(iris.feature_names, importance_scores):\n",
    "    print(f\"{feature}: {importance}\")\n",
    "\n",
    "# Select features based on a threshold\n",
    "threshold = 0.1\n",
    "selected_features = [feature for feature, importance in zip(iris.feature_names, importance_scores) if importance > threshold]\n",
    "\n",
    "# Print the selected features\n",
    "print(\"Selected features:\")\n",
    "for feature in selected_features:\n",
    "    print(feature)"
   ]
  },
  {
   "cell_type": "markdown",
   "metadata": {
    "id": "mDbSq44R0-pi"
   },
   "source": [
    "To select features based on a threshold, we define a threshold value and create a list of selected features by iterating over the feature names and importance scores. Features with importance scores greater than the threshold are added to the list.\n",
    "\n",
    "You can modify this code snippet according to your specific dataset and requirements. Additionally, you can experiment with different tree-based models, such as Gradient Boosting Machines (e.g., GradientBoostingClassifier), and adjust the parameters to achieve the desired feature selection results."
   ]
  },
  {
   "cell_type": "markdown",
   "metadata": {
    "id": "RgEPyfe6z4GG"
   },
   "source": [
    "### 9.4 Automated Feature Engineering with AutoML:"
   ]
  },
  {
   "cell_type": "markdown",
   "metadata": {
    "id": "ZTkepXVcz68L"
   },
   "source": [
    "Automated Feature Engineering (AutoFE) is a process in Automated Machine Learning (AutoML) that aims to automatically generate and select effective features from raw data without the need for manual feature engineering. AutoFE uses algorithms and techniques to explore, transform, and combine the available data to create new features that enhance the predictive power of machine learning models."
   ]
  },
  {
   "cell_type": "code",
   "execution_count": 99,
   "metadata": {
    "colab": {
     "base_uri": "https://localhost:8080/"
    },
    "id": "HhdVf0a-z7Hg",
    "outputId": "8777c7dd-d7d1-41ac-e77c-5d2da690cda2"
   },
   "outputs": [
    {
     "name": "stdout",
     "output_type": "stream",
     "text": [
      "Trial 10 Complete [00h 00m 05s]\n",
      "val_accuracy: 0.862500011920929\n",
      "\n",
      "Best val_accuracy So Far: 0.875\n",
      "Total elapsed time: 00h 00m 46s\n",
      "Epoch 1/10\n",
      "25/25 [==============================] - 1s 4ms/step - loss: 0.5245 - accuracy: 0.7962\n",
      "Epoch 2/10\n",
      "25/25 [==============================] - 0s 3ms/step - loss: 0.3953 - accuracy: 0.8512\n",
      "Epoch 3/10\n",
      "25/25 [==============================] - 0s 4ms/step - loss: 0.3527 - accuracy: 0.8687\n",
      "Epoch 4/10\n",
      "25/25 [==============================] - 0s 3ms/step - loss: 0.3408 - accuracy: 0.8700\n",
      "Epoch 5/10\n",
      "25/25 [==============================] - 0s 3ms/step - loss: 0.3220 - accuracy: 0.8712\n",
      "Epoch 6/10\n",
      "25/25 [==============================] - 0s 3ms/step - loss: 0.3192 - accuracy: 0.8788\n",
      "Epoch 7/10\n",
      "25/25 [==============================] - 0s 3ms/step - loss: 0.3102 - accuracy: 0.8712\n",
      "Epoch 8/10\n",
      "25/25 [==============================] - 0s 3ms/step - loss: 0.3066 - accuracy: 0.8750\n",
      "Epoch 9/10\n",
      "25/25 [==============================] - 0s 4ms/step - loss: 0.2921 - accuracy: 0.8800\n",
      "Epoch 10/10\n",
      "25/25 [==============================] - 0s 4ms/step - loss: 0.3000 - accuracy: 0.8763\n"
     ]
    },
    {
     "name": "stderr",
     "output_type": "stream",
     "text": [
      "WARNING:absl:Found untraced functions such as _update_step_xla while saving (showing 1 of 1). These functions will not be directly callable after loading.\n"
     ]
    },
    {
     "name": "stdout",
     "output_type": "stream",
     "text": [
      "7/7 [==============================] - 0s 5ms/step - loss: 0.3809 - accuracy: 0.8300\n",
      "Accuracy: 0.8299999833106995\n",
      "Model: \"model\"\n",
      "_________________________________________________________________\n",
      " Layer (type)                Output Shape              Param #   \n",
      "=================================================================\n",
      " input_1 (InputLayer)        [(None, 10)]              0         \n",
      "                                                                 \n",
      " multi_category_encoding (Mu  (None, 10)               0         \n",
      " ltiCategoryEncoding)                                            \n",
      "                                                                 \n",
      " normalization (Normalizatio  (None, 10)               21        \n",
      " n)                                                              \n",
      "                                                                 \n",
      " dense (Dense)               (None, 32)                352       \n",
      "                                                                 \n",
      " re_lu (ReLU)                (None, 32)                0         \n",
      "                                                                 \n",
      " dense_1 (Dense)             (None, 256)               8448      \n",
      "                                                                 \n",
      " re_lu_1 (ReLU)              (None, 256)               0         \n",
      "                                                                 \n",
      " dropout (Dropout)           (None, 256)               0         \n",
      "                                                                 \n",
      " dense_2 (Dense)             (None, 1)                 257       \n",
      "                                                                 \n",
      " classification_head_1 (Acti  (None, 1)                0         \n",
      " vation)                                                         \n",
      "                                                                 \n",
      "=================================================================\n",
      "Total params: 9,078\n",
      "Trainable params: 9,057\n",
      "Non-trainable params: 21\n",
      "_________________________________________________________________\n"
     ]
    }
   ],
   "source": [
    "# Import Required Libraries\n",
    "import numpy as np\n",
    "import pandas as pd\n",
    "from sklearn.datasets import make_classification\n",
    "from sklearn.model_selection import train_test_split\n",
    "import autokeras as ak\n",
    "\n",
    "# Generate a synthetic dataset\n",
    "X, y = make_classification(n_samples=1000, n_features=10, random_state=42)\n",
    "\n",
    "# Convert the dataset to a pandas DataFrame\n",
    "df = pd.DataFrame(X, columns=[f\"feature_{i}\" for i in range(X.shape[1])])\n",
    "df[\"target\"] = y\n",
    "\n",
    "# Split the dataset into training and test sets\n",
    "X_train, X_test, y_train, y_test = train_test_split(df.drop(\"target\", axis=1), df[\"target\"], test_size=0.2, random_state=42)\n",
    "\n",
    "# Define and fit the AutoML model\n",
    "automl = ak.StructuredDataClassifier(max_trials=10, overwrite=True)\n",
    "automl.fit(X_train, y_train, epochs=10)\n",
    "\n",
    "# Evaluate the AutoML model on the test set\n",
    "accuracy = automl.evaluate(X_test, y_test)[1]\n",
    "print(\"Accuracy:\", accuracy)\n",
    "\n",
    "# Get the best model and its architecture\n",
    "best_model = automl.export_model()\n",
    "best_model.summary()"
   ]
  },
  {
   "cell_type": "markdown",
   "metadata": {
    "id": "x61gF4BAz7Rr"
   },
   "source": [
    "In this code, we first generate a synthetic dataset using the make_classification function and convert it to a pandas DataFrame. We then split the dataset into training and test sets using the train_test_split function.\n",
    "\n",
    "Next, we create an instance of the StructuredDataClassifier class from AutoKeras and fit it to the training data. The max_trials parameter controls the number of different model configurations to try during the search.\n",
    "\n",
    "After training the AutoML model, we evaluate its performance on the test set using the evaluate method. The accuracy is printed out as the evaluation result.\n",
    "\n",
    "And at the end, we export the best model obtained by AutoML using the export_model method, and print its summary to examine the model architecture and layers."
   ]
  },
  {
   "cell_type": "markdown",
   "metadata": {
    "id": "4fijxcrM59sx"
   },
   "source": [
    "These advanced feature engineering techniques require careful consideration, domain expertise, and experimentation. It's important to evaluate their impact on model performance and avoid overfitting or introducing unnecessary complexity. Successful application of these techniques can significantly enhance the predictive power and interpretability of machine learning models."
   ]
  },
  {
   "cell_type": "markdown",
   "metadata": {
    "id": "b2rFFIjm5_KI"
   },
   "source": [
    "## 10. Evaluating the Impact of Feature Engineering:"
   ]
  },
  {
   "cell_type": "markdown",
   "metadata": {
    "id": "ovwia0Pw5_OD"
   },
   "source": [
    "Evaluating the impact of feature engineering is crucial to assess the effectiveness of the engineered features in improving model performance. Here's an example code that demonstrates how to evaluate the impact of feature engineering using a machine learning model and cross-validation:"
   ]
  },
  {
   "cell_type": "code",
   "execution_count": 105,
   "metadata": {
    "colab": {
     "base_uri": "https://localhost:8080/"
    },
    "id": "R6S2e79r8jIj",
    "outputId": "6eca9ac3-15cc-41b5-8f71-e75084a87fcd"
   },
   "outputs": [
    {
     "name": "stdout",
     "output_type": "stream",
     "text": [
      "Baseline Accuracy: 0.9560937742586555\n",
      "PCA Accuracy: 0.9490296537804689\n",
      "Accuracy Improvement: -0.0070641204781866085\n",
      "Improvement Percentage: -0.7388522620246166\n"
     ]
    }
   ],
   "source": [
    "# Import Required Libraries\n",
    "import numpy as np\n",
    "import pandas as pd\n",
    "from sklearn.datasets import load_breast_cancer\n",
    "from sklearn.model_selection import cross_val_score\n",
    "from sklearn.ensemble import RandomForestClassifier\n",
    "from sklearn.preprocessing import StandardScaler\n",
    "from sklearn.decomposition import PCA\n",
    "from sklearn.pipeline import make_pipeline\n",
    "\n",
    "# Load the Breast Cancer dataset\n",
    "cancer = load_breast_cancer()\n",
    "X = cancer.data\n",
    "y = cancer.target\n",
    "\n",
    "# Create a baseline model without feature engineering\n",
    "baseline_model = make_pipeline(StandardScaler(), RandomForestClassifier(random_state=42))\n",
    "\n",
    "# Evaluate the baseline model using cross-validation\n",
    "baseline_scores = cross_val_score(baseline_model, X, y, cv=5, scoring='accuracy')\n",
    "baseline_accuracy = baseline_scores.mean()\n",
    "\n",
    "print(\"Baseline Accuracy:\", baseline_accuracy)\n",
    "\n",
    "# Create a model with feature engineering (PCA)\n",
    "pca_model = make_pipeline(StandardScaler(), PCA(n_components=10), RandomForestClassifier(random_state=42))\n",
    "\n",
    "# Evaluate the PCA model using cross-validation\n",
    "pca_scores = cross_val_score(pca_model, X, y, cv=5, scoring='accuracy')\n",
    "pca_accuracy = pca_scores.mean()\n",
    "\n",
    "print(\"PCA Accuracy:\", pca_accuracy)\n",
    "\n",
    "# Calculate the improvement in accuracy\n",
    "accuracy_improvement = pca_accuracy - baseline_accuracy\n",
    "improvement_percentage = (accuracy_improvement / baseline_accuracy) * 100\n",
    "\n",
    "print(\"Accuracy Improvement:\", accuracy_improvement)\n",
    "print(\"Improvement Percentage:\", improvement_percentage)"
   ]
  },
  {
   "cell_type": "markdown",
   "metadata": {
    "id": "J74KapHI5_SJ"
   },
   "source": [
    "In this code, we use the \"Breast Cancer\" dataset as an example. We start by creating a baseline model without any feature engineering, using a pipeline that includes standard scaling and a random forest classifier. We evaluate the baseline model using cross-validation and calculate the accuracy as the performance metric.\n",
    "\n",
    "Next, we create a model with feature engineering using Principal Component Analysis (PCA). The pipeline includes standard scaling, PCA with 10 components, and a random forest classifier. We evaluate the PCA model using cross-validation and calculate the accuracy.\n",
    "\n",
    "At last, we calculate the improvement in accuracy between the baseline and PCA models. The improvement is measured as the difference in accuracy values, and the percentage improvement is also calculated.\n",
    "\n",
    "By comparing the accuracy values and the improvement percentage, we can assess the impact of the feature engineering technique (in this case, PCA) on the model performance. This evaluation process allows us to determine if the engineered features are beneficial and contribute to better predictions compared to the baseline model."
   ]
  },
  {
   "cell_type": "markdown",
   "metadata": {
    "id": "eYWnlqip9cYs"
   },
   "source": [
    "## 11. Challenges and Best Practices in Feature Engineering:"
   ]
  },
  {
   "cell_type": "markdown",
   "metadata": {
    "id": "YKopNHkP9mXt"
   },
   "source": [
    "Feature engineering plays a crucial role in building effective machine learning models. It involves transforming raw data into meaningful features that capture relevant information and improve model performance. However, feature engineering is not without its challenges. In this article, we will explore some common challenges faced in feature engineering and discuss best practices to overcome them.\n",
    "\n",
    "1. Insufficient domain knowledge: One of the primary challenges in feature engineering is understanding the domain and the underlying data. Without domain knowledge, it can be challenging to identify relevant features and create meaningful transformations. Best practice: Invest time in understanding the domain, consult domain experts, and perform exploratory data analysis to gain insights into the data and identify potential feature engineering opportunities.\n",
    "\n",
    "\n",
    "2. Handling missing data: Real-world datasets often contain missing values, which can pose challenges in feature engineering. Missing data can lead to biased or incomplete features if not handled properly. Best practice: Evaluate the missing data pattern and apply suitable techniques such as imputation or deletion to handle missing values. Consider creating additional features to indicate missingness if it carries valuable information.\n",
    "\n",
    "\n",
    "3. Dealing with categorical variables: Categorical variables require special treatment in feature engineering. One-hot encoding can quickly increase the dimensionality of the dataset, leading to the curse of dimensionality. Best practice: Explore techniques such as ordinal encoding, frequency encoding, or target encoding to represent categorical variables effectively. Consider applying dimensionality reduction techniques like PCA or feature hashing to reduce the dimensionality while preserving the information.\n",
    "\n",
    "\n",
    "4. Feature scaling: Different features may have different scales, which can affect the performance of certain machine learning algorithms. It is essential to scale features to a similar range to avoid bias in model training. Best practice: Apply appropriate feature scaling techniques like standardization (mean normalization) or normalization (min-max scaling) to bring features to a common scale.\n",
    "\n",
    "\n",
    "5. Curse of dimensionality: As the number of features increases, the size of the feature space grows exponentially, leading to the curse of dimensionality. This can result in increased computational complexity and overfitting. Best practice: Perform feature selection or dimensionality reduction techniques such as filter methods (e.g., correlation-based feature selection), wrapper methods (e.g., recursive feature elimination), or embedded methods (e.g., L1 regularization) to reduce the feature space and improve model performance.\n",
    "\n",
    "\n",
    "6. Time and computational constraints: In some scenarios, feature engineering can be time-consuming and computationally intensive, especially when dealing with large datasets or complex transformations. Best practice: Prioritize feature engineering techniques based on their potential impact and feasibility within the given time and resource constraints. Consider using parallel processing or distributed computing frameworks to speed up feature engineering tasks.\n",
    "\n",
    "\n",
    "7. Overfitting: While feature engineering aims to improve model performance, it is important to be cautious about overfitting. Creating too many complex features or incorporating noise can lead to overfitting and poor generalization to unseen data. Best practice: Regularly evaluate the performance of the model on validation or hold-out datasets to identify signs of overfitting. Use techniques like cross-validation and regularization to mitigate overfitting risks.\n",
    "\n",
    "\n",
    "8. Automation and reproducibility: As feature engineering involves numerous iterations and transformations, it is essential to ensure automation and reproducibility. Manually performing feature engineering steps can be error-prone and make it challenging to reproduce the results. Best practice: Leverage feature engineering libraries and frameworks that provide automation and version control capabilities. Document and organize the feature engineering steps to maintain reproducibility.\n",
    "\n",
    "\n",
    "In conclusion, feature engineering is a critical component of the machine learning pipeline, but it comes with its challenges. By understanding these challenges and following best practices, data scientists can effectively overcome them and create informative and impactful features for their models. Remember to always experiment, iterate, and evaluate the impact of feature engineering techniques on model performance to ensure optimal results."
   ]
  },
  {
   "cell_type": "code",
   "execution_count": null,
   "metadata": {
    "id": "YUOX5WFM-IVo"
   },
   "outputs": [],
   "source": []
  }
 ],
 "metadata": {
  "colab": {
   "provenance": []
  },
  "kernelspec": {
   "display_name": "Python 3 (ipykernel)",
   "language": "python",
   "name": "python3"
  },
  "language_info": {
   "codemirror_mode": {
    "name": "ipython",
    "version": 3
   },
   "file_extension": ".py",
   "mimetype": "text/x-python",
   "name": "python",
   "nbconvert_exporter": "python",
   "pygments_lexer": "ipython3",
   "version": "3.9.12"
  }
 },
 "nbformat": 4,
 "nbformat_minor": 1
}
